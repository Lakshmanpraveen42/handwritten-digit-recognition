{
  "nbformat": 4,
  "nbformat_minor": 0,
  "metadata": {
    "colab": {
      "provenance": []
    },
    "kernelspec": {
      "name": "python3",
      "display_name": "Python 3"
    },
    "language_info": {
      "name": "python"
    }
  },
  "cells": [
    {
      "cell_type": "code",
      "source": [],
      "metadata": {
        "id": "X8tFMI1EDv4Y"
      },
      "execution_count": null,
      "outputs": []
    },
    {
      "cell_type": "code",
      "execution_count": 23,
      "metadata": {
        "id": "PXUhbdai6wIg"
      },
      "outputs": [],
      "source": [
        "from sklearn.datasets import load_digits\n",
        "digits = load_digits()"
      ]
    },
    {
      "cell_type": "code",
      "source": [
        "# Print to show there are 1797 images (8 by 8 images for a dimensionality of 64)\n",
        "print(\"Image Data Shape\" , digits.data.shape)\n",
        "\n",
        "# Print to show there are 1797 labels (integers from 0-9)\n",
        "print(\"Label Data Shape\", digits.target.shape)"
      ],
      "metadata": {
        "colab": {
          "base_uri": "https://localhost:8080/"
        },
        "id": "aO0h79qZ73uw",
        "outputId": "a686019f-8ac8-47bf-d130-a13a9a6412bb"
      },
      "execution_count": 24,
      "outputs": [
        {
          "output_type": "stream",
          "name": "stdout",
          "text": [
            "Image Data Shape (1797, 64)\n",
            "Label Data Shape (1797,)\n"
          ]
        }
      ]
    },
    {
      "cell_type": "code",
      "source": [
        "import numpy as np\n",
        "import matplotlib.pyplot as plt\n",
        "\n",
        "plt.figure(figsize=(15,4))\n",
        "for index, (image, label) in enumerate(zip(digits.data[0:5], digits.target[0:5])):\n",
        "    plt.subplot(1, 5, index + 1)\n",
        "    plt.imshow(np.reshape(image, (8,8)), cmap=plt.cm.Blues)\n",
        "    plt.title('Training: %i\\n' % label, fontsize = 20)"
      ],
      "metadata": {
        "colab": {
          "base_uri": "https://localhost:8080/",
          "height": 321
        },
        "id": "KzpehgV3734x",
        "outputId": "58300386-b228-48d5-cf0f-571ab428d554"
      },
      "execution_count": 25,
      "outputs": [
        {
          "output_type": "display_data",
          "data": {
            "text/plain": [
              "<Figure size 1500x400 with 5 Axes>"
            ],
            "image/png": "[encoded data removed]"
          },
          "metadata": {}
        }
      ]
    },
    {
      "cell_type": "code",
      "source": [
        "from sklearn.model_selection import train_test_split\n",
        "x_train, x_test, y_train, y_test = train_test_split(digits.data, digits.target, test_size=0.25, random_state=0)"
      ],
      "metadata": {
        "id": "XIfbReNp737m"
      },
      "execution_count": 26,
      "outputs": []
    },
    {
      "cell_type": "code",
      "source": [
        "from sklearn.linear_model import LogisticRegression\n",
        "logisticRegr = LogisticRegression()\n",
        "logisticRegr.fit(x_train, y_train)\n",
        "# Returns a NumPy Array\n",
        "# Predict for One Observation (image)\n",
        "logisticRegr.predict(x_test[0].reshape(1,-1))"
      ],
      "metadata": {
        "colab": {
          "base_uri": "https://localhost:8080/"
        },
        "id": "FlBshrjF8UPA",
        "outputId": "4b55afec-2699-4559-a988-d9da441564fb"
      },
      "execution_count": 27,
      "outputs": [
        {
          "output_type": "stream",
          "name": "stderr",
          "text": [
            "/usr/local/lib/python3.10/dist-packages/sklearn/linear_model/_logistic.py:458: ConvergenceWarning: lbfgs failed to converge (status=1):\n",
            "STOP: TOTAL NO. of ITERATIONS REACHED LIMIT.\n",
            "\n",
            "Increase the number of iterations (max_iter) or scale the data as shown in:\n",
            "    https://scikit-learn.org/stable/modules/preprocessing.html\n",
            "Please also refer to the documentation for alternative solver options:\n",
            "    https://scikit-learn.org/stable/modules/linear_model.html#logistic-regression\n",
            "  n_iter_i = _check_optimize_result(\n"
          ]
        },
        {
          "output_type": "execute_result",
          "data": {
            "text/plain": [
              "array([2])"
            ]
          },
          "metadata": {},
          "execution_count": 27
        }
      ]
    },
    {
      "cell_type": "code",
      "source": [
        "logisticRegr.predict(x_test[0:10])"
      ],
      "metadata": {
        "colab": {
          "base_uri": "https://localhost:8080/"
        },
        "id": "4ikzNoOM8UHd",
        "outputId": "2b7a1518-5ab8-40ba-99b6-a42cef0f338c"
      },
      "execution_count": 28,
      "outputs": [
        {
          "output_type": "execute_result",
          "data": {
            "text/plain": [
              "array([2, 8, 2, 6, 6, 7, 1, 9, 8, 5])"
            ]
          },
          "metadata": {},
          "execution_count": 28
        }
      ]
    },
    {
      "cell_type": "code",
      "source": [
        "predictions = logisticRegr.predict(x_test)"
      ],
      "metadata": {
        "id": "Eyjv8Ov58aA2"
      },
      "execution_count": 29,
      "outputs": []
    },
    {
      "cell_type": "code",
      "source": [
        "score = logisticRegr.score(x_test, y_test)\n",
        "print(score)"
      ],
      "metadata": {
        "colab": {
          "base_uri": "https://localhost:8080/"
        },
        "id": "VRKakeW98aD0",
        "outputId": "283c3a0d-facc-414d-f25a-824f1d465f4a"
      },
      "execution_count": 30,
      "outputs": [
        {
          "output_type": "stream",
          "name": "stdout",
          "text": [
            "0.9511111111111111\n"
          ]
        }
      ]
    },
    {
      "cell_type": "code",
      "source": [
        "import numpy as np\n",
        "import seaborn as sns\n",
        "from sklearn import metrics\n",
        "cm = metrics.confusion_matrix(y_test, predictions)\n",
        "plt.figure(figsize=(9,9))\n",
        "sns.heatmap(cm, annot=True, fmt=\".3f\", linewidths=.5, square = True, cmap = 'Blues_r');\n",
        "plt.ylabel('Actual label');\n",
        "plt.xlabel('Predicted label');\n",
        "all_sample_title = 'Accuracy Score: {0}'.format(score)\n",
        "plt.title(all_sample_title, size = 15);\n",
        "plt.savefig('toy_Digits_ConfusionSeabornCodementor.png')\n",
        "plt.show();"
      ],
      "metadata": {
        "colab": {
          "base_uri": "https://localhost:8080/",
          "height": 738
        },
        "id": "d6NUvf-Z8l4W",
        "outputId": "3911e66a-8227-4bbd-b440-bef8fc365c8c"
      },
      "execution_count": 31,
      "outputs": [
        {
          "output_type": "display_data",
          "data": {
            "text/plain": [
              "<Figure size 900x900 with 2 Axes>"
            ],
            "image/png": "[encoded data removed]"
          },
          "metadata": {}
        }
      ]
    },
    {
      "cell_type": "code",
      "source": [
        "#Predicting the Model\n",
        "n=int(input('enter a index:'))\n",
        "result=logisticRegr.predict(digits.images[n].reshape((1,-1)))\n",
        "plt.matshow(digits.images[n],cmap=plt.cm.gray_r,interpolation='nearest')\n",
        "plt.title('model prediction : %i'%result)\n",
        "#print.title(result)\n",
        "print(\"\\n\")\n",
        "plt.show()"
      ],
      "metadata": {
        "colab": {
          "base_uri": "https://localhost:8080/",
          "height": 511
        },
        "id": "tlfMeU6RA1VB",
        "outputId": "854d1394-57ec-494f-e23a-45a82eb12736"
      },
      "execution_count": 35,
      "outputs": [
        {
          "output_type": "stream",
          "name": "stdout",
          "text": [
            "enter a index:25\n",
            "\n",
            "\n"
          ]
        },
        {
          "output_type": "display_data",
          "data": {
            "text/plain": [
              "<Figure size 480x480 with 1 Axes>"
            ],
            "image/png": "[encoded data removed]"
          },
          "metadata": {}
        }
      ]
    },
    {
      "cell_type": "code",
      "source": [
        "from sklearn.model_selection import GridSearchCV,RandomizedSearchCV"
      ],
      "metadata": {
        "id": "8kBVHQNXBJ5k"
      },
      "execution_count": 37,
      "outputs": []
    },
    {
      "cell_type": "code",
      "source": [
        "params_grid={\n",
        "    'C':[1.0,10,20],\n",
        "    'max_iter':[1000,500,300,100],\n",
        "    'warm_start':[True,False],\n",
        "    'fit_intercept':[True,False],\n",
        "    'penalty':['l1','l2'],\n",
        "    'random_state':[21,42,15]\n",
        "  }\n",
        "gs=GridSearchCV(logisticRegr,params_grid,cv=3,verbose=2)\n",
        "gs.fit(x_train,y_train)"
      ],
      "metadata": {
        "colab": {
          "base_uri": "https://localhost:8080/",
          "height": 1000
        },
        "id": "Lt9VDb-RFUis",
        "outputId": "1c9398a7-d555-4377-8f00-0ce4276412da"
      },
      "execution_count": 42,
      "outputs": [
        {
          "output_type": "stream",
          "name": "stdout",
          "text": [
            "Fitting 3 folds for each of 288 candidates, totalling 864 fits\n",
            "[CV] END C=1.0, fit_intercept=True, max_iter=1000, penalty=l1, random_state=21, warm_start=True; total time=   0.0s\n",
            "[CV] END C=1.0, fit_intercept=True, max_iter=1000, penalty=l1, random_state=21, warm_start=True; total time=   0.0s\n",
            "[CV] END C=1.0, fit_intercept=True, max_iter=1000, penalty=l1, random_state=21, warm_start=True; total time=   0.0s\n",
            "[CV] END C=1.0, fit_intercept=True, max_iter=1000, penalty=l1, random_state=21, warm_start=False; total time=   0.0s\n",
            "[CV] END C=1.0, fit_intercept=True, max_iter=1000, penalty=l1, random_state=21, warm_start=False; total time=   0.0s\n",
            "[CV] END C=1.0, fit_intercept=True, max_iter=1000, penalty=l1, random_state=21, warm_start=False; total time=   0.0s\n",
            "[CV] END C=1.0, fit_intercept=True, max_iter=1000, penalty=l1, random_state=42, warm_start=True; total time=   0.0s\n",
            "[CV] END C=1.0, fit_intercept=True, max_iter=1000, penalty=l1, random_state=42, warm_start=True; total time=   0.0s\n",
            "[CV] END C=1.0, fit_intercept=True, max_iter=1000, penalty=l1, random_state=42, warm_start=True; total time=   0.0s\n",
            "[CV] END C=1.0, fit_intercept=True, max_iter=1000, penalty=l1, random_state=42, warm_start=False; total time=   0.0s\n",
            "[CV] END C=1.0, fit_intercept=True, max_iter=1000, penalty=l1, random_state=42, warm_start=False; total time=   0.0s\n",
            "[CV] END C=1.0, fit_intercept=True, max_iter=1000, penalty=l1, random_state=42, warm_start=False; total time=   0.0s\n",
            "[CV] END C=1.0, fit_intercept=True, max_iter=1000, penalty=l1, random_state=15, warm_start=True; total time=   0.0s\n",
            "[CV] END C=1.0, fit_intercept=True, max_iter=1000, penalty=l1, random_state=15, warm_start=True; total time=   0.0s\n",
            "[CV] END C=1.0, fit_intercept=True, max_iter=1000, penalty=l1, random_state=15, warm_start=True; total time=   0.0s\n",
            "[CV] END C=1.0, fit_intercept=True, max_iter=1000, penalty=l1, random_state=15, warm_start=False; total time=   0.0s\n",
            "[CV] END C=1.0, fit_intercept=True, max_iter=1000, penalty=l1, random_state=15, warm_start=False; total time=   0.0s\n",
            "[CV] END C=1.0, fit_intercept=True, max_iter=1000, penalty=l1, random_state=15, warm_start=False; total time=   0.0s\n"
          ]
        },
        {
          "output_type": "stream",
          "name": "stderr",
          "text": [
            "/usr/local/lib/python3.10/dist-packages/sklearn/linear_model/_logistic.py:458: ConvergenceWarning: lbfgs failed to converge (status=1):\n",
            "STOP: TOTAL NO. of ITERATIONS REACHED LIMIT.\n",
            "\n",
            "Increase the number of iterations (max_iter) or scale the data as shown in:\n",
            "    https://scikit-learn.org/stable/modules/preprocessing.html\n",
            "Please also refer to the documentation for alternative solver options:\n",
            "    https://scikit-learn.org/stable/modules/linear_model.html#logistic-regression\n",
            "  n_iter_i = _check_optimize_result(\n"
          ]
        },
        {
          "output_type": "stream",
          "name": "stdout",
          "text": [
            "[CV] END C=1.0, fit_intercept=True, max_iter=1000, penalty=l2, random_state=21, warm_start=True; total time=   2.7s\n"
          ]
        },
        {
          "output_type": "stream",
          "name": "stderr",
          "text": [
            "/usr/local/lib/python3.10/dist-packages/sklearn/linear_model/_logistic.py:458: ConvergenceWarning: lbfgs failed to converge (status=1):\n",
            "STOP: TOTAL NO. of ITERATIONS REACHED LIMIT.\n",
            "\n",
            "Increase the number of iterations (max_iter) or scale the data as shown in:\n",
            "    https://scikit-learn.org/stable/modules/preprocessing.html\n",
            "Please also refer to the documentation for alternative solver options:\n",
            "    https://scikit-learn.org/stable/modules/linear_model.html#logistic-regression\n",
            "  n_iter_i = _check_optimize_result(\n"
          ]
        },
        {
          "output_type": "stream",
          "name": "stdout",
          "text": [
            "[CV] END C=1.0, fit_intercept=True, max_iter=1000, penalty=l2, random_state=21, warm_start=True; total time=   1.9s\n"
          ]
        },
        {
          "output_type": "stream",
          "name": "stderr",
          "text": [
            "/usr/local/lib/python3.10/dist-packages/sklearn/linear_model/_logistic.py:458: ConvergenceWarning: lbfgs failed to converge (status=1):\n",
            "STOP: TOTAL NO. of ITERATIONS REACHED LIMIT.\n",
            "\n",
            "Increase the number of iterations (max_iter) or scale the data as shown in:\n",
            "    https://scikit-learn.org/stable/modules/preprocessing.html\n",
            "Please also refer to the documentation for alternative solver options:\n",
            "    https://scikit-learn.org/stable/modules/linear_model.html#logistic-regression\n",
            "  n_iter_i = _check_optimize_result(\n"
          ]
        },
        {
          "output_type": "stream",
          "name": "stdout",
          "text": [
            "[CV] END C=1.0, fit_intercept=True, max_iter=1000, penalty=l2, random_state=21, warm_start=True; total time=   2.6s\n"
          ]
        },
        {
          "output_type": "stream",
          "name": "stderr",
          "text": [
            "/usr/local/lib/python3.10/dist-packages/sklearn/linear_model/_logistic.py:458: ConvergenceWarning: lbfgs failed to converge (status=1):\n",
            "STOP: TOTAL NO. of ITERATIONS REACHED LIMIT.\n",
            "\n",
            "Increase the number of iterations (max_iter) or scale the data as shown in:\n",
            "    https://scikit-learn.org/stable/modules/preprocessing.html\n",
            "Please also refer to the documentation for alternative solver options:\n",
            "    https://scikit-learn.org/stable/modules/linear_model.html#logistic-regression\n",
            "  n_iter_i = _check_optimize_result(\n"
          ]
        },
        {
          "output_type": "stream",
          "name": "stdout",
          "text": [
            "[CV] END C=1.0, fit_intercept=True, max_iter=1000, penalty=l2, random_state=21, warm_start=False; total time=   2.8s\n"
          ]
        },
        {
          "output_type": "stream",
          "name": "stderr",
          "text": [
            "/usr/local/lib/python3.10/dist-packages/sklearn/linear_model/_logistic.py:458: ConvergenceWarning: lbfgs failed to converge (status=1):\n",
            "STOP: TOTAL NO. of ITERATIONS REACHED LIMIT.\n",
            "\n",
            "Increase the number of iterations (max_iter) or scale the data as shown in:\n",
            "    https://scikit-learn.org/stable/modules/preprocessing.html\n",
            "Please also refer to the documentation for alternative solver options:\n",
            "    https://scikit-learn.org/stable/modules/linear_model.html#logistic-regression\n",
            "  n_iter_i = _check_optimize_result(\n"
          ]
        },
        {
          "output_type": "stream",
          "name": "stdout",
          "text": [
            "[CV] END C=1.0, fit_intercept=True, max_iter=1000, penalty=l2, random_state=21, warm_start=False; total time=   1.1s\n"
          ]
        },
        {
          "output_type": "stream",
          "name": "stderr",
          "text": [
            "/usr/local/lib/python3.10/dist-packages/sklearn/linear_model/_logistic.py:458: ConvergenceWarning: lbfgs failed to converge (status=1):\n",
            "STOP: TOTAL NO. of ITERATIONS REACHED LIMIT.\n",
            "\n",
            "Increase the number of iterations (max_iter) or scale the data as shown in:\n",
            "    https://scikit-learn.org/stable/modules/preprocessing.html\n",
            "Please also refer to the documentation for alternative solver options:\n",
            "    https://scikit-learn.org/stable/modules/linear_model.html#logistic-regression\n",
            "  n_iter_i = _check_optimize_result(\n"
          ]
        },
        {
          "output_type": "stream",
          "name": "stdout",
          "text": [
            "[CV] END C=1.0, fit_intercept=True, max_iter=1000, penalty=l2, random_state=21, warm_start=False; total time=   1.1s\n"
          ]
        },
        {
          "output_type": "stream",
          "name": "stderr",
          "text": [
            "/usr/local/lib/python3.10/dist-packages/sklearn/linear_model/_logistic.py:458: ConvergenceWarning: lbfgs failed to converge (status=1):\n",
            "STOP: TOTAL NO. of ITERATIONS REACHED LIMIT.\n",
            "\n",
            "Increase the number of iterations (max_iter) or scale the data as shown in:\n",
            "    https://scikit-learn.org/stable/modules/preprocessing.html\n",
            "Please also refer to the documentation for alternative solver options:\n",
            "    https://scikit-learn.org/stable/modules/linear_model.html#logistic-regression\n",
            "  n_iter_i = _check_optimize_result(\n"
          ]
        },
        {
          "output_type": "stream",
          "name": "stdout",
          "text": [
            "[CV] END C=1.0, fit_intercept=True, max_iter=1000, penalty=l2, random_state=42, warm_start=True; total time=   1.1s\n"
          ]
        },
        {
          "output_type": "stream",
          "name": "stderr",
          "text": [
            "/usr/local/lib/python3.10/dist-packages/sklearn/linear_model/_logistic.py:458: ConvergenceWarning: lbfgs failed to converge (status=1):\n",
            "STOP: TOTAL NO. of ITERATIONS REACHED LIMIT.\n",
            "\n",
            "Increase the number of iterations (max_iter) or scale the data as shown in:\n",
            "    https://scikit-learn.org/stable/modules/preprocessing.html\n",
            "Please also refer to the documentation for alternative solver options:\n",
            "    https://scikit-learn.org/stable/modules/linear_model.html#logistic-regression\n",
            "  n_iter_i = _check_optimize_result(\n"
          ]
        },
        {
          "output_type": "stream",
          "name": "stdout",
          "text": [
            "[CV] END C=1.0, fit_intercept=True, max_iter=1000, penalty=l2, random_state=42, warm_start=True; total time=   1.1s\n"
          ]
        },
        {
          "output_type": "stream",
          "name": "stderr",
          "text": [
            "/usr/local/lib/python3.10/dist-packages/sklearn/linear_model/_logistic.py:458: ConvergenceWarning: lbfgs failed to converge (status=1):\n",
            "STOP: TOTAL NO. of ITERATIONS REACHED LIMIT.\n",
            "\n",
            "Increase the number of iterations (max_iter) or scale the data as shown in:\n",
            "    https://scikit-learn.org/stable/modules/preprocessing.html\n",
            "Please also refer to the documentation for alternative solver options:\n",
            "    https://scikit-learn.org/stable/modules/linear_model.html#logistic-regression\n",
            "  n_iter_i = _check_optimize_result(\n"
          ]
        },
        {
          "output_type": "stream",
          "name": "stdout",
          "text": [
            "[CV] END C=1.0, fit_intercept=True, max_iter=1000, penalty=l2, random_state=42, warm_start=True; total time=   1.1s\n"
          ]
        },
        {
          "output_type": "stream",
          "name": "stderr",
          "text": [
            "/usr/local/lib/python3.10/dist-packages/sklearn/linear_model/_logistic.py:458: ConvergenceWarning: lbfgs failed to converge (status=1):\n",
            "STOP: TOTAL NO. of ITERATIONS REACHED LIMIT.\n",
            "\n",
            "Increase the number of iterations (max_iter) or scale the data as shown in:\n",
            "    https://scikit-learn.org/stable/modules/preprocessing.html\n",
            "Please also refer to the documentation for alternative solver options:\n",
            "    https://scikit-learn.org/stable/modules/linear_model.html#logistic-regression\n",
            "  n_iter_i = _check_optimize_result(\n"
          ]
        },
        {
          "output_type": "stream",
          "name": "stdout",
          "text": [
            "[CV] END C=1.0, fit_intercept=True, max_iter=1000, penalty=l2, random_state=42, warm_start=False; total time=   1.2s\n"
          ]
        },
        {
          "output_type": "stream",
          "name": "stderr",
          "text": [
            "/usr/local/lib/python3.10/dist-packages/sklearn/linear_model/_logistic.py:458: ConvergenceWarning: lbfgs failed to converge (status=1):\n",
            "STOP: TOTAL NO. of ITERATIONS REACHED LIMIT.\n",
            "\n",
            "Increase the number of iterations (max_iter) or scale the data as shown in:\n",
            "    https://scikit-learn.org/stable/modules/preprocessing.html\n",
            "Please also refer to the documentation for alternative solver options:\n",
            "    https://scikit-learn.org/stable/modules/linear_model.html#logistic-regression\n",
            "  n_iter_i = _check_optimize_result(\n"
          ]
        },
        {
          "output_type": "stream",
          "name": "stdout",
          "text": [
            "[CV] END C=1.0, fit_intercept=True, max_iter=1000, penalty=l2, random_state=42, warm_start=False; total time=   1.1s\n"
          ]
        },
        {
          "output_type": "stream",
          "name": "stderr",
          "text": [
            "/usr/local/lib/python3.10/dist-packages/sklearn/linear_model/_logistic.py:458: ConvergenceWarning: lbfgs failed to converge (status=1):\n",
            "STOP: TOTAL NO. of ITERATIONS REACHED LIMIT.\n",
            "\n",
            "Increase the number of iterations (max_iter) or scale the data as shown in:\n",
            "    https://scikit-learn.org/stable/modules/preprocessing.html\n",
            "Please also refer to the documentation for alternative solver options:\n",
            "    https://scikit-learn.org/stable/modules/linear_model.html#logistic-regression\n",
            "  n_iter_i = _check_optimize_result(\n"
          ]
        },
        {
          "output_type": "stream",
          "name": "stdout",
          "text": [
            "[CV] END C=1.0, fit_intercept=True, max_iter=1000, penalty=l2, random_state=42, warm_start=False; total time=   1.1s\n"
          ]
        },
        {
          "output_type": "stream",
          "name": "stderr",
          "text": [
            "/usr/local/lib/python3.10/dist-packages/sklearn/linear_model/_logistic.py:458: ConvergenceWarning: lbfgs failed to converge (status=1):\n",
            "STOP: TOTAL NO. of ITERATIONS REACHED LIMIT.\n",
            "\n",
            "Increase the number of iterations (max_iter) or scale the data as shown in:\n",
            "    https://scikit-learn.org/stable/modules/preprocessing.html\n",
            "Please also refer to the documentation for alternative solver options:\n",
            "    https://scikit-learn.org/stable/modules/linear_model.html#logistic-regression\n",
            "  n_iter_i = _check_optimize_result(\n"
          ]
        },
        {
          "output_type": "stream",
          "name": "stdout",
          "text": [
            "[CV] END C=1.0, fit_intercept=True, max_iter=1000, penalty=l2, random_state=15, warm_start=True; total time=   1.5s\n"
          ]
        },
        {
          "output_type": "stream",
          "name": "stderr",
          "text": [
            "/usr/local/lib/python3.10/dist-packages/sklearn/linear_model/_logistic.py:458: ConvergenceWarning: lbfgs failed to converge (status=1):\n",
            "STOP: TOTAL NO. of ITERATIONS REACHED LIMIT.\n",
            "\n",
            "Increase the number of iterations (max_iter) or scale the data as shown in:\n",
            "    https://scikit-learn.org/stable/modules/preprocessing.html\n",
            "Please also refer to the documentation for alternative solver options:\n",
            "    https://scikit-learn.org/stable/modules/linear_model.html#logistic-regression\n",
            "  n_iter_i = _check_optimize_result(\n"
          ]
        },
        {
          "output_type": "stream",
          "name": "stdout",
          "text": [
            "[CV] END C=1.0, fit_intercept=True, max_iter=1000, penalty=l2, random_state=15, warm_start=True; total time=   2.6s\n"
          ]
        },
        {
          "output_type": "stream",
          "name": "stderr",
          "text": [
            "/usr/local/lib/python3.10/dist-packages/sklearn/linear_model/_logistic.py:458: ConvergenceWarning: lbfgs failed to converge (status=1):\n",
            "STOP: TOTAL NO. of ITERATIONS REACHED LIMIT.\n",
            "\n",
            "Increase the number of iterations (max_iter) or scale the data as shown in:\n",
            "    https://scikit-learn.org/stable/modules/preprocessing.html\n",
            "Please also refer to the documentation for alternative solver options:\n",
            "    https://scikit-learn.org/stable/modules/linear_model.html#logistic-regression\n",
            "  n_iter_i = _check_optimize_result(\n"
          ]
        },
        {
          "output_type": "stream",
          "name": "stdout",
          "text": [
            "[CV] END C=1.0, fit_intercept=True, max_iter=1000, penalty=l2, random_state=15, warm_start=True; total time=   2.5s\n"
          ]
        },
        {
          "output_type": "stream",
          "name": "stderr",
          "text": [
            "/usr/local/lib/python3.10/dist-packages/sklearn/linear_model/_logistic.py:458: ConvergenceWarning: lbfgs failed to converge (status=1):\n",
            "STOP: TOTAL NO. of ITERATIONS REACHED LIMIT.\n",
            "\n",
            "Increase the number of iterations (max_iter) or scale the data as shown in:\n",
            "    https://scikit-learn.org/stable/modules/preprocessing.html\n",
            "Please also refer to the documentation for alternative solver options:\n",
            "    https://scikit-learn.org/stable/modules/linear_model.html#logistic-regression\n",
            "  n_iter_i = _check_optimize_result(\n"
          ]
        },
        {
          "output_type": "stream",
          "name": "stdout",
          "text": [
            "[CV] END C=1.0, fit_intercept=True, max_iter=1000, penalty=l2, random_state=15, warm_start=False; total time=   1.2s\n"
          ]
        },
        {
          "output_type": "stream",
          "name": "stderr",
          "text": [
            "/usr/local/lib/python3.10/dist-packages/sklearn/linear_model/_logistic.py:458: ConvergenceWarning: lbfgs failed to converge (status=1):\n",
            "STOP: TOTAL NO. of ITERATIONS REACHED LIMIT.\n",
            "\n",
            "Increase the number of iterations (max_iter) or scale the data as shown in:\n",
            "    https://scikit-learn.org/stable/modules/preprocessing.html\n",
            "Please also refer to the documentation for alternative solver options:\n",
            "    https://scikit-learn.org/stable/modules/linear_model.html#logistic-regression\n",
            "  n_iter_i = _check_optimize_result(\n"
          ]
        },
        {
          "output_type": "stream",
          "name": "stdout",
          "text": [
            "[CV] END C=1.0, fit_intercept=True, max_iter=1000, penalty=l2, random_state=15, warm_start=False; total time=   1.1s\n"
          ]
        },
        {
          "output_type": "stream",
          "name": "stderr",
          "text": [
            "/usr/local/lib/python3.10/dist-packages/sklearn/linear_model/_logistic.py:458: ConvergenceWarning: lbfgs failed to converge (status=1):\n",
            "STOP: TOTAL NO. of ITERATIONS REACHED LIMIT.\n",
            "\n",
            "Increase the number of iterations (max_iter) or scale the data as shown in:\n",
            "    https://scikit-learn.org/stable/modules/preprocessing.html\n",
            "Please also refer to the documentation for alternative solver options:\n",
            "    https://scikit-learn.org/stable/modules/linear_model.html#logistic-regression\n",
            "  n_iter_i = _check_optimize_result(\n"
          ]
        },
        {
          "output_type": "stream",
          "name": "stdout",
          "text": [
            "[CV] END C=1.0, fit_intercept=True, max_iter=1000, penalty=l2, random_state=15, warm_start=False; total time=   1.1s\n",
            "[CV] END C=1.0, fit_intercept=True, max_iter=500, penalty=l1, random_state=21, warm_start=True; total time=   0.0s\n",
            "[CV] END C=1.0, fit_intercept=True, max_iter=500, penalty=l1, random_state=21, warm_start=True; total time=   0.0s\n",
            "[CV] END C=1.0, fit_intercept=True, max_iter=500, penalty=l1, random_state=21, warm_start=True; total time=   0.0s\n",
            "[CV] END C=1.0, fit_intercept=True, max_iter=500, penalty=l1, random_state=21, warm_start=False; total time=   0.0s\n",
            "[CV] END C=1.0, fit_intercept=True, max_iter=500, penalty=l1, random_state=21, warm_start=False; total time=   0.0s\n",
            "[CV] END C=1.0, fit_intercept=True, max_iter=500, penalty=l1, random_state=21, warm_start=False; total time=   0.0s\n",
            "[CV] END C=1.0, fit_intercept=True, max_iter=500, penalty=l1, random_state=42, warm_start=True; total time=   0.0s\n",
            "[CV] END C=1.0, fit_intercept=True, max_iter=500, penalty=l1, random_state=42, warm_start=True; total time=   0.0s\n",
            "[CV] END C=1.0, fit_intercept=True, max_iter=500, penalty=l1, random_state=42, warm_start=True; total time=   0.0s\n",
            "[CV] END C=1.0, fit_intercept=True, max_iter=500, penalty=l1, random_state=42, warm_start=False; total time=   0.0s\n",
            "[CV] END C=1.0, fit_intercept=True, max_iter=500, penalty=l1, random_state=42, warm_start=False; total time=   0.0s\n",
            "[CV] END C=1.0, fit_intercept=True, max_iter=500, penalty=l1, random_state=42, warm_start=False; total time=   0.0s\n",
            "[CV] END C=1.0, fit_intercept=True, max_iter=500, penalty=l1, random_state=15, warm_start=True; total time=   0.0s\n",
            "[CV] END C=1.0, fit_intercept=True, max_iter=500, penalty=l1, random_state=15, warm_start=True; total time=   0.0s\n",
            "[CV] END C=1.0, fit_intercept=True, max_iter=500, penalty=l1, random_state=15, warm_start=True; total time=   0.0s\n",
            "[CV] END C=1.0, fit_intercept=True, max_iter=500, penalty=l1, random_state=15, warm_start=False; total time=   0.0s\n",
            "[CV] END C=1.0, fit_intercept=True, max_iter=500, penalty=l1, random_state=15, warm_start=False; total time=   0.0s\n",
            "[CV] END C=1.0, fit_intercept=True, max_iter=500, penalty=l1, random_state=15, warm_start=False; total time=   0.0s\n"
          ]
        },
        {
          "output_type": "stream",
          "name": "stderr",
          "text": [
            "/usr/local/lib/python3.10/dist-packages/sklearn/linear_model/_logistic.py:458: ConvergenceWarning: lbfgs failed to converge (status=1):\n",
            "STOP: TOTAL NO. of ITERATIONS REACHED LIMIT.\n",
            "\n",
            "Increase the number of iterations (max_iter) or scale the data as shown in:\n",
            "    https://scikit-learn.org/stable/modules/preprocessing.html\n",
            "Please also refer to the documentation for alternative solver options:\n",
            "    https://scikit-learn.org/stable/modules/linear_model.html#logistic-regression\n",
            "  n_iter_i = _check_optimize_result(\n"
          ]
        },
        {
          "output_type": "stream",
          "name": "stdout",
          "text": [
            "[CV] END C=1.0, fit_intercept=True, max_iter=500, penalty=l2, random_state=21, warm_start=True; total time=   0.6s\n"
          ]
        },
        {
          "output_type": "stream",
          "name": "stderr",
          "text": [
            "/usr/local/lib/python3.10/dist-packages/sklearn/linear_model/_logistic.py:458: ConvergenceWarning: lbfgs failed to converge (status=1):\n",
            "STOP: TOTAL NO. of ITERATIONS REACHED LIMIT.\n",
            "\n",
            "Increase the number of iterations (max_iter) or scale the data as shown in:\n",
            "    https://scikit-learn.org/stable/modules/preprocessing.html\n",
            "Please also refer to the documentation for alternative solver options:\n",
            "    https://scikit-learn.org/stable/modules/linear_model.html#logistic-regression\n",
            "  n_iter_i = _check_optimize_result(\n"
          ]
        },
        {
          "output_type": "stream",
          "name": "stdout",
          "text": [
            "[CV] END C=1.0, fit_intercept=True, max_iter=500, penalty=l2, random_state=21, warm_start=True; total time=   0.6s\n"
          ]
        },
        {
          "output_type": "stream",
          "name": "stderr",
          "text": [
            "/usr/local/lib/python3.10/dist-packages/sklearn/linear_model/_logistic.py:458: ConvergenceWarning: lbfgs failed to converge (status=1):\n",
            "STOP: TOTAL NO. of ITERATIONS REACHED LIMIT.\n",
            "\n",
            "Increase the number of iterations (max_iter) or scale the data as shown in:\n",
            "    https://scikit-learn.org/stable/modules/preprocessing.html\n",
            "Please also refer to the documentation for alternative solver options:\n",
            "    https://scikit-learn.org/stable/modules/linear_model.html#logistic-regression\n",
            "  n_iter_i = _check_optimize_result(\n"
          ]
        },
        {
          "output_type": "stream",
          "name": "stdout",
          "text": [
            "[CV] END C=1.0, fit_intercept=True, max_iter=500, penalty=l2, random_state=21, warm_start=True; total time=   0.6s\n"
          ]
        },
        {
          "output_type": "stream",
          "name": "stderr",
          "text": [
            "/usr/local/lib/python3.10/dist-packages/sklearn/linear_model/_logistic.py:458: ConvergenceWarning: lbfgs failed to converge (status=1):\n",
            "STOP: TOTAL NO. of ITERATIONS REACHED LIMIT.\n",
            "\n",
            "Increase the number of iterations (max_iter) or scale the data as shown in:\n",
            "    https://scikit-learn.org/stable/modules/preprocessing.html\n",
            "Please also refer to the documentation for alternative solver options:\n",
            "    https://scikit-learn.org/stable/modules/linear_model.html#logistic-regression\n",
            "  n_iter_i = _check_optimize_result(\n"
          ]
        },
        {
          "output_type": "stream",
          "name": "stdout",
          "text": [
            "[CV] END C=1.0, fit_intercept=True, max_iter=500, penalty=l2, random_state=21, warm_start=False; total time=   0.6s\n"
          ]
        },
        {
          "output_type": "stream",
          "name": "stderr",
          "text": [
            "/usr/local/lib/python3.10/dist-packages/sklearn/linear_model/_logistic.py:458: ConvergenceWarning: lbfgs failed to converge (status=1):\n",
            "STOP: TOTAL NO. of ITERATIONS REACHED LIMIT.\n",
            "\n",
            "Increase the number of iterations (max_iter) or scale the data as shown in:\n",
            "    https://scikit-learn.org/stable/modules/preprocessing.html\n",
            "Please also refer to the documentation for alternative solver options:\n",
            "    https://scikit-learn.org/stable/modules/linear_model.html#logistic-regression\n",
            "  n_iter_i = _check_optimize_result(\n"
          ]
        },
        {
          "output_type": "stream",
          "name": "stdout",
          "text": [
            "[CV] END C=1.0, fit_intercept=True, max_iter=500, penalty=l2, random_state=21, warm_start=False; total time=   0.6s\n"
          ]
        },
        {
          "output_type": "stream",
          "name": "stderr",
          "text": [
            "/usr/local/lib/python3.10/dist-packages/sklearn/linear_model/_logistic.py:458: ConvergenceWarning: lbfgs failed to converge (status=1):\n",
            "STOP: TOTAL NO. of ITERATIONS REACHED LIMIT.\n",
            "\n",
            "Increase the number of iterations (max_iter) or scale the data as shown in:\n",
            "    https://scikit-learn.org/stable/modules/preprocessing.html\n",
            "Please also refer to the documentation for alternative solver options:\n",
            "    https://scikit-learn.org/stable/modules/linear_model.html#logistic-regression\n",
            "  n_iter_i = _check_optimize_result(\n"
          ]
        },
        {
          "output_type": "stream",
          "name": "stdout",
          "text": [
            "[CV] END C=1.0, fit_intercept=True, max_iter=500, penalty=l2, random_state=21, warm_start=False; total time=   0.6s\n"
          ]
        },
        {
          "output_type": "stream",
          "name": "stderr",
          "text": [
            "/usr/local/lib/python3.10/dist-packages/sklearn/linear_model/_logistic.py:458: ConvergenceWarning: lbfgs failed to converge (status=1):\n",
            "STOP: TOTAL NO. of ITERATIONS REACHED LIMIT.\n",
            "\n",
            "Increase the number of iterations (max_iter) or scale the data as shown in:\n",
            "    https://scikit-learn.org/stable/modules/preprocessing.html\n",
            "Please also refer to the documentation for alternative solver options:\n",
            "    https://scikit-learn.org/stable/modules/linear_model.html#logistic-regression\n",
            "  n_iter_i = _check_optimize_result(\n"
          ]
        },
        {
          "output_type": "stream",
          "name": "stdout",
          "text": [
            "[CV] END C=1.0, fit_intercept=True, max_iter=500, penalty=l2, random_state=42, warm_start=True; total time=   0.6s\n"
          ]
        },
        {
          "output_type": "stream",
          "name": "stderr",
          "text": [
            "/usr/local/lib/python3.10/dist-packages/sklearn/linear_model/_logistic.py:458: ConvergenceWarning: lbfgs failed to converge (status=1):\n",
            "STOP: TOTAL NO. of ITERATIONS REACHED LIMIT.\n",
            "\n",
            "Increase the number of iterations (max_iter) or scale the data as shown in:\n",
            "    https://scikit-learn.org/stable/modules/preprocessing.html\n",
            "Please also refer to the documentation for alternative solver options:\n",
            "    https://scikit-learn.org/stable/modules/linear_model.html#logistic-regression\n",
            "  n_iter_i = _check_optimize_result(\n"
          ]
        },
        {
          "output_type": "stream",
          "name": "stdout",
          "text": [
            "[CV] END C=1.0, fit_intercept=True, max_iter=500, penalty=l2, random_state=42, warm_start=True; total time=   0.6s\n"
          ]
        },
        {
          "output_type": "stream",
          "name": "stderr",
          "text": [
            "/usr/local/lib/python3.10/dist-packages/sklearn/linear_model/_logistic.py:458: ConvergenceWarning: lbfgs failed to converge (status=1):\n",
            "STOP: TOTAL NO. of ITERATIONS REACHED LIMIT.\n",
            "\n",
            "Increase the number of iterations (max_iter) or scale the data as shown in:\n",
            "    https://scikit-learn.org/stable/modules/preprocessing.html\n",
            "Please also refer to the documentation for alternative solver options:\n",
            "    https://scikit-learn.org/stable/modules/linear_model.html#logistic-regression\n",
            "  n_iter_i = _check_optimize_result(\n"
          ]
        },
        {
          "output_type": "stream",
          "name": "stdout",
          "text": [
            "[CV] END C=1.0, fit_intercept=True, max_iter=500, penalty=l2, random_state=42, warm_start=True; total time=   0.6s\n"
          ]
        },
        {
          "output_type": "stream",
          "name": "stderr",
          "text": [
            "/usr/local/lib/python3.10/dist-packages/sklearn/linear_model/_logistic.py:458: ConvergenceWarning: lbfgs failed to converge (status=1):\n",
            "STOP: TOTAL NO. of ITERATIONS REACHED LIMIT.\n",
            "\n",
            "Increase the number of iterations (max_iter) or scale the data as shown in:\n",
            "    https://scikit-learn.org/stable/modules/preprocessing.html\n",
            "Please also refer to the documentation for alternative solver options:\n",
            "    https://scikit-learn.org/stable/modules/linear_model.html#logistic-regression\n",
            "  n_iter_i = _check_optimize_result(\n"
          ]
        },
        {
          "output_type": "stream",
          "name": "stdout",
          "text": [
            "[CV] END C=1.0, fit_intercept=True, max_iter=500, penalty=l2, random_state=42, warm_start=False; total time=   0.6s\n"
          ]
        },
        {
          "output_type": "stream",
          "name": "stderr",
          "text": [
            "/usr/local/lib/python3.10/dist-packages/sklearn/linear_model/_logistic.py:458: ConvergenceWarning: lbfgs failed to converge (status=1):\n",
            "STOP: TOTAL NO. of ITERATIONS REACHED LIMIT.\n",
            "\n",
            "Increase the number of iterations (max_iter) or scale the data as shown in:\n",
            "    https://scikit-learn.org/stable/modules/preprocessing.html\n",
            "Please also refer to the documentation for alternative solver options:\n",
            "    https://scikit-learn.org/stable/modules/linear_model.html#logistic-regression\n",
            "  n_iter_i = _check_optimize_result(\n"
          ]
        },
        {
          "output_type": "stream",
          "name": "stdout",
          "text": [
            "[CV] END C=1.0, fit_intercept=True, max_iter=500, penalty=l2, random_state=42, warm_start=False; total time=   0.6s\n"
          ]
        },
        {
          "output_type": "stream",
          "name": "stderr",
          "text": [
            "/usr/local/lib/python3.10/dist-packages/sklearn/linear_model/_logistic.py:458: ConvergenceWarning: lbfgs failed to converge (status=1):\n",
            "STOP: TOTAL NO. of ITERATIONS REACHED LIMIT.\n",
            "\n",
            "Increase the number of iterations (max_iter) or scale the data as shown in:\n",
            "    https://scikit-learn.org/stable/modules/preprocessing.html\n",
            "Please also refer to the documentation for alternative solver options:\n",
            "    https://scikit-learn.org/stable/modules/linear_model.html#logistic-regression\n",
            "  n_iter_i = _check_optimize_result(\n"
          ]
        },
        {
          "output_type": "stream",
          "name": "stdout",
          "text": [
            "[CV] END C=1.0, fit_intercept=True, max_iter=500, penalty=l2, random_state=42, warm_start=False; total time=   1.3s\n"
          ]
        },
        {
          "output_type": "stream",
          "name": "stderr",
          "text": [
            "/usr/local/lib/python3.10/dist-packages/sklearn/linear_model/_logistic.py:458: ConvergenceWarning: lbfgs failed to converge (status=1):\n",
            "STOP: TOTAL NO. of ITERATIONS REACHED LIMIT.\n",
            "\n",
            "Increase the number of iterations (max_iter) or scale the data as shown in:\n",
            "    https://scikit-learn.org/stable/modules/preprocessing.html\n",
            "Please also refer to the documentation for alternative solver options:\n",
            "    https://scikit-learn.org/stable/modules/linear_model.html#logistic-regression\n",
            "  n_iter_i = _check_optimize_result(\n"
          ]
        },
        {
          "output_type": "stream",
          "name": "stdout",
          "text": [
            "[CV] END C=1.0, fit_intercept=True, max_iter=500, penalty=l2, random_state=15, warm_start=True; total time=   1.4s\n"
          ]
        },
        {
          "output_type": "stream",
          "name": "stderr",
          "text": [
            "/usr/local/lib/python3.10/dist-packages/sklearn/linear_model/_logistic.py:458: ConvergenceWarning: lbfgs failed to converge (status=1):\n",
            "STOP: TOTAL NO. of ITERATIONS REACHED LIMIT.\n",
            "\n",
            "Increase the number of iterations (max_iter) or scale the data as shown in:\n",
            "    https://scikit-learn.org/stable/modules/preprocessing.html\n",
            "Please also refer to the documentation for alternative solver options:\n",
            "    https://scikit-learn.org/stable/modules/linear_model.html#logistic-regression\n",
            "  n_iter_i = _check_optimize_result(\n"
          ]
        },
        {
          "output_type": "stream",
          "name": "stdout",
          "text": [
            "[CV] END C=1.0, fit_intercept=True, max_iter=500, penalty=l2, random_state=15, warm_start=True; total time=   1.2s\n"
          ]
        },
        {
          "output_type": "stream",
          "name": "stderr",
          "text": [
            "/usr/local/lib/python3.10/dist-packages/sklearn/linear_model/_logistic.py:458: ConvergenceWarning: lbfgs failed to converge (status=1):\n",
            "STOP: TOTAL NO. of ITERATIONS REACHED LIMIT.\n",
            "\n",
            "Increase the number of iterations (max_iter) or scale the data as shown in:\n",
            "    https://scikit-learn.org/stable/modules/preprocessing.html\n",
            "Please also refer to the documentation for alternative solver options:\n",
            "    https://scikit-learn.org/stable/modules/linear_model.html#logistic-regression\n",
            "  n_iter_i = _check_optimize_result(\n"
          ]
        },
        {
          "output_type": "stream",
          "name": "stdout",
          "text": [
            "[CV] END C=1.0, fit_intercept=True, max_iter=500, penalty=l2, random_state=15, warm_start=True; total time=   1.3s\n"
          ]
        },
        {
          "output_type": "stream",
          "name": "stderr",
          "text": [
            "/usr/local/lib/python3.10/dist-packages/sklearn/linear_model/_logistic.py:458: ConvergenceWarning: lbfgs failed to converge (status=1):\n",
            "STOP: TOTAL NO. of ITERATIONS REACHED LIMIT.\n",
            "\n",
            "Increase the number of iterations (max_iter) or scale the data as shown in:\n",
            "    https://scikit-learn.org/stable/modules/preprocessing.html\n",
            "Please also refer to the documentation for alternative solver options:\n",
            "    https://scikit-learn.org/stable/modules/linear_model.html#logistic-regression\n",
            "  n_iter_i = _check_optimize_result(\n"
          ]
        },
        {
          "output_type": "stream",
          "name": "stdout",
          "text": [
            "[CV] END C=1.0, fit_intercept=True, max_iter=500, penalty=l2, random_state=15, warm_start=False; total time=   0.7s\n"
          ]
        },
        {
          "output_type": "stream",
          "name": "stderr",
          "text": [
            "/usr/local/lib/python3.10/dist-packages/sklearn/linear_model/_logistic.py:458: ConvergenceWarning: lbfgs failed to converge (status=1):\n",
            "STOP: TOTAL NO. of ITERATIONS REACHED LIMIT.\n",
            "\n",
            "Increase the number of iterations (max_iter) or scale the data as shown in:\n",
            "    https://scikit-learn.org/stable/modules/preprocessing.html\n",
            "Please also refer to the documentation for alternative solver options:\n",
            "    https://scikit-learn.org/stable/modules/linear_model.html#logistic-regression\n",
            "  n_iter_i = _check_optimize_result(\n"
          ]
        },
        {
          "output_type": "stream",
          "name": "stdout",
          "text": [
            "[CV] END C=1.0, fit_intercept=True, max_iter=500, penalty=l2, random_state=15, warm_start=False; total time=   0.6s\n"
          ]
        },
        {
          "output_type": "stream",
          "name": "stderr",
          "text": [
            "/usr/local/lib/python3.10/dist-packages/sklearn/linear_model/_logistic.py:458: ConvergenceWarning: lbfgs failed to converge (status=1):\n",
            "STOP: TOTAL NO. of ITERATIONS REACHED LIMIT.\n",
            "\n",
            "Increase the number of iterations (max_iter) or scale the data as shown in:\n",
            "    https://scikit-learn.org/stable/modules/preprocessing.html\n",
            "Please also refer to the documentation for alternative solver options:\n",
            "    https://scikit-learn.org/stable/modules/linear_model.html#logistic-regression\n",
            "  n_iter_i = _check_optimize_result(\n"
          ]
        },
        {
          "output_type": "stream",
          "name": "stdout",
          "text": [
            "[CV] END C=1.0, fit_intercept=True, max_iter=500, penalty=l2, random_state=15, warm_start=False; total time=   0.6s\n",
            "[CV] END C=1.0, fit_intercept=True, max_iter=300, penalty=l1, random_state=21, warm_start=True; total time=   0.0s\n",
            "[CV] END C=1.0, fit_intercept=True, max_iter=300, penalty=l1, random_state=21, warm_start=True; total time=   0.0s\n",
            "[CV] END C=1.0, fit_intercept=True, max_iter=300, penalty=l1, random_state=21, warm_start=True; total time=   0.0s\n",
            "[CV] END C=1.0, fit_intercept=True, max_iter=300, penalty=l1, random_state=21, warm_start=False; total time=   0.0s\n",
            "[CV] END C=1.0, fit_intercept=True, max_iter=300, penalty=l1, random_state=21, warm_start=False; total time=   0.0s\n",
            "[CV] END C=1.0, fit_intercept=True, max_iter=300, penalty=l1, random_state=21, warm_start=False; total time=   0.0s\n",
            "[CV] END C=1.0, fit_intercept=True, max_iter=300, penalty=l1, random_state=42, warm_start=True; total time=   0.0s\n",
            "[CV] END C=1.0, fit_intercept=True, max_iter=300, penalty=l1, random_state=42, warm_start=True; total time=   0.0s\n",
            "[CV] END C=1.0, fit_intercept=True, max_iter=300, penalty=l1, random_state=42, warm_start=True; total time=   0.0s\n",
            "[CV] END C=1.0, fit_intercept=True, max_iter=300, penalty=l1, random_state=42, warm_start=False; total time=   0.0s\n",
            "[CV] END C=1.0, fit_intercept=True, max_iter=300, penalty=l1, random_state=42, warm_start=False; total time=   0.0s\n",
            "[CV] END C=1.0, fit_intercept=True, max_iter=300, penalty=l1, random_state=42, warm_start=False; total time=   0.0s\n",
            "[CV] END C=1.0, fit_intercept=True, max_iter=300, penalty=l1, random_state=15, warm_start=True; total time=   0.0s\n",
            "[CV] END C=1.0, fit_intercept=True, max_iter=300, penalty=l1, random_state=15, warm_start=True; total time=   0.0s\n",
            "[CV] END C=1.0, fit_intercept=True, max_iter=300, penalty=l1, random_state=15, warm_start=True; total time=   0.0s\n",
            "[CV] END C=1.0, fit_intercept=True, max_iter=300, penalty=l1, random_state=15, warm_start=False; total time=   0.0s\n",
            "[CV] END C=1.0, fit_intercept=True, max_iter=300, penalty=l1, random_state=15, warm_start=False; total time=   0.0s\n",
            "[CV] END C=1.0, fit_intercept=True, max_iter=300, penalty=l1, random_state=15, warm_start=False; total time=   0.0s\n"
          ]
        },
        {
          "output_type": "stream",
          "name": "stderr",
          "text": [
            "/usr/local/lib/python3.10/dist-packages/sklearn/linear_model/_logistic.py:458: ConvergenceWarning: lbfgs failed to converge (status=1):\n",
            "STOP: TOTAL NO. of ITERATIONS REACHED LIMIT.\n",
            "\n",
            "Increase the number of iterations (max_iter) or scale the data as shown in:\n",
            "    https://scikit-learn.org/stable/modules/preprocessing.html\n",
            "Please also refer to the documentation for alternative solver options:\n",
            "    https://scikit-learn.org/stable/modules/linear_model.html#logistic-regression\n",
            "  n_iter_i = _check_optimize_result(\n"
          ]
        },
        {
          "output_type": "stream",
          "name": "stdout",
          "text": [
            "[CV] END C=1.0, fit_intercept=True, max_iter=300, penalty=l2, random_state=21, warm_start=True; total time=   0.3s\n"
          ]
        },
        {
          "output_type": "stream",
          "name": "stderr",
          "text": [
            "/usr/local/lib/python3.10/dist-packages/sklearn/linear_model/_logistic.py:458: ConvergenceWarning: lbfgs failed to converge (status=1):\n",
            "STOP: TOTAL NO. of ITERATIONS REACHED LIMIT.\n",
            "\n",
            "Increase the number of iterations (max_iter) or scale the data as shown in:\n",
            "    https://scikit-learn.org/stable/modules/preprocessing.html\n",
            "Please also refer to the documentation for alternative solver options:\n",
            "    https://scikit-learn.org/stable/modules/linear_model.html#logistic-regression\n",
            "  n_iter_i = _check_optimize_result(\n"
          ]
        },
        {
          "output_type": "stream",
          "name": "stdout",
          "text": [
            "[CV] END C=1.0, fit_intercept=True, max_iter=300, penalty=l2, random_state=21, warm_start=True; total time=   0.4s\n"
          ]
        },
        {
          "output_type": "stream",
          "name": "stderr",
          "text": [
            "/usr/local/lib/python3.10/dist-packages/sklearn/linear_model/_logistic.py:458: ConvergenceWarning: lbfgs failed to converge (status=1):\n",
            "STOP: TOTAL NO. of ITERATIONS REACHED LIMIT.\n",
            "\n",
            "Increase the number of iterations (max_iter) or scale the data as shown in:\n",
            "    https://scikit-learn.org/stable/modules/preprocessing.html\n",
            "Please also refer to the documentation for alternative solver options:\n",
            "    https://scikit-learn.org/stable/modules/linear_model.html#logistic-regression\n",
            "  n_iter_i = _check_optimize_result(\n"
          ]
        },
        {
          "output_type": "stream",
          "name": "stdout",
          "text": [
            "[CV] END C=1.0, fit_intercept=True, max_iter=300, penalty=l2, random_state=21, warm_start=True; total time=   0.3s\n"
          ]
        },
        {
          "output_type": "stream",
          "name": "stderr",
          "text": [
            "/usr/local/lib/python3.10/dist-packages/sklearn/linear_model/_logistic.py:458: ConvergenceWarning: lbfgs failed to converge (status=1):\n",
            "STOP: TOTAL NO. of ITERATIONS REACHED LIMIT.\n",
            "\n",
            "Increase the number of iterations (max_iter) or scale the data as shown in:\n",
            "    https://scikit-learn.org/stable/modules/preprocessing.html\n",
            "Please also refer to the documentation for alternative solver options:\n",
            "    https://scikit-learn.org/stable/modules/linear_model.html#logistic-regression\n",
            "  n_iter_i = _check_optimize_result(\n"
          ]
        },
        {
          "output_type": "stream",
          "name": "stdout",
          "text": [
            "[CV] END C=1.0, fit_intercept=True, max_iter=300, penalty=l2, random_state=21, warm_start=False; total time=   0.3s\n"
          ]
        },
        {
          "output_type": "stream",
          "name": "stderr",
          "text": [
            "/usr/local/lib/python3.10/dist-packages/sklearn/linear_model/_logistic.py:458: ConvergenceWarning: lbfgs failed to converge (status=1):\n",
            "STOP: TOTAL NO. of ITERATIONS REACHED LIMIT.\n",
            "\n",
            "Increase the number of iterations (max_iter) or scale the data as shown in:\n",
            "    https://scikit-learn.org/stable/modules/preprocessing.html\n",
            "Please also refer to the documentation for alternative solver options:\n",
            "    https://scikit-learn.org/stable/modules/linear_model.html#logistic-regression\n",
            "  n_iter_i = _check_optimize_result(\n"
          ]
        },
        {
          "output_type": "stream",
          "name": "stdout",
          "text": [
            "[CV] END C=1.0, fit_intercept=True, max_iter=300, penalty=l2, random_state=21, warm_start=False; total time=   0.4s\n"
          ]
        },
        {
          "output_type": "stream",
          "name": "stderr",
          "text": [
            "/usr/local/lib/python3.10/dist-packages/sklearn/linear_model/_logistic.py:458: ConvergenceWarning: lbfgs failed to converge (status=1):\n",
            "STOP: TOTAL NO. of ITERATIONS REACHED LIMIT.\n",
            "\n",
            "Increase the number of iterations (max_iter) or scale the data as shown in:\n",
            "    https://scikit-learn.org/stable/modules/preprocessing.html\n",
            "Please also refer to the documentation for alternative solver options:\n",
            "    https://scikit-learn.org/stable/modules/linear_model.html#logistic-regression\n",
            "  n_iter_i = _check_optimize_result(\n"
          ]
        },
        {
          "output_type": "stream",
          "name": "stdout",
          "text": [
            "[CV] END C=1.0, fit_intercept=True, max_iter=300, penalty=l2, random_state=21, warm_start=False; total time=   0.4s\n"
          ]
        },
        {
          "output_type": "stream",
          "name": "stderr",
          "text": [
            "/usr/local/lib/python3.10/dist-packages/sklearn/linear_model/_logistic.py:458: ConvergenceWarning: lbfgs failed to converge (status=1):\n",
            "STOP: TOTAL NO. of ITERATIONS REACHED LIMIT.\n",
            "\n",
            "Increase the number of iterations (max_iter) or scale the data as shown in:\n",
            "    https://scikit-learn.org/stable/modules/preprocessing.html\n",
            "Please also refer to the documentation for alternative solver options:\n",
            "    https://scikit-learn.org/stable/modules/linear_model.html#logistic-regression\n",
            "  n_iter_i = _check_optimize_result(\n"
          ]
        },
        {
          "output_type": "stream",
          "name": "stdout",
          "text": [
            "[CV] END C=1.0, fit_intercept=True, max_iter=300, penalty=l2, random_state=42, warm_start=True; total time=   0.3s\n"
          ]
        },
        {
          "output_type": "stream",
          "name": "stderr",
          "text": [
            "/usr/local/lib/python3.10/dist-packages/sklearn/linear_model/_logistic.py:458: ConvergenceWarning: lbfgs failed to converge (status=1):\n",
            "STOP: TOTAL NO. of ITERATIONS REACHED LIMIT.\n",
            "\n",
            "Increase the number of iterations (max_iter) or scale the data as shown in:\n",
            "    https://scikit-learn.org/stable/modules/preprocessing.html\n",
            "Please also refer to the documentation for alternative solver options:\n",
            "    https://scikit-learn.org/stable/modules/linear_model.html#logistic-regression\n",
            "  n_iter_i = _check_optimize_result(\n"
          ]
        },
        {
          "output_type": "stream",
          "name": "stdout",
          "text": [
            "[CV] END C=1.0, fit_intercept=True, max_iter=300, penalty=l2, random_state=42, warm_start=True; total time=   0.4s\n"
          ]
        },
        {
          "output_type": "stream",
          "name": "stderr",
          "text": [
            "/usr/local/lib/python3.10/dist-packages/sklearn/linear_model/_logistic.py:458: ConvergenceWarning: lbfgs failed to converge (status=1):\n",
            "STOP: TOTAL NO. of ITERATIONS REACHED LIMIT.\n",
            "\n",
            "Increase the number of iterations (max_iter) or scale the data as shown in:\n",
            "    https://scikit-learn.org/stable/modules/preprocessing.html\n",
            "Please also refer to the documentation for alternative solver options:\n",
            "    https://scikit-learn.org/stable/modules/linear_model.html#logistic-regression\n",
            "  n_iter_i = _check_optimize_result(\n"
          ]
        },
        {
          "output_type": "stream",
          "name": "stdout",
          "text": [
            "[CV] END C=1.0, fit_intercept=True, max_iter=300, penalty=l2, random_state=42, warm_start=True; total time=   0.3s\n"
          ]
        },
        {
          "output_type": "stream",
          "name": "stderr",
          "text": [
            "/usr/local/lib/python3.10/dist-packages/sklearn/linear_model/_logistic.py:458: ConvergenceWarning: lbfgs failed to converge (status=1):\n",
            "STOP: TOTAL NO. of ITERATIONS REACHED LIMIT.\n",
            "\n",
            "Increase the number of iterations (max_iter) or scale the data as shown in:\n",
            "    https://scikit-learn.org/stable/modules/preprocessing.html\n",
            "Please also refer to the documentation for alternative solver options:\n",
            "    https://scikit-learn.org/stable/modules/linear_model.html#logistic-regression\n",
            "  n_iter_i = _check_optimize_result(\n"
          ]
        },
        {
          "output_type": "stream",
          "name": "stdout",
          "text": [
            "[CV] END C=1.0, fit_intercept=True, max_iter=300, penalty=l2, random_state=42, warm_start=False; total time=   0.3s\n"
          ]
        },
        {
          "output_type": "stream",
          "name": "stderr",
          "text": [
            "/usr/local/lib/python3.10/dist-packages/sklearn/linear_model/_logistic.py:458: ConvergenceWarning: lbfgs failed to converge (status=1):\n",
            "STOP: TOTAL NO. of ITERATIONS REACHED LIMIT.\n",
            "\n",
            "Increase the number of iterations (max_iter) or scale the data as shown in:\n",
            "    https://scikit-learn.org/stable/modules/preprocessing.html\n",
            "Please also refer to the documentation for alternative solver options:\n",
            "    https://scikit-learn.org/stable/modules/linear_model.html#logistic-regression\n",
            "  n_iter_i = _check_optimize_result(\n"
          ]
        },
        {
          "output_type": "stream",
          "name": "stdout",
          "text": [
            "[CV] END C=1.0, fit_intercept=True, max_iter=300, penalty=l2, random_state=42, warm_start=False; total time=   0.4s\n"
          ]
        },
        {
          "output_type": "stream",
          "name": "stderr",
          "text": [
            "/usr/local/lib/python3.10/dist-packages/sklearn/linear_model/_logistic.py:458: ConvergenceWarning: lbfgs failed to converge (status=1):\n",
            "STOP: TOTAL NO. of ITERATIONS REACHED LIMIT.\n",
            "\n",
            "Increase the number of iterations (max_iter) or scale the data as shown in:\n",
            "    https://scikit-learn.org/stable/modules/preprocessing.html\n",
            "Please also refer to the documentation for alternative solver options:\n",
            "    https://scikit-learn.org/stable/modules/linear_model.html#logistic-regression\n",
            "  n_iter_i = _check_optimize_result(\n"
          ]
        },
        {
          "output_type": "stream",
          "name": "stdout",
          "text": [
            "[CV] END C=1.0, fit_intercept=True, max_iter=300, penalty=l2, random_state=42, warm_start=False; total time=   0.3s\n"
          ]
        },
        {
          "output_type": "stream",
          "name": "stderr",
          "text": [
            "/usr/local/lib/python3.10/dist-packages/sklearn/linear_model/_logistic.py:458: ConvergenceWarning: lbfgs failed to converge (status=1):\n",
            "STOP: TOTAL NO. of ITERATIONS REACHED LIMIT.\n",
            "\n",
            "Increase the number of iterations (max_iter) or scale the data as shown in:\n",
            "    https://scikit-learn.org/stable/modules/preprocessing.html\n",
            "Please also refer to the documentation for alternative solver options:\n",
            "    https://scikit-learn.org/stable/modules/linear_model.html#logistic-regression\n",
            "  n_iter_i = _check_optimize_result(\n"
          ]
        },
        {
          "output_type": "stream",
          "name": "stdout",
          "text": [
            "[CV] END C=1.0, fit_intercept=True, max_iter=300, penalty=l2, random_state=15, warm_start=True; total time=   0.4s\n"
          ]
        },
        {
          "output_type": "stream",
          "name": "stderr",
          "text": [
            "/usr/local/lib/python3.10/dist-packages/sklearn/linear_model/_logistic.py:458: ConvergenceWarning: lbfgs failed to converge (status=1):\n",
            "STOP: TOTAL NO. of ITERATIONS REACHED LIMIT.\n",
            "\n",
            "Increase the number of iterations (max_iter) or scale the data as shown in:\n",
            "    https://scikit-learn.org/stable/modules/preprocessing.html\n",
            "Please also refer to the documentation for alternative solver options:\n",
            "    https://scikit-learn.org/stable/modules/linear_model.html#logistic-regression\n",
            "  n_iter_i = _check_optimize_result(\n"
          ]
        },
        {
          "output_type": "stream",
          "name": "stdout",
          "text": [
            "[CV] END C=1.0, fit_intercept=True, max_iter=300, penalty=l2, random_state=15, warm_start=True; total time=   0.3s\n"
          ]
        },
        {
          "output_type": "stream",
          "name": "stderr",
          "text": [
            "/usr/local/lib/python3.10/dist-packages/sklearn/linear_model/_logistic.py:458: ConvergenceWarning: lbfgs failed to converge (status=1):\n",
            "STOP: TOTAL NO. of ITERATIONS REACHED LIMIT.\n",
            "\n",
            "Increase the number of iterations (max_iter) or scale the data as shown in:\n",
            "    https://scikit-learn.org/stable/modules/preprocessing.html\n",
            "Please also refer to the documentation for alternative solver options:\n",
            "    https://scikit-learn.org/stable/modules/linear_model.html#logistic-regression\n",
            "  n_iter_i = _check_optimize_result(\n"
          ]
        },
        {
          "output_type": "stream",
          "name": "stdout",
          "text": [
            "[CV] END C=1.0, fit_intercept=True, max_iter=300, penalty=l2, random_state=15, warm_start=True; total time=   0.3s\n"
          ]
        },
        {
          "output_type": "stream",
          "name": "stderr",
          "text": [
            "/usr/local/lib/python3.10/dist-packages/sklearn/linear_model/_logistic.py:458: ConvergenceWarning: lbfgs failed to converge (status=1):\n",
            "STOP: TOTAL NO. of ITERATIONS REACHED LIMIT.\n",
            "\n",
            "Increase the number of iterations (max_iter) or scale the data as shown in:\n",
            "    https://scikit-learn.org/stable/modules/preprocessing.html\n",
            "Please also refer to the documentation for alternative solver options:\n",
            "    https://scikit-learn.org/stable/modules/linear_model.html#logistic-regression\n",
            "  n_iter_i = _check_optimize_result(\n"
          ]
        },
        {
          "output_type": "stream",
          "name": "stdout",
          "text": [
            "[CV] END C=1.0, fit_intercept=True, max_iter=300, penalty=l2, random_state=15, warm_start=False; total time=   0.4s\n"
          ]
        },
        {
          "output_type": "stream",
          "name": "stderr",
          "text": [
            "/usr/local/lib/python3.10/dist-packages/sklearn/linear_model/_logistic.py:458: ConvergenceWarning: lbfgs failed to converge (status=1):\n",
            "STOP: TOTAL NO. of ITERATIONS REACHED LIMIT.\n",
            "\n",
            "Increase the number of iterations (max_iter) or scale the data as shown in:\n",
            "    https://scikit-learn.org/stable/modules/preprocessing.html\n",
            "Please also refer to the documentation for alternative solver options:\n",
            "    https://scikit-learn.org/stable/modules/linear_model.html#logistic-regression\n",
            "  n_iter_i = _check_optimize_result(\n"
          ]
        },
        {
          "output_type": "stream",
          "name": "stdout",
          "text": [
            "[CV] END C=1.0, fit_intercept=True, max_iter=300, penalty=l2, random_state=15, warm_start=False; total time=   0.3s\n"
          ]
        },
        {
          "output_type": "stream",
          "name": "stderr",
          "text": [
            "/usr/local/lib/python3.10/dist-packages/sklearn/linear_model/_logistic.py:458: ConvergenceWarning: lbfgs failed to converge (status=1):\n",
            "STOP: TOTAL NO. of ITERATIONS REACHED LIMIT.\n",
            "\n",
            "Increase the number of iterations (max_iter) or scale the data as shown in:\n",
            "    https://scikit-learn.org/stable/modules/preprocessing.html\n",
            "Please also refer to the documentation for alternative solver options:\n",
            "    https://scikit-learn.org/stable/modules/linear_model.html#logistic-regression\n",
            "  n_iter_i = _check_optimize_result(\n",
            "/usr/local/lib/python3.10/dist-packages/sklearn/linear_model/_logistic.py:458: ConvergenceWarning: lbfgs failed to converge (status=1):\n",
            "STOP: TOTAL NO. of ITERATIONS REACHED LIMIT.\n",
            "\n",
            "Increase the number of iterations (max_iter) or scale the data as shown in:\n",
            "    https://scikit-learn.org/stable/modules/preprocessing.html\n",
            "Please also refer to the documentation for alternative solver options:\n",
            "    https://scikit-learn.org/stable/modules/linear_model.html#logistic-regression\n",
            "  n_iter_i = _check_optimize_result(\n"
          ]
        },
        {
          "output_type": "stream",
          "name": "stdout",
          "text": [
            "[CV] END C=1.0, fit_intercept=True, max_iter=300, penalty=l2, random_state=15, warm_start=False; total time=   0.3s\n",
            "[CV] END C=1.0, fit_intercept=True, max_iter=100, penalty=l1, random_state=21, warm_start=True; total time=   0.0s\n",
            "[CV] END C=1.0, fit_intercept=True, max_iter=100, penalty=l1, random_state=21, warm_start=True; total time=   0.0s\n",
            "[CV] END C=1.0, fit_intercept=True, max_iter=100, penalty=l1, random_state=21, warm_start=True; total time=   0.0s\n",
            "[CV] END C=1.0, fit_intercept=True, max_iter=100, penalty=l1, random_state=21, warm_start=False; total time=   0.0s\n",
            "[CV] END C=1.0, fit_intercept=True, max_iter=100, penalty=l1, random_state=21, warm_start=False; total time=   0.0s\n",
            "[CV] END C=1.0, fit_intercept=True, max_iter=100, penalty=l1, random_state=21, warm_start=False; total time=   0.0s\n",
            "[CV] END C=1.0, fit_intercept=True, max_iter=100, penalty=l1, random_state=42, warm_start=True; total time=   0.0s\n",
            "[CV] END C=1.0, fit_intercept=True, max_iter=100, penalty=l1, random_state=42, warm_start=True; total time=   0.0s\n",
            "[CV] END C=1.0, fit_intercept=True, max_iter=100, penalty=l1, random_state=42, warm_start=True; total time=   0.0s\n",
            "[CV] END C=1.0, fit_intercept=True, max_iter=100, penalty=l1, random_state=42, warm_start=False; total time=   0.0s\n",
            "[CV] END C=1.0, fit_intercept=True, max_iter=100, penalty=l1, random_state=42, warm_start=False; total time=   0.0s\n",
            "[CV] END C=1.0, fit_intercept=True, max_iter=100, penalty=l1, random_state=42, warm_start=False; total time=   0.0s\n",
            "[CV] END C=1.0, fit_intercept=True, max_iter=100, penalty=l1, random_state=15, warm_start=True; total time=   0.0s\n",
            "[CV] END C=1.0, fit_intercept=True, max_iter=100, penalty=l1, random_state=15, warm_start=True; total time=   0.0s\n",
            "[CV] END C=1.0, fit_intercept=True, max_iter=100, penalty=l1, random_state=15, warm_start=True; total time=   0.0s\n",
            "[CV] END C=1.0, fit_intercept=True, max_iter=100, penalty=l1, random_state=15, warm_start=False; total time=   0.0s\n",
            "[CV] END C=1.0, fit_intercept=True, max_iter=100, penalty=l1, random_state=15, warm_start=False; total time=   0.0s\n",
            "[CV] END C=1.0, fit_intercept=True, max_iter=100, penalty=l1, random_state=15, warm_start=False; total time=   0.0s\n",
            "[CV] END C=1.0, fit_intercept=True, max_iter=100, penalty=l2, random_state=21, warm_start=True; total time=   0.1s\n"
          ]
        },
        {
          "output_type": "stream",
          "name": "stderr",
          "text": [
            "/usr/local/lib/python3.10/dist-packages/sklearn/linear_model/_logistic.py:458: ConvergenceWarning: lbfgs failed to converge (status=1):\n",
            "STOP: TOTAL NO. of ITERATIONS REACHED LIMIT.\n",
            "\n",
            "Increase the number of iterations (max_iter) or scale the data as shown in:\n",
            "    https://scikit-learn.org/stable/modules/preprocessing.html\n",
            "Please also refer to the documentation for alternative solver options:\n",
            "    https://scikit-learn.org/stable/modules/linear_model.html#logistic-regression\n",
            "  n_iter_i = _check_optimize_result(\n",
            "/usr/local/lib/python3.10/dist-packages/sklearn/linear_model/_logistic.py:458: ConvergenceWarning: lbfgs failed to converge (status=1):\n",
            "STOP: TOTAL NO. of ITERATIONS REACHED LIMIT.\n",
            "\n",
            "Increase the number of iterations (max_iter) or scale the data as shown in:\n",
            "    https://scikit-learn.org/stable/modules/preprocessing.html\n",
            "Please also refer to the documentation for alternative solver options:\n",
            "    https://scikit-learn.org/stable/modules/linear_model.html#logistic-regression\n",
            "  n_iter_i = _check_optimize_result(\n"
          ]
        },
        {
          "output_type": "stream",
          "name": "stdout",
          "text": [
            "[CV] END C=1.0, fit_intercept=True, max_iter=100, penalty=l2, random_state=21, warm_start=True; total time=   0.1s\n",
            "[CV] END C=1.0, fit_intercept=True, max_iter=100, penalty=l2, random_state=21, warm_start=True; total time=   0.1s\n"
          ]
        },
        {
          "output_type": "stream",
          "name": "stderr",
          "text": [
            "/usr/local/lib/python3.10/dist-packages/sklearn/linear_model/_logistic.py:458: ConvergenceWarning: lbfgs failed to converge (status=1):\n",
            "STOP: TOTAL NO. of ITERATIONS REACHED LIMIT.\n",
            "\n",
            "Increase the number of iterations (max_iter) or scale the data as shown in:\n",
            "    https://scikit-learn.org/stable/modules/preprocessing.html\n",
            "Please also refer to the documentation for alternative solver options:\n",
            "    https://scikit-learn.org/stable/modules/linear_model.html#logistic-regression\n",
            "  n_iter_i = _check_optimize_result(\n",
            "/usr/local/lib/python3.10/dist-packages/sklearn/linear_model/_logistic.py:458: ConvergenceWarning: lbfgs failed to converge (status=1):\n",
            "STOP: TOTAL NO. of ITERATIONS REACHED LIMIT.\n",
            "\n",
            "Increase the number of iterations (max_iter) or scale the data as shown in:\n",
            "    https://scikit-learn.org/stable/modules/preprocessing.html\n",
            "Please also refer to the documentation for alternative solver options:\n",
            "    https://scikit-learn.org/stable/modules/linear_model.html#logistic-regression\n",
            "  n_iter_i = _check_optimize_result(\n"
          ]
        },
        {
          "output_type": "stream",
          "name": "stdout",
          "text": [
            "[CV] END C=1.0, fit_intercept=True, max_iter=100, penalty=l2, random_state=21, warm_start=False; total time=   0.1s\n",
            "[CV] END C=1.0, fit_intercept=True, max_iter=100, penalty=l2, random_state=21, warm_start=False; total time=   0.1s\n"
          ]
        },
        {
          "output_type": "stream",
          "name": "stderr",
          "text": [
            "/usr/local/lib/python3.10/dist-packages/sklearn/linear_model/_logistic.py:458: ConvergenceWarning: lbfgs failed to converge (status=1):\n",
            "STOP: TOTAL NO. of ITERATIONS REACHED LIMIT.\n",
            "\n",
            "Increase the number of iterations (max_iter) or scale the data as shown in:\n",
            "    https://scikit-learn.org/stable/modules/preprocessing.html\n",
            "Please also refer to the documentation for alternative solver options:\n",
            "    https://scikit-learn.org/stable/modules/linear_model.html#logistic-regression\n",
            "  n_iter_i = _check_optimize_result(\n",
            "/usr/local/lib/python3.10/dist-packages/sklearn/linear_model/_logistic.py:458: ConvergenceWarning: lbfgs failed to converge (status=1):\n",
            "STOP: TOTAL NO. of ITERATIONS REACHED LIMIT.\n",
            "\n",
            "Increase the number of iterations (max_iter) or scale the data as shown in:\n",
            "    https://scikit-learn.org/stable/modules/preprocessing.html\n",
            "Please also refer to the documentation for alternative solver options:\n",
            "    https://scikit-learn.org/stable/modules/linear_model.html#logistic-regression\n",
            "  n_iter_i = _check_optimize_result(\n"
          ]
        },
        {
          "output_type": "stream",
          "name": "stdout",
          "text": [
            "[CV] END C=1.0, fit_intercept=True, max_iter=100, penalty=l2, random_state=21, warm_start=False; total time=   0.1s\n",
            "[CV] END C=1.0, fit_intercept=True, max_iter=100, penalty=l2, random_state=42, warm_start=True; total time=   0.1s\n"
          ]
        },
        {
          "output_type": "stream",
          "name": "stderr",
          "text": [
            "/usr/local/lib/python3.10/dist-packages/sklearn/linear_model/_logistic.py:458: ConvergenceWarning: lbfgs failed to converge (status=1):\n",
            "STOP: TOTAL NO. of ITERATIONS REACHED LIMIT.\n",
            "\n",
            "Increase the number of iterations (max_iter) or scale the data as shown in:\n",
            "    https://scikit-learn.org/stable/modules/preprocessing.html\n",
            "Please also refer to the documentation for alternative solver options:\n",
            "    https://scikit-learn.org/stable/modules/linear_model.html#logistic-regression\n",
            "  n_iter_i = _check_optimize_result(\n",
            "/usr/local/lib/python3.10/dist-packages/sklearn/linear_model/_logistic.py:458: ConvergenceWarning: lbfgs failed to converge (status=1):\n",
            "STOP: TOTAL NO. of ITERATIONS REACHED LIMIT.\n",
            "\n",
            "Increase the number of iterations (max_iter) or scale the data as shown in:\n",
            "    https://scikit-learn.org/stable/modules/preprocessing.html\n",
            "Please also refer to the documentation for alternative solver options:\n",
            "    https://scikit-learn.org/stable/modules/linear_model.html#logistic-regression\n",
            "  n_iter_i = _check_optimize_result(\n"
          ]
        },
        {
          "output_type": "stream",
          "name": "stdout",
          "text": [
            "[CV] END C=1.0, fit_intercept=True, max_iter=100, penalty=l2, random_state=42, warm_start=True; total time=   0.1s\n",
            "[CV] END C=1.0, fit_intercept=True, max_iter=100, penalty=l2, random_state=42, warm_start=True; total time=   0.1s\n"
          ]
        },
        {
          "output_type": "stream",
          "name": "stderr",
          "text": [
            "/usr/local/lib/python3.10/dist-packages/sklearn/linear_model/_logistic.py:458: ConvergenceWarning: lbfgs failed to converge (status=1):\n",
            "STOP: TOTAL NO. of ITERATIONS REACHED LIMIT.\n",
            "\n",
            "Increase the number of iterations (max_iter) or scale the data as shown in:\n",
            "    https://scikit-learn.org/stable/modules/preprocessing.html\n",
            "Please also refer to the documentation for alternative solver options:\n",
            "    https://scikit-learn.org/stable/modules/linear_model.html#logistic-regression\n",
            "  n_iter_i = _check_optimize_result(\n",
            "/usr/local/lib/python3.10/dist-packages/sklearn/linear_model/_logistic.py:458: ConvergenceWarning: lbfgs failed to converge (status=1):\n",
            "STOP: TOTAL NO. of ITERATIONS REACHED LIMIT.\n",
            "\n",
            "Increase the number of iterations (max_iter) or scale the data as shown in:\n",
            "    https://scikit-learn.org/stable/modules/preprocessing.html\n",
            "Please also refer to the documentation for alternative solver options:\n",
            "    https://scikit-learn.org/stable/modules/linear_model.html#logistic-regression\n",
            "  n_iter_i = _check_optimize_result(\n"
          ]
        },
        {
          "output_type": "stream",
          "name": "stdout",
          "text": [
            "[CV] END C=1.0, fit_intercept=True, max_iter=100, penalty=l2, random_state=42, warm_start=False; total time=   0.1s\n",
            "[CV] END C=1.0, fit_intercept=True, max_iter=100, penalty=l2, random_state=42, warm_start=False; total time=   0.1s\n"
          ]
        },
        {
          "output_type": "stream",
          "name": "stderr",
          "text": [
            "/usr/local/lib/python3.10/dist-packages/sklearn/linear_model/_logistic.py:458: ConvergenceWarning: lbfgs failed to converge (status=1):\n",
            "STOP: TOTAL NO. of ITERATIONS REACHED LIMIT.\n",
            "\n",
            "Increase the number of iterations (max_iter) or scale the data as shown in:\n",
            "    https://scikit-learn.org/stable/modules/preprocessing.html\n",
            "Please also refer to the documentation for alternative solver options:\n",
            "    https://scikit-learn.org/stable/modules/linear_model.html#logistic-regression\n",
            "  n_iter_i = _check_optimize_result(\n",
            "/usr/local/lib/python3.10/dist-packages/sklearn/linear_model/_logistic.py:458: ConvergenceWarning: lbfgs failed to converge (status=1):\n",
            "STOP: TOTAL NO. of ITERATIONS REACHED LIMIT.\n",
            "\n",
            "Increase the number of iterations (max_iter) or scale the data as shown in:\n",
            "    https://scikit-learn.org/stable/modules/preprocessing.html\n",
            "Please also refer to the documentation for alternative solver options:\n",
            "    https://scikit-learn.org/stable/modules/linear_model.html#logistic-regression\n",
            "  n_iter_i = _check_optimize_result(\n"
          ]
        },
        {
          "output_type": "stream",
          "name": "stdout",
          "text": [
            "[CV] END C=1.0, fit_intercept=True, max_iter=100, penalty=l2, random_state=42, warm_start=False; total time=   0.1s\n",
            "[CV] END C=1.0, fit_intercept=True, max_iter=100, penalty=l2, random_state=15, warm_start=True; total time=   0.1s\n"
          ]
        },
        {
          "output_type": "stream",
          "name": "stderr",
          "text": [
            "/usr/local/lib/python3.10/dist-packages/sklearn/linear_model/_logistic.py:458: ConvergenceWarning: lbfgs failed to converge (status=1):\n",
            "STOP: TOTAL NO. of ITERATIONS REACHED LIMIT.\n",
            "\n",
            "Increase the number of iterations (max_iter) or scale the data as shown in:\n",
            "    https://scikit-learn.org/stable/modules/preprocessing.html\n",
            "Please also refer to the documentation for alternative solver options:\n",
            "    https://scikit-learn.org/stable/modules/linear_model.html#logistic-regression\n",
            "  n_iter_i = _check_optimize_result(\n",
            "/usr/local/lib/python3.10/dist-packages/sklearn/linear_model/_logistic.py:458: ConvergenceWarning: lbfgs failed to converge (status=1):\n",
            "STOP: TOTAL NO. of ITERATIONS REACHED LIMIT.\n",
            "\n",
            "Increase the number of iterations (max_iter) or scale the data as shown in:\n",
            "    https://scikit-learn.org/stable/modules/preprocessing.html\n",
            "Please also refer to the documentation for alternative solver options:\n",
            "    https://scikit-learn.org/stable/modules/linear_model.html#logistic-regression\n",
            "  n_iter_i = _check_optimize_result(\n"
          ]
        },
        {
          "output_type": "stream",
          "name": "stdout",
          "text": [
            "[CV] END C=1.0, fit_intercept=True, max_iter=100, penalty=l2, random_state=15, warm_start=True; total time=   0.1s\n",
            "[CV] END C=1.0, fit_intercept=True, max_iter=100, penalty=l2, random_state=15, warm_start=True; total time=   0.1s\n"
          ]
        },
        {
          "output_type": "stream",
          "name": "stderr",
          "text": [
            "/usr/local/lib/python3.10/dist-packages/sklearn/linear_model/_logistic.py:458: ConvergenceWarning: lbfgs failed to converge (status=1):\n",
            "STOP: TOTAL NO. of ITERATIONS REACHED LIMIT.\n",
            "\n",
            "Increase the number of iterations (max_iter) or scale the data as shown in:\n",
            "    https://scikit-learn.org/stable/modules/preprocessing.html\n",
            "Please also refer to the documentation for alternative solver options:\n",
            "    https://scikit-learn.org/stable/modules/linear_model.html#logistic-regression\n",
            "  n_iter_i = _check_optimize_result(\n"
          ]
        },
        {
          "output_type": "stream",
          "name": "stdout",
          "text": [
            "[CV] END C=1.0, fit_intercept=True, max_iter=100, penalty=l2, random_state=15, warm_start=False; total time=   0.3s\n"
          ]
        },
        {
          "output_type": "stream",
          "name": "stderr",
          "text": [
            "/usr/local/lib/python3.10/dist-packages/sklearn/linear_model/_logistic.py:458: ConvergenceWarning: lbfgs failed to converge (status=1):\n",
            "STOP: TOTAL NO. of ITERATIONS REACHED LIMIT.\n",
            "\n",
            "Increase the number of iterations (max_iter) or scale the data as shown in:\n",
            "    https://scikit-learn.org/stable/modules/preprocessing.html\n",
            "Please also refer to the documentation for alternative solver options:\n",
            "    https://scikit-learn.org/stable/modules/linear_model.html#logistic-regression\n",
            "  n_iter_i = _check_optimize_result(\n"
          ]
        },
        {
          "output_type": "stream",
          "name": "stdout",
          "text": [
            "[CV] END C=1.0, fit_intercept=True, max_iter=100, penalty=l2, random_state=15, warm_start=False; total time=   0.3s\n"
          ]
        },
        {
          "output_type": "stream",
          "name": "stderr",
          "text": [
            "/usr/local/lib/python3.10/dist-packages/sklearn/linear_model/_logistic.py:458: ConvergenceWarning: lbfgs failed to converge (status=1):\n",
            "STOP: TOTAL NO. of ITERATIONS REACHED LIMIT.\n",
            "\n",
            "Increase the number of iterations (max_iter) or scale the data as shown in:\n",
            "    https://scikit-learn.org/stable/modules/preprocessing.html\n",
            "Please also refer to the documentation for alternative solver options:\n",
            "    https://scikit-learn.org/stable/modules/linear_model.html#logistic-regression\n",
            "  n_iter_i = _check_optimize_result(\n"
          ]
        },
        {
          "output_type": "stream",
          "name": "stdout",
          "text": [
            "[CV] END C=1.0, fit_intercept=True, max_iter=100, penalty=l2, random_state=15, warm_start=False; total time=   0.3s\n",
            "[CV] END C=1.0, fit_intercept=False, max_iter=1000, penalty=l1, random_state=21, warm_start=True; total time=   0.0s\n",
            "[CV] END C=1.0, fit_intercept=False, max_iter=1000, penalty=l1, random_state=21, warm_start=True; total time=   0.0s\n",
            "[CV] END C=1.0, fit_intercept=False, max_iter=1000, penalty=l1, random_state=21, warm_start=True; total time=   0.0s\n",
            "[CV] END C=1.0, fit_intercept=False, max_iter=1000, penalty=l1, random_state=21, warm_start=False; total time=   0.0s\n",
            "[CV] END C=1.0, fit_intercept=False, max_iter=1000, penalty=l1, random_state=21, warm_start=False; total time=   0.0s\n",
            "[CV] END C=1.0, fit_intercept=False, max_iter=1000, penalty=l1, random_state=21, warm_start=False; total time=   0.0s\n",
            "[CV] END C=1.0, fit_intercept=False, max_iter=1000, penalty=l1, random_state=42, warm_start=True; total time=   0.0s\n",
            "[CV] END C=1.0, fit_intercept=False, max_iter=1000, penalty=l1, random_state=42, warm_start=True; total time=   0.0s\n",
            "[CV] END C=1.0, fit_intercept=False, max_iter=1000, penalty=l1, random_state=42, warm_start=True; total time=   0.0s\n",
            "[CV] END C=1.0, fit_intercept=False, max_iter=1000, penalty=l1, random_state=42, warm_start=False; total time=   0.0s\n",
            "[CV] END C=1.0, fit_intercept=False, max_iter=1000, penalty=l1, random_state=42, warm_start=False; total time=   0.0s\n",
            "[CV] END C=1.0, fit_intercept=False, max_iter=1000, penalty=l1, random_state=42, warm_start=False; total time=   0.0s\n",
            "[CV] END C=1.0, fit_intercept=False, max_iter=1000, penalty=l1, random_state=15, warm_start=True; total time=   0.0s\n",
            "[CV] END C=1.0, fit_intercept=False, max_iter=1000, penalty=l1, random_state=15, warm_start=True; total time=   0.0s\n",
            "[CV] END C=1.0, fit_intercept=False, max_iter=1000, penalty=l1, random_state=15, warm_start=True; total time=   0.0s\n",
            "[CV] END C=1.0, fit_intercept=False, max_iter=1000, penalty=l1, random_state=15, warm_start=False; total time=   0.0s\n",
            "[CV] END C=1.0, fit_intercept=False, max_iter=1000, penalty=l1, random_state=15, warm_start=False; total time=   0.0s\n",
            "[CV] END C=1.0, fit_intercept=False, max_iter=1000, penalty=l1, random_state=15, warm_start=False; total time=   0.0s\n",
            "[CV] END C=1.0, fit_intercept=False, max_iter=1000, penalty=l2, random_state=21, warm_start=True; total time=   0.6s\n",
            "[CV] END C=1.0, fit_intercept=False, max_iter=1000, penalty=l2, random_state=21, warm_start=True; total time=   0.6s\n",
            "[CV] END C=1.0, fit_intercept=False, max_iter=1000, penalty=l2, random_state=21, warm_start=True; total time=   0.6s\n",
            "[CV] END C=1.0, fit_intercept=False, max_iter=1000, penalty=l2, random_state=21, warm_start=False; total time=   0.6s\n",
            "[CV] END C=1.0, fit_intercept=False, max_iter=1000, penalty=l2, random_state=21, warm_start=False; total time=   0.5s\n",
            "[CV] END C=1.0, fit_intercept=False, max_iter=1000, penalty=l2, random_state=21, warm_start=False; total time=   0.6s\n",
            "[CV] END C=1.0, fit_intercept=False, max_iter=1000, penalty=l2, random_state=42, warm_start=True; total time=   0.7s\n",
            "[CV] END C=1.0, fit_intercept=False, max_iter=1000, penalty=l2, random_state=42, warm_start=True; total time=   0.3s\n",
            "[CV] END C=1.0, fit_intercept=False, max_iter=1000, penalty=l2, random_state=42, warm_start=True; total time=   0.3s\n",
            "[CV] END C=1.0, fit_intercept=False, max_iter=1000, penalty=l2, random_state=42, warm_start=False; total time=   0.3s\n",
            "[CV] END C=1.0, fit_intercept=False, max_iter=1000, penalty=l2, random_state=42, warm_start=False; total time=   0.2s\n",
            "[CV] END C=1.0, fit_intercept=False, max_iter=1000, penalty=l2, random_state=42, warm_start=False; total time=   0.3s\n",
            "[CV] END C=1.0, fit_intercept=False, max_iter=1000, penalty=l2, random_state=15, warm_start=True; total time=   0.3s\n",
            "[CV] END C=1.0, fit_intercept=False, max_iter=1000, penalty=l2, random_state=15, warm_start=True; total time=   0.2s\n",
            "[CV] END C=1.0, fit_intercept=False, max_iter=1000, penalty=l2, random_state=15, warm_start=True; total time=   0.3s\n",
            "[CV] END C=1.0, fit_intercept=False, max_iter=1000, penalty=l2, random_state=15, warm_start=False; total time=   0.3s\n",
            "[CV] END C=1.0, fit_intercept=False, max_iter=1000, penalty=l2, random_state=15, warm_start=False; total time=   0.3s\n",
            "[CV] END C=1.0, fit_intercept=False, max_iter=1000, penalty=l2, random_state=15, warm_start=False; total time=   0.3s\n",
            "[CV] END C=1.0, fit_intercept=False, max_iter=500, penalty=l1, random_state=21, warm_start=True; total time=   0.0s\n",
            "[CV] END C=1.0, fit_intercept=False, max_iter=500, penalty=l1, random_state=21, warm_start=True; total time=   0.0s\n",
            "[CV] END C=1.0, fit_intercept=False, max_iter=500, penalty=l1, random_state=21, warm_start=True; total time=   0.0s\n",
            "[CV] END C=1.0, fit_intercept=False, max_iter=500, penalty=l1, random_state=21, warm_start=False; total time=   0.0s\n",
            "[CV] END C=1.0, fit_intercept=False, max_iter=500, penalty=l1, random_state=21, warm_start=False; total time=   0.0s\n",
            "[CV] END C=1.0, fit_intercept=False, max_iter=500, penalty=l1, random_state=21, warm_start=False; total time=   0.0s\n",
            "[CV] END C=1.0, fit_intercept=False, max_iter=500, penalty=l1, random_state=42, warm_start=True; total time=   0.0s\n",
            "[CV] END C=1.0, fit_intercept=False, max_iter=500, penalty=l1, random_state=42, warm_start=True; total time=   0.0s\n",
            "[CV] END C=1.0, fit_intercept=False, max_iter=500, penalty=l1, random_state=42, warm_start=True; total time=   0.0s\n",
            "[CV] END C=1.0, fit_intercept=False, max_iter=500, penalty=l1, random_state=42, warm_start=False; total time=   0.0s\n",
            "[CV] END C=1.0, fit_intercept=False, max_iter=500, penalty=l1, random_state=42, warm_start=False; total time=   0.0s\n",
            "[CV] END C=1.0, fit_intercept=False, max_iter=500, penalty=l1, random_state=42, warm_start=False; total time=   0.0s\n",
            "[CV] END C=1.0, fit_intercept=False, max_iter=500, penalty=l1, random_state=15, warm_start=True; total time=   0.0s\n",
            "[CV] END C=1.0, fit_intercept=False, max_iter=500, penalty=l1, random_state=15, warm_start=True; total time=   0.0s\n",
            "[CV] END C=1.0, fit_intercept=False, max_iter=500, penalty=l1, random_state=15, warm_start=True; total time=   0.0s\n",
            "[CV] END C=1.0, fit_intercept=False, max_iter=500, penalty=l1, random_state=15, warm_start=False; total time=   0.0s\n",
            "[CV] END C=1.0, fit_intercept=False, max_iter=500, penalty=l1, random_state=15, warm_start=False; total time=   0.0s\n",
            "[CV] END C=1.0, fit_intercept=False, max_iter=500, penalty=l1, random_state=15, warm_start=False; total time=   0.0s\n",
            "[CV] END C=1.0, fit_intercept=False, max_iter=500, penalty=l2, random_state=21, warm_start=True; total time=   0.3s\n",
            "[CV] END C=1.0, fit_intercept=False, max_iter=500, penalty=l2, random_state=21, warm_start=True; total time=   0.3s\n",
            "[CV] END C=1.0, fit_intercept=False, max_iter=500, penalty=l2, random_state=21, warm_start=True; total time=   0.3s\n",
            "[CV] END C=1.0, fit_intercept=False, max_iter=500, penalty=l2, random_state=21, warm_start=False; total time=   0.3s\n",
            "[CV] END C=1.0, fit_intercept=False, max_iter=500, penalty=l2, random_state=21, warm_start=False; total time=   0.2s\n",
            "[CV] END C=1.0, fit_intercept=False, max_iter=500, penalty=l2, random_state=21, warm_start=False; total time=   0.3s\n",
            "[CV] END C=1.0, fit_intercept=False, max_iter=500, penalty=l2, random_state=42, warm_start=True; total time=   0.3s\n",
            "[CV] END C=1.0, fit_intercept=False, max_iter=500, penalty=l2, random_state=42, warm_start=True; total time=   0.3s\n",
            "[CV] END C=1.0, fit_intercept=False, max_iter=500, penalty=l2, random_state=42, warm_start=True; total time=   0.3s\n",
            "[CV] END C=1.0, fit_intercept=False, max_iter=500, penalty=l2, random_state=42, warm_start=False; total time=   0.3s\n",
            "[CV] END C=1.0, fit_intercept=False, max_iter=500, penalty=l2, random_state=42, warm_start=False; total time=   0.3s\n",
            "[CV] END C=1.0, fit_intercept=False, max_iter=500, penalty=l2, random_state=42, warm_start=False; total time=   0.3s\n",
            "[CV] END C=1.0, fit_intercept=False, max_iter=500, penalty=l2, random_state=15, warm_start=True; total time=   0.3s\n",
            "[CV] END C=1.0, fit_intercept=False, max_iter=500, penalty=l2, random_state=15, warm_start=True; total time=   0.3s\n",
            "[CV] END C=1.0, fit_intercept=False, max_iter=500, penalty=l2, random_state=15, warm_start=True; total time=   0.3s\n",
            "[CV] END C=1.0, fit_intercept=False, max_iter=500, penalty=l2, random_state=15, warm_start=False; total time=   0.3s\n",
            "[CV] END C=1.0, fit_intercept=False, max_iter=500, penalty=l2, random_state=15, warm_start=False; total time=   0.3s\n",
            "[CV] END C=1.0, fit_intercept=False, max_iter=500, penalty=l2, random_state=15, warm_start=False; total time=   0.3s\n",
            "[CV] END C=1.0, fit_intercept=False, max_iter=300, penalty=l1, random_state=21, warm_start=True; total time=   0.0s\n",
            "[CV] END C=1.0, fit_intercept=False, max_iter=300, penalty=l1, random_state=21, warm_start=True; total time=   0.0s\n",
            "[CV] END C=1.0, fit_intercept=False, max_iter=300, penalty=l1, random_state=21, warm_start=True; total time=   0.0s\n",
            "[CV] END C=1.0, fit_intercept=False, max_iter=300, penalty=l1, random_state=21, warm_start=False; total time=   0.0s\n",
            "[CV] END C=1.0, fit_intercept=False, max_iter=300, penalty=l1, random_state=21, warm_start=False; total time=   0.0s\n",
            "[CV] END C=1.0, fit_intercept=False, max_iter=300, penalty=l1, random_state=21, warm_start=False; total time=   0.0s\n",
            "[CV] END C=1.0, fit_intercept=False, max_iter=300, penalty=l1, random_state=42, warm_start=True; total time=   0.0s\n",
            "[CV] END C=1.0, fit_intercept=False, max_iter=300, penalty=l1, random_state=42, warm_start=True; total time=   0.0s\n",
            "[CV] END C=1.0, fit_intercept=False, max_iter=300, penalty=l1, random_state=42, warm_start=True; total time=   0.0s\n",
            "[CV] END C=1.0, fit_intercept=False, max_iter=300, penalty=l1, random_state=42, warm_start=False; total time=   0.0s\n",
            "[CV] END C=1.0, fit_intercept=False, max_iter=300, penalty=l1, random_state=42, warm_start=False; total time=   0.0s\n",
            "[CV] END C=1.0, fit_intercept=False, max_iter=300, penalty=l1, random_state=42, warm_start=False; total time=   0.0s\n",
            "[CV] END C=1.0, fit_intercept=False, max_iter=300, penalty=l1, random_state=15, warm_start=True; total time=   0.0s\n",
            "[CV] END C=1.0, fit_intercept=False, max_iter=300, penalty=l1, random_state=15, warm_start=True; total time=   0.0s\n",
            "[CV] END C=1.0, fit_intercept=False, max_iter=300, penalty=l1, random_state=15, warm_start=True; total time=   0.0s\n",
            "[CV] END C=1.0, fit_intercept=False, max_iter=300, penalty=l1, random_state=15, warm_start=False; total time=   0.0s\n",
            "[CV] END C=1.0, fit_intercept=False, max_iter=300, penalty=l1, random_state=15, warm_start=False; total time=   0.0s\n",
            "[CV] END C=1.0, fit_intercept=False, max_iter=300, penalty=l1, random_state=15, warm_start=False; total time=   0.0s\n",
            "[CV] END C=1.0, fit_intercept=False, max_iter=300, penalty=l2, random_state=21, warm_start=True; total time=   0.3s\n",
            "[CV] END C=1.0, fit_intercept=False, max_iter=300, penalty=l2, random_state=21, warm_start=True; total time=   0.3s\n",
            "[CV] END C=1.0, fit_intercept=False, max_iter=300, penalty=l2, random_state=21, warm_start=True; total time=   0.3s\n",
            "[CV] END C=1.0, fit_intercept=False, max_iter=300, penalty=l2, random_state=21, warm_start=False; total time=   0.3s\n",
            "[CV] END C=1.0, fit_intercept=False, max_iter=300, penalty=l2, random_state=21, warm_start=False; total time=   0.2s\n",
            "[CV] END C=1.0, fit_intercept=False, max_iter=300, penalty=l2, random_state=21, warm_start=False; total time=   0.3s\n",
            "[CV] END C=1.0, fit_intercept=False, max_iter=300, penalty=l2, random_state=42, warm_start=True; total time=   0.3s\n",
            "[CV] END C=1.0, fit_intercept=False, max_iter=300, penalty=l2, random_state=42, warm_start=True; total time=   0.5s\n",
            "[CV] END C=1.0, fit_intercept=False, max_iter=300, penalty=l2, random_state=42, warm_start=True; total time=   0.7s\n",
            "[CV] END C=1.0, fit_intercept=False, max_iter=300, penalty=l2, random_state=42, warm_start=False; total time=   0.5s\n",
            "[CV] END C=1.0, fit_intercept=False, max_iter=300, penalty=l2, random_state=42, warm_start=False; total time=   0.6s\n",
            "[CV] END C=1.0, fit_intercept=False, max_iter=300, penalty=l2, random_state=42, warm_start=False; total time=   1.5s\n",
            "[CV] END C=1.0, fit_intercept=False, max_iter=300, penalty=l2, random_state=15, warm_start=True; total time=   0.6s\n",
            "[CV] END C=1.0, fit_intercept=False, max_iter=300, penalty=l2, random_state=15, warm_start=True; total time=   0.7s\n",
            "[CV] END C=1.0, fit_intercept=False, max_iter=300, penalty=l2, random_state=15, warm_start=True; total time=   0.6s\n",
            "[CV] END C=1.0, fit_intercept=False, max_iter=300, penalty=l2, random_state=15, warm_start=False; total time=   0.3s\n",
            "[CV] END C=1.0, fit_intercept=False, max_iter=300, penalty=l2, random_state=15, warm_start=False; total time=   0.2s\n",
            "[CV] END C=1.0, fit_intercept=False, max_iter=300, penalty=l2, random_state=15, warm_start=False; total time=   0.3s\n",
            "[CV] END C=1.0, fit_intercept=False, max_iter=100, penalty=l1, random_state=21, warm_start=True; total time=   0.0s\n",
            "[CV] END C=1.0, fit_intercept=False, max_iter=100, penalty=l1, random_state=21, warm_start=True; total time=   0.0s\n",
            "[CV] END C=1.0, fit_intercept=False, max_iter=100, penalty=l1, random_state=21, warm_start=True; total time=   0.0s\n",
            "[CV] END C=1.0, fit_intercept=False, max_iter=100, penalty=l1, random_state=21, warm_start=False; total time=   0.0s\n",
            "[CV] END C=1.0, fit_intercept=False, max_iter=100, penalty=l1, random_state=21, warm_start=False; total time=   0.0s\n",
            "[CV] END C=1.0, fit_intercept=False, max_iter=100, penalty=l1, random_state=21, warm_start=False; total time=   0.0s\n",
            "[CV] END C=1.0, fit_intercept=False, max_iter=100, penalty=l1, random_state=42, warm_start=True; total time=   0.0s\n",
            "[CV] END C=1.0, fit_intercept=False, max_iter=100, penalty=l1, random_state=42, warm_start=True; total time=   0.0s\n",
            "[CV] END C=1.0, fit_intercept=False, max_iter=100, penalty=l1, random_state=42, warm_start=True; total time=   0.0s\n",
            "[CV] END C=1.0, fit_intercept=False, max_iter=100, penalty=l1, random_state=42, warm_start=False; total time=   0.0s\n",
            "[CV] END C=1.0, fit_intercept=False, max_iter=100, penalty=l1, random_state=42, warm_start=False; total time=   0.0s\n",
            "[CV] END C=1.0, fit_intercept=False, max_iter=100, penalty=l1, random_state=42, warm_start=False; total time=   0.0s\n",
            "[CV] END C=1.0, fit_intercept=False, max_iter=100, penalty=l1, random_state=15, warm_start=True; total time=   0.0s\n",
            "[CV] END C=1.0, fit_intercept=False, max_iter=100, penalty=l1, random_state=15, warm_start=True; total time=   0.0s\n",
            "[CV] END C=1.0, fit_intercept=False, max_iter=100, penalty=l1, random_state=15, warm_start=True; total time=   0.0s\n",
            "[CV] END C=1.0, fit_intercept=False, max_iter=100, penalty=l1, random_state=15, warm_start=False; total time=   0.0s\n",
            "[CV] END C=1.0, fit_intercept=False, max_iter=100, penalty=l1, random_state=15, warm_start=False; total time=   0.0s\n",
            "[CV] END C=1.0, fit_intercept=False, max_iter=100, penalty=l1, random_state=15, warm_start=False; total time=   0.0s\n",
            "[CV] END C=1.0, fit_intercept=False, max_iter=100, penalty=l2, random_state=21, warm_start=True; total time=   0.1s\n"
          ]
        },
        {
          "output_type": "stream",
          "name": "stderr",
          "text": [
            "/usr/local/lib/python3.10/dist-packages/sklearn/linear_model/_logistic.py:458: ConvergenceWarning: lbfgs failed to converge (status=1):\n",
            "STOP: TOTAL NO. of ITERATIONS REACHED LIMIT.\n",
            "\n",
            "Increase the number of iterations (max_iter) or scale the data as shown in:\n",
            "    https://scikit-learn.org/stable/modules/preprocessing.html\n",
            "Please also refer to the documentation for alternative solver options:\n",
            "    https://scikit-learn.org/stable/modules/linear_model.html#logistic-regression\n",
            "  n_iter_i = _check_optimize_result(\n",
            "/usr/local/lib/python3.10/dist-packages/sklearn/linear_model/_logistic.py:458: ConvergenceWarning: lbfgs failed to converge (status=1):\n",
            "STOP: TOTAL NO. of ITERATIONS REACHED LIMIT.\n",
            "\n",
            "Increase the number of iterations (max_iter) or scale the data as shown in:\n",
            "    https://scikit-learn.org/stable/modules/preprocessing.html\n",
            "Please also refer to the documentation for alternative solver options:\n",
            "    https://scikit-learn.org/stable/modules/linear_model.html#logistic-regression\n",
            "  n_iter_i = _check_optimize_result(\n"
          ]
        },
        {
          "output_type": "stream",
          "name": "stdout",
          "text": [
            "[CV] END C=1.0, fit_intercept=False, max_iter=100, penalty=l2, random_state=21, warm_start=True; total time=   0.1s\n",
            "[CV] END C=1.0, fit_intercept=False, max_iter=100, penalty=l2, random_state=21, warm_start=True; total time=   0.1s\n"
          ]
        },
        {
          "output_type": "stream",
          "name": "stderr",
          "text": [
            "/usr/local/lib/python3.10/dist-packages/sklearn/linear_model/_logistic.py:458: ConvergenceWarning: lbfgs failed to converge (status=1):\n",
            "STOP: TOTAL NO. of ITERATIONS REACHED LIMIT.\n",
            "\n",
            "Increase the number of iterations (max_iter) or scale the data as shown in:\n",
            "    https://scikit-learn.org/stable/modules/preprocessing.html\n",
            "Please also refer to the documentation for alternative solver options:\n",
            "    https://scikit-learn.org/stable/modules/linear_model.html#logistic-regression\n",
            "  n_iter_i = _check_optimize_result(\n",
            "/usr/local/lib/python3.10/dist-packages/sklearn/linear_model/_logistic.py:458: ConvergenceWarning: lbfgs failed to converge (status=1):\n",
            "STOP: TOTAL NO. of ITERATIONS REACHED LIMIT.\n",
            "\n",
            "Increase the number of iterations (max_iter) or scale the data as shown in:\n",
            "    https://scikit-learn.org/stable/modules/preprocessing.html\n",
            "Please also refer to the documentation for alternative solver options:\n",
            "    https://scikit-learn.org/stable/modules/linear_model.html#logistic-regression\n",
            "  n_iter_i = _check_optimize_result(\n"
          ]
        },
        {
          "output_type": "stream",
          "name": "stdout",
          "text": [
            "[CV] END C=1.0, fit_intercept=False, max_iter=100, penalty=l2, random_state=21, warm_start=False; total time=   0.1s\n",
            "[CV] END C=1.0, fit_intercept=False, max_iter=100, penalty=l2, random_state=21, warm_start=False; total time=   0.1s\n"
          ]
        },
        {
          "output_type": "stream",
          "name": "stderr",
          "text": [
            "/usr/local/lib/python3.10/dist-packages/sklearn/linear_model/_logistic.py:458: ConvergenceWarning: lbfgs failed to converge (status=1):\n",
            "STOP: TOTAL NO. of ITERATIONS REACHED LIMIT.\n",
            "\n",
            "Increase the number of iterations (max_iter) or scale the data as shown in:\n",
            "    https://scikit-learn.org/stable/modules/preprocessing.html\n",
            "Please also refer to the documentation for alternative solver options:\n",
            "    https://scikit-learn.org/stable/modules/linear_model.html#logistic-regression\n",
            "  n_iter_i = _check_optimize_result(\n",
            "/usr/local/lib/python3.10/dist-packages/sklearn/linear_model/_logistic.py:458: ConvergenceWarning: lbfgs failed to converge (status=1):\n",
            "STOP: TOTAL NO. of ITERATIONS REACHED LIMIT.\n",
            "\n",
            "Increase the number of iterations (max_iter) or scale the data as shown in:\n",
            "    https://scikit-learn.org/stable/modules/preprocessing.html\n",
            "Please also refer to the documentation for alternative solver options:\n",
            "    https://scikit-learn.org/stable/modules/linear_model.html#logistic-regression\n",
            "  n_iter_i = _check_optimize_result(\n"
          ]
        },
        {
          "output_type": "stream",
          "name": "stdout",
          "text": [
            "[CV] END C=1.0, fit_intercept=False, max_iter=100, penalty=l2, random_state=21, warm_start=False; total time=   0.1s\n",
            "[CV] END C=1.0, fit_intercept=False, max_iter=100, penalty=l2, random_state=42, warm_start=True; total time=   0.1s\n"
          ]
        },
        {
          "output_type": "stream",
          "name": "stderr",
          "text": [
            "/usr/local/lib/python3.10/dist-packages/sklearn/linear_model/_logistic.py:458: ConvergenceWarning: lbfgs failed to converge (status=1):\n",
            "STOP: TOTAL NO. of ITERATIONS REACHED LIMIT.\n",
            "\n",
            "Increase the number of iterations (max_iter) or scale the data as shown in:\n",
            "    https://scikit-learn.org/stable/modules/preprocessing.html\n",
            "Please also refer to the documentation for alternative solver options:\n",
            "    https://scikit-learn.org/stable/modules/linear_model.html#logistic-regression\n",
            "  n_iter_i = _check_optimize_result(\n",
            "/usr/local/lib/python3.10/dist-packages/sklearn/linear_model/_logistic.py:458: ConvergenceWarning: lbfgs failed to converge (status=1):\n",
            "STOP: TOTAL NO. of ITERATIONS REACHED LIMIT.\n",
            "\n",
            "Increase the number of iterations (max_iter) or scale the data as shown in:\n",
            "    https://scikit-learn.org/stable/modules/preprocessing.html\n",
            "Please also refer to the documentation for alternative solver options:\n",
            "    https://scikit-learn.org/stable/modules/linear_model.html#logistic-regression\n",
            "  n_iter_i = _check_optimize_result(\n"
          ]
        },
        {
          "output_type": "stream",
          "name": "stdout",
          "text": [
            "[CV] END C=1.0, fit_intercept=False, max_iter=100, penalty=l2, random_state=42, warm_start=True; total time=   0.1s\n",
            "[CV] END C=1.0, fit_intercept=False, max_iter=100, penalty=l2, random_state=42, warm_start=True; total time=   0.1s\n"
          ]
        },
        {
          "output_type": "stream",
          "name": "stderr",
          "text": [
            "/usr/local/lib/python3.10/dist-packages/sklearn/linear_model/_logistic.py:458: ConvergenceWarning: lbfgs failed to converge (status=1):\n",
            "STOP: TOTAL NO. of ITERATIONS REACHED LIMIT.\n",
            "\n",
            "Increase the number of iterations (max_iter) or scale the data as shown in:\n",
            "    https://scikit-learn.org/stable/modules/preprocessing.html\n",
            "Please also refer to the documentation for alternative solver options:\n",
            "    https://scikit-learn.org/stable/modules/linear_model.html#logistic-regression\n",
            "  n_iter_i = _check_optimize_result(\n",
            "/usr/local/lib/python3.10/dist-packages/sklearn/linear_model/_logistic.py:458: ConvergenceWarning: lbfgs failed to converge (status=1):\n",
            "STOP: TOTAL NO. of ITERATIONS REACHED LIMIT.\n",
            "\n",
            "Increase the number of iterations (max_iter) or scale the data as shown in:\n",
            "    https://scikit-learn.org/stable/modules/preprocessing.html\n",
            "Please also refer to the documentation for alternative solver options:\n",
            "    https://scikit-learn.org/stable/modules/linear_model.html#logistic-regression\n",
            "  n_iter_i = _check_optimize_result(\n"
          ]
        },
        {
          "output_type": "stream",
          "name": "stdout",
          "text": [
            "[CV] END C=1.0, fit_intercept=False, max_iter=100, penalty=l2, random_state=42, warm_start=False; total time=   0.1s\n",
            "[CV] END C=1.0, fit_intercept=False, max_iter=100, penalty=l2, random_state=42, warm_start=False; total time=   0.1s\n"
          ]
        },
        {
          "output_type": "stream",
          "name": "stderr",
          "text": [
            "/usr/local/lib/python3.10/dist-packages/sklearn/linear_model/_logistic.py:458: ConvergenceWarning: lbfgs failed to converge (status=1):\n",
            "STOP: TOTAL NO. of ITERATIONS REACHED LIMIT.\n",
            "\n",
            "Increase the number of iterations (max_iter) or scale the data as shown in:\n",
            "    https://scikit-learn.org/stable/modules/preprocessing.html\n",
            "Please also refer to the documentation for alternative solver options:\n",
            "    https://scikit-learn.org/stable/modules/linear_model.html#logistic-regression\n",
            "  n_iter_i = _check_optimize_result(\n",
            "/usr/local/lib/python3.10/dist-packages/sklearn/linear_model/_logistic.py:458: ConvergenceWarning: lbfgs failed to converge (status=1):\n",
            "STOP: TOTAL NO. of ITERATIONS REACHED LIMIT.\n",
            "\n",
            "Increase the number of iterations (max_iter) or scale the data as shown in:\n",
            "    https://scikit-learn.org/stable/modules/preprocessing.html\n",
            "Please also refer to the documentation for alternative solver options:\n",
            "    https://scikit-learn.org/stable/modules/linear_model.html#logistic-regression\n",
            "  n_iter_i = _check_optimize_result(\n"
          ]
        },
        {
          "output_type": "stream",
          "name": "stdout",
          "text": [
            "[CV] END C=1.0, fit_intercept=False, max_iter=100, penalty=l2, random_state=42, warm_start=False; total time=   0.1s\n",
            "[CV] END C=1.0, fit_intercept=False, max_iter=100, penalty=l2, random_state=15, warm_start=True; total time=   0.1s\n"
          ]
        },
        {
          "output_type": "stream",
          "name": "stderr",
          "text": [
            "/usr/local/lib/python3.10/dist-packages/sklearn/linear_model/_logistic.py:458: ConvergenceWarning: lbfgs failed to converge (status=1):\n",
            "STOP: TOTAL NO. of ITERATIONS REACHED LIMIT.\n",
            "\n",
            "Increase the number of iterations (max_iter) or scale the data as shown in:\n",
            "    https://scikit-learn.org/stable/modules/preprocessing.html\n",
            "Please also refer to the documentation for alternative solver options:\n",
            "    https://scikit-learn.org/stable/modules/linear_model.html#logistic-regression\n",
            "  n_iter_i = _check_optimize_result(\n",
            "/usr/local/lib/python3.10/dist-packages/sklearn/linear_model/_logistic.py:458: ConvergenceWarning: lbfgs failed to converge (status=1):\n",
            "STOP: TOTAL NO. of ITERATIONS REACHED LIMIT.\n",
            "\n",
            "Increase the number of iterations (max_iter) or scale the data as shown in:\n",
            "    https://scikit-learn.org/stable/modules/preprocessing.html\n",
            "Please also refer to the documentation for alternative solver options:\n",
            "    https://scikit-learn.org/stable/modules/linear_model.html#logistic-regression\n",
            "  n_iter_i = _check_optimize_result(\n"
          ]
        },
        {
          "output_type": "stream",
          "name": "stdout",
          "text": [
            "[CV] END C=1.0, fit_intercept=False, max_iter=100, penalty=l2, random_state=15, warm_start=True; total time=   0.1s\n",
            "[CV] END C=1.0, fit_intercept=False, max_iter=100, penalty=l2, random_state=15, warm_start=True; total time=   0.1s\n"
          ]
        },
        {
          "output_type": "stream",
          "name": "stderr",
          "text": [
            "/usr/local/lib/python3.10/dist-packages/sklearn/linear_model/_logistic.py:458: ConvergenceWarning: lbfgs failed to converge (status=1):\n",
            "STOP: TOTAL NO. of ITERATIONS REACHED LIMIT.\n",
            "\n",
            "Increase the number of iterations (max_iter) or scale the data as shown in:\n",
            "    https://scikit-learn.org/stable/modules/preprocessing.html\n",
            "Please also refer to the documentation for alternative solver options:\n",
            "    https://scikit-learn.org/stable/modules/linear_model.html#logistic-regression\n",
            "  n_iter_i = _check_optimize_result(\n",
            "/usr/local/lib/python3.10/dist-packages/sklearn/linear_model/_logistic.py:458: ConvergenceWarning: lbfgs failed to converge (status=1):\n",
            "STOP: TOTAL NO. of ITERATIONS REACHED LIMIT.\n",
            "\n",
            "Increase the number of iterations (max_iter) or scale the data as shown in:\n",
            "    https://scikit-learn.org/stable/modules/preprocessing.html\n",
            "Please also refer to the documentation for alternative solver options:\n",
            "    https://scikit-learn.org/stable/modules/linear_model.html#logistic-regression\n",
            "  n_iter_i = _check_optimize_result(\n"
          ]
        },
        {
          "output_type": "stream",
          "name": "stdout",
          "text": [
            "[CV] END C=1.0, fit_intercept=False, max_iter=100, penalty=l2, random_state=15, warm_start=False; total time=   0.1s\n",
            "[CV] END C=1.0, fit_intercept=False, max_iter=100, penalty=l2, random_state=15, warm_start=False; total time=   0.1s\n"
          ]
        },
        {
          "output_type": "stream",
          "name": "stderr",
          "text": [
            "/usr/local/lib/python3.10/dist-packages/sklearn/linear_model/_logistic.py:458: ConvergenceWarning: lbfgs failed to converge (status=1):\n",
            "STOP: TOTAL NO. of ITERATIONS REACHED LIMIT.\n",
            "\n",
            "Increase the number of iterations (max_iter) or scale the data as shown in:\n",
            "    https://scikit-learn.org/stable/modules/preprocessing.html\n",
            "Please also refer to the documentation for alternative solver options:\n",
            "    https://scikit-learn.org/stable/modules/linear_model.html#logistic-regression\n",
            "  n_iter_i = _check_optimize_result(\n",
            "/usr/local/lib/python3.10/dist-packages/sklearn/linear_model/_logistic.py:458: ConvergenceWarning: lbfgs failed to converge (status=1):\n",
            "STOP: TOTAL NO. of ITERATIONS REACHED LIMIT.\n",
            "\n",
            "Increase the number of iterations (max_iter) or scale the data as shown in:\n",
            "    https://scikit-learn.org/stable/modules/preprocessing.html\n",
            "Please also refer to the documentation for alternative solver options:\n",
            "    https://scikit-learn.org/stable/modules/linear_model.html#logistic-regression\n",
            "  n_iter_i = _check_optimize_result(\n"
          ]
        },
        {
          "output_type": "stream",
          "name": "stdout",
          "text": [
            "[CV] END C=1.0, fit_intercept=False, max_iter=100, penalty=l2, random_state=15, warm_start=False; total time=   0.1s\n",
            "[CV] END C=10, fit_intercept=True, max_iter=1000, penalty=l1, random_state=21, warm_start=True; total time=   0.0s\n",
            "[CV] END C=10, fit_intercept=True, max_iter=1000, penalty=l1, random_state=21, warm_start=True; total time=   0.0s\n",
            "[CV] END C=10, fit_intercept=True, max_iter=1000, penalty=l1, random_state=21, warm_start=True; total time=   0.0s\n",
            "[CV] END C=10, fit_intercept=True, max_iter=1000, penalty=l1, random_state=21, warm_start=False; total time=   0.0s\n",
            "[CV] END C=10, fit_intercept=True, max_iter=1000, penalty=l1, random_state=21, warm_start=False; total time=   0.0s\n",
            "[CV] END C=10, fit_intercept=True, max_iter=1000, penalty=l1, random_state=21, warm_start=False; total time=   0.0s\n",
            "[CV] END C=10, fit_intercept=True, max_iter=1000, penalty=l1, random_state=42, warm_start=True; total time=   0.0s\n",
            "[CV] END C=10, fit_intercept=True, max_iter=1000, penalty=l1, random_state=42, warm_start=True; total time=   0.0s\n",
            "[CV] END C=10, fit_intercept=True, max_iter=1000, penalty=l1, random_state=42, warm_start=True; total time=   0.0s\n",
            "[CV] END C=10, fit_intercept=True, max_iter=1000, penalty=l1, random_state=42, warm_start=False; total time=   0.0s\n",
            "[CV] END C=10, fit_intercept=True, max_iter=1000, penalty=l1, random_state=42, warm_start=False; total time=   0.0s\n",
            "[CV] END C=10, fit_intercept=True, max_iter=1000, penalty=l1, random_state=42, warm_start=False; total time=   0.0s\n",
            "[CV] END C=10, fit_intercept=True, max_iter=1000, penalty=l1, random_state=15, warm_start=True; total time=   0.0s\n",
            "[CV] END C=10, fit_intercept=True, max_iter=1000, penalty=l1, random_state=15, warm_start=True; total time=   0.0s\n",
            "[CV] END C=10, fit_intercept=True, max_iter=1000, penalty=l1, random_state=15, warm_start=True; total time=   0.0s\n",
            "[CV] END C=10, fit_intercept=True, max_iter=1000, penalty=l1, random_state=15, warm_start=False; total time=   0.0s\n",
            "[CV] END C=10, fit_intercept=True, max_iter=1000, penalty=l1, random_state=15, warm_start=False; total time=   0.0s\n",
            "[CV] END C=10, fit_intercept=True, max_iter=1000, penalty=l1, random_state=15, warm_start=False; total time=   0.0s\n"
          ]
        },
        {
          "output_type": "stream",
          "name": "stderr",
          "text": [
            "/usr/local/lib/python3.10/dist-packages/sklearn/linear_model/_logistic.py:458: ConvergenceWarning: lbfgs failed to converge (status=1):\n",
            "STOP: TOTAL NO. of ITERATIONS REACHED LIMIT.\n",
            "\n",
            "Increase the number of iterations (max_iter) or scale the data as shown in:\n",
            "    https://scikit-learn.org/stable/modules/preprocessing.html\n",
            "Please also refer to the documentation for alternative solver options:\n",
            "    https://scikit-learn.org/stable/modules/linear_model.html#logistic-regression\n",
            "  n_iter_i = _check_optimize_result(\n"
          ]
        },
        {
          "output_type": "stream",
          "name": "stdout",
          "text": [
            "[CV] END C=10, fit_intercept=True, max_iter=1000, penalty=l2, random_state=21, warm_start=True; total time=   1.1s\n"
          ]
        },
        {
          "output_type": "stream",
          "name": "stderr",
          "text": [
            "/usr/local/lib/python3.10/dist-packages/sklearn/linear_model/_logistic.py:458: ConvergenceWarning: lbfgs failed to converge (status=1):\n",
            "STOP: TOTAL NO. of ITERATIONS REACHED LIMIT.\n",
            "\n",
            "Increase the number of iterations (max_iter) or scale the data as shown in:\n",
            "    https://scikit-learn.org/stable/modules/preprocessing.html\n",
            "Please also refer to the documentation for alternative solver options:\n",
            "    https://scikit-learn.org/stable/modules/linear_model.html#logistic-regression\n",
            "  n_iter_i = _check_optimize_result(\n"
          ]
        },
        {
          "output_type": "stream",
          "name": "stdout",
          "text": [
            "[CV] END C=10, fit_intercept=True, max_iter=1000, penalty=l2, random_state=21, warm_start=True; total time=   1.2s\n"
          ]
        },
        {
          "output_type": "stream",
          "name": "stderr",
          "text": [
            "/usr/local/lib/python3.10/dist-packages/sklearn/linear_model/_logistic.py:458: ConvergenceWarning: lbfgs failed to converge (status=1):\n",
            "STOP: TOTAL NO. of ITERATIONS REACHED LIMIT.\n",
            "\n",
            "Increase the number of iterations (max_iter) or scale the data as shown in:\n",
            "    https://scikit-learn.org/stable/modules/preprocessing.html\n",
            "Please also refer to the documentation for alternative solver options:\n",
            "    https://scikit-learn.org/stable/modules/linear_model.html#logistic-regression\n",
            "  n_iter_i = _check_optimize_result(\n"
          ]
        },
        {
          "output_type": "stream",
          "name": "stdout",
          "text": [
            "[CV] END C=10, fit_intercept=True, max_iter=1000, penalty=l2, random_state=21, warm_start=True; total time=   1.2s\n"
          ]
        },
        {
          "output_type": "stream",
          "name": "stderr",
          "text": [
            "/usr/local/lib/python3.10/dist-packages/sklearn/linear_model/_logistic.py:458: ConvergenceWarning: lbfgs failed to converge (status=1):\n",
            "STOP: TOTAL NO. of ITERATIONS REACHED LIMIT.\n",
            "\n",
            "Increase the number of iterations (max_iter) or scale the data as shown in:\n",
            "    https://scikit-learn.org/stable/modules/preprocessing.html\n",
            "Please also refer to the documentation for alternative solver options:\n",
            "    https://scikit-learn.org/stable/modules/linear_model.html#logistic-regression\n",
            "  n_iter_i = _check_optimize_result(\n"
          ]
        },
        {
          "output_type": "stream",
          "name": "stdout",
          "text": [
            "[CV] END C=10, fit_intercept=True, max_iter=1000, penalty=l2, random_state=21, warm_start=False; total time=   1.1s\n"
          ]
        },
        {
          "output_type": "stream",
          "name": "stderr",
          "text": [
            "/usr/local/lib/python3.10/dist-packages/sklearn/linear_model/_logistic.py:458: ConvergenceWarning: lbfgs failed to converge (status=1):\n",
            "STOP: TOTAL NO. of ITERATIONS REACHED LIMIT.\n",
            "\n",
            "Increase the number of iterations (max_iter) or scale the data as shown in:\n",
            "    https://scikit-learn.org/stable/modules/preprocessing.html\n",
            "Please also refer to the documentation for alternative solver options:\n",
            "    https://scikit-learn.org/stable/modules/linear_model.html#logistic-regression\n",
            "  n_iter_i = _check_optimize_result(\n"
          ]
        },
        {
          "output_type": "stream",
          "name": "stdout",
          "text": [
            "[CV] END C=10, fit_intercept=True, max_iter=1000, penalty=l2, random_state=21, warm_start=False; total time=   1.2s\n"
          ]
        },
        {
          "output_type": "stream",
          "name": "stderr",
          "text": [
            "/usr/local/lib/python3.10/dist-packages/sklearn/linear_model/_logistic.py:458: ConvergenceWarning: lbfgs failed to converge (status=1):\n",
            "STOP: TOTAL NO. of ITERATIONS REACHED LIMIT.\n",
            "\n",
            "Increase the number of iterations (max_iter) or scale the data as shown in:\n",
            "    https://scikit-learn.org/stable/modules/preprocessing.html\n",
            "Please also refer to the documentation for alternative solver options:\n",
            "    https://scikit-learn.org/stable/modules/linear_model.html#logistic-regression\n",
            "  n_iter_i = _check_optimize_result(\n"
          ]
        },
        {
          "output_type": "stream",
          "name": "stdout",
          "text": [
            "[CV] END C=10, fit_intercept=True, max_iter=1000, penalty=l2, random_state=21, warm_start=False; total time=   1.1s\n"
          ]
        },
        {
          "output_type": "stream",
          "name": "stderr",
          "text": [
            "/usr/local/lib/python3.10/dist-packages/sklearn/linear_model/_logistic.py:458: ConvergenceWarning: lbfgs failed to converge (status=1):\n",
            "STOP: TOTAL NO. of ITERATIONS REACHED LIMIT.\n",
            "\n",
            "Increase the number of iterations (max_iter) or scale the data as shown in:\n",
            "    https://scikit-learn.org/stable/modules/preprocessing.html\n",
            "Please also refer to the documentation for alternative solver options:\n",
            "    https://scikit-learn.org/stable/modules/linear_model.html#logistic-regression\n",
            "  n_iter_i = _check_optimize_result(\n"
          ]
        },
        {
          "output_type": "stream",
          "name": "stdout",
          "text": [
            "[CV] END C=10, fit_intercept=True, max_iter=1000, penalty=l2, random_state=42, warm_start=True; total time=   2.5s\n"
          ]
        },
        {
          "output_type": "stream",
          "name": "stderr",
          "text": [
            "/usr/local/lib/python3.10/dist-packages/sklearn/linear_model/_logistic.py:458: ConvergenceWarning: lbfgs failed to converge (status=1):\n",
            "STOP: TOTAL NO. of ITERATIONS REACHED LIMIT.\n",
            "\n",
            "Increase the number of iterations (max_iter) or scale the data as shown in:\n",
            "    https://scikit-learn.org/stable/modules/preprocessing.html\n",
            "Please also refer to the documentation for alternative solver options:\n",
            "    https://scikit-learn.org/stable/modules/linear_model.html#logistic-regression\n",
            "  n_iter_i = _check_optimize_result(\n"
          ]
        },
        {
          "output_type": "stream",
          "name": "stdout",
          "text": [
            "[CV] END C=10, fit_intercept=True, max_iter=1000, penalty=l2, random_state=42, warm_start=True; total time=   2.7s\n"
          ]
        },
        {
          "output_type": "stream",
          "name": "stderr",
          "text": [
            "/usr/local/lib/python3.10/dist-packages/sklearn/linear_model/_logistic.py:458: ConvergenceWarning: lbfgs failed to converge (status=1):\n",
            "STOP: TOTAL NO. of ITERATIONS REACHED LIMIT.\n",
            "\n",
            "Increase the number of iterations (max_iter) or scale the data as shown in:\n",
            "    https://scikit-learn.org/stable/modules/preprocessing.html\n",
            "Please also refer to the documentation for alternative solver options:\n",
            "    https://scikit-learn.org/stable/modules/linear_model.html#logistic-regression\n",
            "  n_iter_i = _check_optimize_result(\n"
          ]
        },
        {
          "output_type": "stream",
          "name": "stdout",
          "text": [
            "[CV] END C=10, fit_intercept=True, max_iter=1000, penalty=l2, random_state=42, warm_start=True; total time=   1.6s\n"
          ]
        },
        {
          "output_type": "stream",
          "name": "stderr",
          "text": [
            "/usr/local/lib/python3.10/dist-packages/sklearn/linear_model/_logistic.py:458: ConvergenceWarning: lbfgs failed to converge (status=1):\n",
            "STOP: TOTAL NO. of ITERATIONS REACHED LIMIT.\n",
            "\n",
            "Increase the number of iterations (max_iter) or scale the data as shown in:\n",
            "    https://scikit-learn.org/stable/modules/preprocessing.html\n",
            "Please also refer to the documentation for alternative solver options:\n",
            "    https://scikit-learn.org/stable/modules/linear_model.html#logistic-regression\n",
            "  n_iter_i = _check_optimize_result(\n"
          ]
        },
        {
          "output_type": "stream",
          "name": "stdout",
          "text": [
            "[CV] END C=10, fit_intercept=True, max_iter=1000, penalty=l2, random_state=42, warm_start=False; total time=   1.1s\n"
          ]
        },
        {
          "output_type": "stream",
          "name": "stderr",
          "text": [
            "/usr/local/lib/python3.10/dist-packages/sklearn/linear_model/_logistic.py:458: ConvergenceWarning: lbfgs failed to converge (status=1):\n",
            "STOP: TOTAL NO. of ITERATIONS REACHED LIMIT.\n",
            "\n",
            "Increase the number of iterations (max_iter) or scale the data as shown in:\n",
            "    https://scikit-learn.org/stable/modules/preprocessing.html\n",
            "Please also refer to the documentation for alternative solver options:\n",
            "    https://scikit-learn.org/stable/modules/linear_model.html#logistic-regression\n",
            "  n_iter_i = _check_optimize_result(\n"
          ]
        },
        {
          "output_type": "stream",
          "name": "stdout",
          "text": [
            "[CV] END C=10, fit_intercept=True, max_iter=1000, penalty=l2, random_state=42, warm_start=False; total time=   1.2s\n"
          ]
        },
        {
          "output_type": "stream",
          "name": "stderr",
          "text": [
            "/usr/local/lib/python3.10/dist-packages/sklearn/linear_model/_logistic.py:458: ConvergenceWarning: lbfgs failed to converge (status=1):\n",
            "STOP: TOTAL NO. of ITERATIONS REACHED LIMIT.\n",
            "\n",
            "Increase the number of iterations (max_iter) or scale the data as shown in:\n",
            "    https://scikit-learn.org/stable/modules/preprocessing.html\n",
            "Please also refer to the documentation for alternative solver options:\n",
            "    https://scikit-learn.org/stable/modules/linear_model.html#logistic-regression\n",
            "  n_iter_i = _check_optimize_result(\n"
          ]
        },
        {
          "output_type": "stream",
          "name": "stdout",
          "text": [
            "[CV] END C=10, fit_intercept=True, max_iter=1000, penalty=l2, random_state=42, warm_start=False; total time=   1.9s\n"
          ]
        },
        {
          "output_type": "stream",
          "name": "stderr",
          "text": [
            "/usr/local/lib/python3.10/dist-packages/sklearn/linear_model/_logistic.py:458: ConvergenceWarning: lbfgs failed to converge (status=1):\n",
            "STOP: TOTAL NO. of ITERATIONS REACHED LIMIT.\n",
            "\n",
            "Increase the number of iterations (max_iter) or scale the data as shown in:\n",
            "    https://scikit-learn.org/stable/modules/preprocessing.html\n",
            "Please also refer to the documentation for alternative solver options:\n",
            "    https://scikit-learn.org/stable/modules/linear_model.html#logistic-regression\n",
            "  n_iter_i = _check_optimize_result(\n"
          ]
        },
        {
          "output_type": "stream",
          "name": "stdout",
          "text": [
            "[CV] END C=10, fit_intercept=True, max_iter=1000, penalty=l2, random_state=15, warm_start=True; total time=   1.2s\n"
          ]
        },
        {
          "output_type": "stream",
          "name": "stderr",
          "text": [
            "/usr/local/lib/python3.10/dist-packages/sklearn/linear_model/_logistic.py:458: ConvergenceWarning: lbfgs failed to converge (status=1):\n",
            "STOP: TOTAL NO. of ITERATIONS REACHED LIMIT.\n",
            "\n",
            "Increase the number of iterations (max_iter) or scale the data as shown in:\n",
            "    https://scikit-learn.org/stable/modules/preprocessing.html\n",
            "Please also refer to the documentation for alternative solver options:\n",
            "    https://scikit-learn.org/stable/modules/linear_model.html#logistic-regression\n",
            "  n_iter_i = _check_optimize_result(\n"
          ]
        },
        {
          "output_type": "stream",
          "name": "stdout",
          "text": [
            "[CV] END C=10, fit_intercept=True, max_iter=1000, penalty=l2, random_state=15, warm_start=True; total time=   1.1s\n"
          ]
        },
        {
          "output_type": "stream",
          "name": "stderr",
          "text": [
            "/usr/local/lib/python3.10/dist-packages/sklearn/linear_model/_logistic.py:458: ConvergenceWarning: lbfgs failed to converge (status=1):\n",
            "STOP: TOTAL NO. of ITERATIONS REACHED LIMIT.\n",
            "\n",
            "Increase the number of iterations (max_iter) or scale the data as shown in:\n",
            "    https://scikit-learn.org/stable/modules/preprocessing.html\n",
            "Please also refer to the documentation for alternative solver options:\n",
            "    https://scikit-learn.org/stable/modules/linear_model.html#logistic-regression\n",
            "  n_iter_i = _check_optimize_result(\n"
          ]
        },
        {
          "output_type": "stream",
          "name": "stdout",
          "text": [
            "[CV] END C=10, fit_intercept=True, max_iter=1000, penalty=l2, random_state=15, warm_start=True; total time=   1.1s\n"
          ]
        },
        {
          "output_type": "stream",
          "name": "stderr",
          "text": [
            "/usr/local/lib/python3.10/dist-packages/sklearn/linear_model/_logistic.py:458: ConvergenceWarning: lbfgs failed to converge (status=1):\n",
            "STOP: TOTAL NO. of ITERATIONS REACHED LIMIT.\n",
            "\n",
            "Increase the number of iterations (max_iter) or scale the data as shown in:\n",
            "    https://scikit-learn.org/stable/modules/preprocessing.html\n",
            "Please also refer to the documentation for alternative solver options:\n",
            "    https://scikit-learn.org/stable/modules/linear_model.html#logistic-regression\n",
            "  n_iter_i = _check_optimize_result(\n"
          ]
        },
        {
          "output_type": "stream",
          "name": "stdout",
          "text": [
            "[CV] END C=10, fit_intercept=True, max_iter=1000, penalty=l2, random_state=15, warm_start=False; total time=   1.1s\n"
          ]
        },
        {
          "output_type": "stream",
          "name": "stderr",
          "text": [
            "/usr/local/lib/python3.10/dist-packages/sklearn/linear_model/_logistic.py:458: ConvergenceWarning: lbfgs failed to converge (status=1):\n",
            "STOP: TOTAL NO. of ITERATIONS REACHED LIMIT.\n",
            "\n",
            "Increase the number of iterations (max_iter) or scale the data as shown in:\n",
            "    https://scikit-learn.org/stable/modules/preprocessing.html\n",
            "Please also refer to the documentation for alternative solver options:\n",
            "    https://scikit-learn.org/stable/modules/linear_model.html#logistic-regression\n",
            "  n_iter_i = _check_optimize_result(\n"
          ]
        },
        {
          "output_type": "stream",
          "name": "stdout",
          "text": [
            "[CV] END C=10, fit_intercept=True, max_iter=1000, penalty=l2, random_state=15, warm_start=False; total time=   2.0s\n"
          ]
        },
        {
          "output_type": "stream",
          "name": "stderr",
          "text": [
            "/usr/local/lib/python3.10/dist-packages/sklearn/linear_model/_logistic.py:458: ConvergenceWarning: lbfgs failed to converge (status=1):\n",
            "STOP: TOTAL NO. of ITERATIONS REACHED LIMIT.\n",
            "\n",
            "Increase the number of iterations (max_iter) or scale the data as shown in:\n",
            "    https://scikit-learn.org/stable/modules/preprocessing.html\n",
            "Please also refer to the documentation for alternative solver options:\n",
            "    https://scikit-learn.org/stable/modules/linear_model.html#logistic-regression\n",
            "  n_iter_i = _check_optimize_result(\n"
          ]
        },
        {
          "output_type": "stream",
          "name": "stdout",
          "text": [
            "[CV] END C=10, fit_intercept=True, max_iter=1000, penalty=l2, random_state=15, warm_start=False; total time=   3.7s\n",
            "[CV] END C=10, fit_intercept=True, max_iter=500, penalty=l1, random_state=21, warm_start=True; total time=   0.0s\n",
            "[CV] END C=10, fit_intercept=True, max_iter=500, penalty=l1, random_state=21, warm_start=True; total time=   0.0s\n",
            "[CV] END C=10, fit_intercept=True, max_iter=500, penalty=l1, random_state=21, warm_start=True; total time=   0.0s\n",
            "[CV] END C=10, fit_intercept=True, max_iter=500, penalty=l1, random_state=21, warm_start=False; total time=   0.0s\n",
            "[CV] END C=10, fit_intercept=True, max_iter=500, penalty=l1, random_state=21, warm_start=False; total time=   0.0s\n",
            "[CV] END C=10, fit_intercept=True, max_iter=500, penalty=l1, random_state=21, warm_start=False; total time=   0.0s\n",
            "[CV] END C=10, fit_intercept=True, max_iter=500, penalty=l1, random_state=42, warm_start=True; total time=   0.0s\n",
            "[CV] END C=10, fit_intercept=True, max_iter=500, penalty=l1, random_state=42, warm_start=True; total time=   0.0s\n",
            "[CV] END C=10, fit_intercept=True, max_iter=500, penalty=l1, random_state=42, warm_start=True; total time=   0.0s\n",
            "[CV] END C=10, fit_intercept=True, max_iter=500, penalty=l1, random_state=42, warm_start=False; total time=   0.0s\n",
            "[CV] END C=10, fit_intercept=True, max_iter=500, penalty=l1, random_state=42, warm_start=False; total time=   0.0s\n",
            "[CV] END C=10, fit_intercept=True, max_iter=500, penalty=l1, random_state=42, warm_start=False; total time=   0.0s\n",
            "[CV] END C=10, fit_intercept=True, max_iter=500, penalty=l1, random_state=15, warm_start=True; total time=   0.0s\n",
            "[CV] END C=10, fit_intercept=True, max_iter=500, penalty=l1, random_state=15, warm_start=True; total time=   0.0s\n",
            "[CV] END C=10, fit_intercept=True, max_iter=500, penalty=l1, random_state=15, warm_start=True; total time=   0.0s\n",
            "[CV] END C=10, fit_intercept=True, max_iter=500, penalty=l1, random_state=15, warm_start=False; total time=   0.0s\n",
            "[CV] END C=10, fit_intercept=True, max_iter=500, penalty=l1, random_state=15, warm_start=False; total time=   0.0s\n",
            "[CV] END C=10, fit_intercept=True, max_iter=500, penalty=l1, random_state=15, warm_start=False; total time=   0.0s\n"
          ]
        },
        {
          "output_type": "stream",
          "name": "stderr",
          "text": [
            "/usr/local/lib/python3.10/dist-packages/sklearn/linear_model/_logistic.py:458: ConvergenceWarning: lbfgs failed to converge (status=1):\n",
            "STOP: TOTAL NO. of ITERATIONS REACHED LIMIT.\n",
            "\n",
            "Increase the number of iterations (max_iter) or scale the data as shown in:\n",
            "    https://scikit-learn.org/stable/modules/preprocessing.html\n",
            "Please also refer to the documentation for alternative solver options:\n",
            "    https://scikit-learn.org/stable/modules/linear_model.html#logistic-regression\n",
            "  n_iter_i = _check_optimize_result(\n"
          ]
        },
        {
          "output_type": "stream",
          "name": "stdout",
          "text": [
            "[CV] END C=10, fit_intercept=True, max_iter=500, penalty=l2, random_state=21, warm_start=True; total time=   0.7s\n"
          ]
        },
        {
          "output_type": "stream",
          "name": "stderr",
          "text": [
            "/usr/local/lib/python3.10/dist-packages/sklearn/linear_model/_logistic.py:458: ConvergenceWarning: lbfgs failed to converge (status=1):\n",
            "STOP: TOTAL NO. of ITERATIONS REACHED LIMIT.\n",
            "\n",
            "Increase the number of iterations (max_iter) or scale the data as shown in:\n",
            "    https://scikit-learn.org/stable/modules/preprocessing.html\n",
            "Please also refer to the documentation for alternative solver options:\n",
            "    https://scikit-learn.org/stable/modules/linear_model.html#logistic-regression\n",
            "  n_iter_i = _check_optimize_result(\n"
          ]
        },
        {
          "output_type": "stream",
          "name": "stdout",
          "text": [
            "[CV] END C=10, fit_intercept=True, max_iter=500, penalty=l2, random_state=21, warm_start=True; total time=   0.6s\n"
          ]
        },
        {
          "output_type": "stream",
          "name": "stderr",
          "text": [
            "/usr/local/lib/python3.10/dist-packages/sklearn/linear_model/_logistic.py:458: ConvergenceWarning: lbfgs failed to converge (status=1):\n",
            "STOP: TOTAL NO. of ITERATIONS REACHED LIMIT.\n",
            "\n",
            "Increase the number of iterations (max_iter) or scale the data as shown in:\n",
            "    https://scikit-learn.org/stable/modules/preprocessing.html\n",
            "Please also refer to the documentation for alternative solver options:\n",
            "    https://scikit-learn.org/stable/modules/linear_model.html#logistic-regression\n",
            "  n_iter_i = _check_optimize_result(\n"
          ]
        },
        {
          "output_type": "stream",
          "name": "stdout",
          "text": [
            "[CV] END C=10, fit_intercept=True, max_iter=500, penalty=l2, random_state=21, warm_start=True; total time=   0.6s\n"
          ]
        },
        {
          "output_type": "stream",
          "name": "stderr",
          "text": [
            "/usr/local/lib/python3.10/dist-packages/sklearn/linear_model/_logistic.py:458: ConvergenceWarning: lbfgs failed to converge (status=1):\n",
            "STOP: TOTAL NO. of ITERATIONS REACHED LIMIT.\n",
            "\n",
            "Increase the number of iterations (max_iter) or scale the data as shown in:\n",
            "    https://scikit-learn.org/stable/modules/preprocessing.html\n",
            "Please also refer to the documentation for alternative solver options:\n",
            "    https://scikit-learn.org/stable/modules/linear_model.html#logistic-regression\n",
            "  n_iter_i = _check_optimize_result(\n"
          ]
        },
        {
          "output_type": "stream",
          "name": "stdout",
          "text": [
            "[CV] END C=10, fit_intercept=True, max_iter=500, penalty=l2, random_state=21, warm_start=False; total time=   0.6s\n"
          ]
        },
        {
          "output_type": "stream",
          "name": "stderr",
          "text": [
            "/usr/local/lib/python3.10/dist-packages/sklearn/linear_model/_logistic.py:458: ConvergenceWarning: lbfgs failed to converge (status=1):\n",
            "STOP: TOTAL NO. of ITERATIONS REACHED LIMIT.\n",
            "\n",
            "Increase the number of iterations (max_iter) or scale the data as shown in:\n",
            "    https://scikit-learn.org/stable/modules/preprocessing.html\n",
            "Please also refer to the documentation for alternative solver options:\n",
            "    https://scikit-learn.org/stable/modules/linear_model.html#logistic-regression\n",
            "  n_iter_i = _check_optimize_result(\n"
          ]
        },
        {
          "output_type": "stream",
          "name": "stdout",
          "text": [
            "[CV] END C=10, fit_intercept=True, max_iter=500, penalty=l2, random_state=21, warm_start=False; total time=   0.6s\n"
          ]
        },
        {
          "output_type": "stream",
          "name": "stderr",
          "text": [
            "/usr/local/lib/python3.10/dist-packages/sklearn/linear_model/_logistic.py:458: ConvergenceWarning: lbfgs failed to converge (status=1):\n",
            "STOP: TOTAL NO. of ITERATIONS REACHED LIMIT.\n",
            "\n",
            "Increase the number of iterations (max_iter) or scale the data as shown in:\n",
            "    https://scikit-learn.org/stable/modules/preprocessing.html\n",
            "Please also refer to the documentation for alternative solver options:\n",
            "    https://scikit-learn.org/stable/modules/linear_model.html#logistic-regression\n",
            "  n_iter_i = _check_optimize_result(\n"
          ]
        },
        {
          "output_type": "stream",
          "name": "stdout",
          "text": [
            "[CV] END C=10, fit_intercept=True, max_iter=500, penalty=l2, random_state=21, warm_start=False; total time=   0.6s\n"
          ]
        },
        {
          "output_type": "stream",
          "name": "stderr",
          "text": [
            "/usr/local/lib/python3.10/dist-packages/sklearn/linear_model/_logistic.py:458: ConvergenceWarning: lbfgs failed to converge (status=1):\n",
            "STOP: TOTAL NO. of ITERATIONS REACHED LIMIT.\n",
            "\n",
            "Increase the number of iterations (max_iter) or scale the data as shown in:\n",
            "    https://scikit-learn.org/stable/modules/preprocessing.html\n",
            "Please also refer to the documentation for alternative solver options:\n",
            "    https://scikit-learn.org/stable/modules/linear_model.html#logistic-regression\n",
            "  n_iter_i = _check_optimize_result(\n"
          ]
        },
        {
          "output_type": "stream",
          "name": "stdout",
          "text": [
            "[CV] END C=10, fit_intercept=True, max_iter=500, penalty=l2, random_state=42, warm_start=True; total time=   0.6s\n"
          ]
        },
        {
          "output_type": "stream",
          "name": "stderr",
          "text": [
            "/usr/local/lib/python3.10/dist-packages/sklearn/linear_model/_logistic.py:458: ConvergenceWarning: lbfgs failed to converge (status=1):\n",
            "STOP: TOTAL NO. of ITERATIONS REACHED LIMIT.\n",
            "\n",
            "Increase the number of iterations (max_iter) or scale the data as shown in:\n",
            "    https://scikit-learn.org/stable/modules/preprocessing.html\n",
            "Please also refer to the documentation for alternative solver options:\n",
            "    https://scikit-learn.org/stable/modules/linear_model.html#logistic-regression\n",
            "  n_iter_i = _check_optimize_result(\n"
          ]
        },
        {
          "output_type": "stream",
          "name": "stdout",
          "text": [
            "[CV] END C=10, fit_intercept=True, max_iter=500, penalty=l2, random_state=42, warm_start=True; total time=   0.6s\n"
          ]
        },
        {
          "output_type": "stream",
          "name": "stderr",
          "text": [
            "/usr/local/lib/python3.10/dist-packages/sklearn/linear_model/_logistic.py:458: ConvergenceWarning: lbfgs failed to converge (status=1):\n",
            "STOP: TOTAL NO. of ITERATIONS REACHED LIMIT.\n",
            "\n",
            "Increase the number of iterations (max_iter) or scale the data as shown in:\n",
            "    https://scikit-learn.org/stable/modules/preprocessing.html\n",
            "Please also refer to the documentation for alternative solver options:\n",
            "    https://scikit-learn.org/stable/modules/linear_model.html#logistic-regression\n",
            "  n_iter_i = _check_optimize_result(\n"
          ]
        },
        {
          "output_type": "stream",
          "name": "stdout",
          "text": [
            "[CV] END C=10, fit_intercept=True, max_iter=500, penalty=l2, random_state=42, warm_start=True; total time=   0.6s\n"
          ]
        },
        {
          "output_type": "stream",
          "name": "stderr",
          "text": [
            "/usr/local/lib/python3.10/dist-packages/sklearn/linear_model/_logistic.py:458: ConvergenceWarning: lbfgs failed to converge (status=1):\n",
            "STOP: TOTAL NO. of ITERATIONS REACHED LIMIT.\n",
            "\n",
            "Increase the number of iterations (max_iter) or scale the data as shown in:\n",
            "    https://scikit-learn.org/stable/modules/preprocessing.html\n",
            "Please also refer to the documentation for alternative solver options:\n",
            "    https://scikit-learn.org/stable/modules/linear_model.html#logistic-regression\n",
            "  n_iter_i = _check_optimize_result(\n"
          ]
        },
        {
          "output_type": "stream",
          "name": "stdout",
          "text": [
            "[CV] END C=10, fit_intercept=True, max_iter=500, penalty=l2, random_state=42, warm_start=False; total time=   0.6s\n"
          ]
        },
        {
          "output_type": "stream",
          "name": "stderr",
          "text": [
            "/usr/local/lib/python3.10/dist-packages/sklearn/linear_model/_logistic.py:458: ConvergenceWarning: lbfgs failed to converge (status=1):\n",
            "STOP: TOTAL NO. of ITERATIONS REACHED LIMIT.\n",
            "\n",
            "Increase the number of iterations (max_iter) or scale the data as shown in:\n",
            "    https://scikit-learn.org/stable/modules/preprocessing.html\n",
            "Please also refer to the documentation for alternative solver options:\n",
            "    https://scikit-learn.org/stable/modules/linear_model.html#logistic-regression\n",
            "  n_iter_i = _check_optimize_result(\n"
          ]
        },
        {
          "output_type": "stream",
          "name": "stdout",
          "text": [
            "[CV] END C=10, fit_intercept=True, max_iter=500, penalty=l2, random_state=42, warm_start=False; total time=   0.6s\n"
          ]
        },
        {
          "output_type": "stream",
          "name": "stderr",
          "text": [
            "/usr/local/lib/python3.10/dist-packages/sklearn/linear_model/_logistic.py:458: ConvergenceWarning: lbfgs failed to converge (status=1):\n",
            "STOP: TOTAL NO. of ITERATIONS REACHED LIMIT.\n",
            "\n",
            "Increase the number of iterations (max_iter) or scale the data as shown in:\n",
            "    https://scikit-learn.org/stable/modules/preprocessing.html\n",
            "Please also refer to the documentation for alternative solver options:\n",
            "    https://scikit-learn.org/stable/modules/linear_model.html#logistic-regression\n",
            "  n_iter_i = _check_optimize_result(\n"
          ]
        },
        {
          "output_type": "stream",
          "name": "stdout",
          "text": [
            "[CV] END C=10, fit_intercept=True, max_iter=500, penalty=l2, random_state=42, warm_start=False; total time=   0.6s\n"
          ]
        },
        {
          "output_type": "stream",
          "name": "stderr",
          "text": [
            "/usr/local/lib/python3.10/dist-packages/sklearn/linear_model/_logistic.py:458: ConvergenceWarning: lbfgs failed to converge (status=1):\n",
            "STOP: TOTAL NO. of ITERATIONS REACHED LIMIT.\n",
            "\n",
            "Increase the number of iterations (max_iter) or scale the data as shown in:\n",
            "    https://scikit-learn.org/stable/modules/preprocessing.html\n",
            "Please also refer to the documentation for alternative solver options:\n",
            "    https://scikit-learn.org/stable/modules/linear_model.html#logistic-regression\n",
            "  n_iter_i = _check_optimize_result(\n"
          ]
        },
        {
          "output_type": "stream",
          "name": "stdout",
          "text": [
            "[CV] END C=10, fit_intercept=True, max_iter=500, penalty=l2, random_state=15, warm_start=True; total time=   0.6s\n"
          ]
        },
        {
          "output_type": "stream",
          "name": "stderr",
          "text": [
            "/usr/local/lib/python3.10/dist-packages/sklearn/linear_model/_logistic.py:458: ConvergenceWarning: lbfgs failed to converge (status=1):\n",
            "STOP: TOTAL NO. of ITERATIONS REACHED LIMIT.\n",
            "\n",
            "Increase the number of iterations (max_iter) or scale the data as shown in:\n",
            "    https://scikit-learn.org/stable/modules/preprocessing.html\n",
            "Please also refer to the documentation for alternative solver options:\n",
            "    https://scikit-learn.org/stable/modules/linear_model.html#logistic-regression\n",
            "  n_iter_i = _check_optimize_result(\n"
          ]
        },
        {
          "output_type": "stream",
          "name": "stdout",
          "text": [
            "[CV] END C=10, fit_intercept=True, max_iter=500, penalty=l2, random_state=15, warm_start=True; total time=   0.6s\n"
          ]
        },
        {
          "output_type": "stream",
          "name": "stderr",
          "text": [
            "/usr/local/lib/python3.10/dist-packages/sklearn/linear_model/_logistic.py:458: ConvergenceWarning: lbfgs failed to converge (status=1):\n",
            "STOP: TOTAL NO. of ITERATIONS REACHED LIMIT.\n",
            "\n",
            "Increase the number of iterations (max_iter) or scale the data as shown in:\n",
            "    https://scikit-learn.org/stable/modules/preprocessing.html\n",
            "Please also refer to the documentation for alternative solver options:\n",
            "    https://scikit-learn.org/stable/modules/linear_model.html#logistic-regression\n",
            "  n_iter_i = _check_optimize_result(\n"
          ]
        },
        {
          "output_type": "stream",
          "name": "stdout",
          "text": [
            "[CV] END C=10, fit_intercept=True, max_iter=500, penalty=l2, random_state=15, warm_start=True; total time=   0.6s\n"
          ]
        },
        {
          "output_type": "stream",
          "name": "stderr",
          "text": [
            "/usr/local/lib/python3.10/dist-packages/sklearn/linear_model/_logistic.py:458: ConvergenceWarning: lbfgs failed to converge (status=1):\n",
            "STOP: TOTAL NO. of ITERATIONS REACHED LIMIT.\n",
            "\n",
            "Increase the number of iterations (max_iter) or scale the data as shown in:\n",
            "    https://scikit-learn.org/stable/modules/preprocessing.html\n",
            "Please also refer to the documentation for alternative solver options:\n",
            "    https://scikit-learn.org/stable/modules/linear_model.html#logistic-regression\n",
            "  n_iter_i = _check_optimize_result(\n"
          ]
        },
        {
          "output_type": "stream",
          "name": "stdout",
          "text": [
            "[CV] END C=10, fit_intercept=True, max_iter=500, penalty=l2, random_state=15, warm_start=False; total time=   0.6s\n"
          ]
        },
        {
          "output_type": "stream",
          "name": "stderr",
          "text": [
            "/usr/local/lib/python3.10/dist-packages/sklearn/linear_model/_logistic.py:458: ConvergenceWarning: lbfgs failed to converge (status=1):\n",
            "STOP: TOTAL NO. of ITERATIONS REACHED LIMIT.\n",
            "\n",
            "Increase the number of iterations (max_iter) or scale the data as shown in:\n",
            "    https://scikit-learn.org/stable/modules/preprocessing.html\n",
            "Please also refer to the documentation for alternative solver options:\n",
            "    https://scikit-learn.org/stable/modules/linear_model.html#logistic-regression\n",
            "  n_iter_i = _check_optimize_result(\n"
          ]
        },
        {
          "output_type": "stream",
          "name": "stdout",
          "text": [
            "[CV] END C=10, fit_intercept=True, max_iter=500, penalty=l2, random_state=15, warm_start=False; total time=   0.6s\n"
          ]
        },
        {
          "output_type": "stream",
          "name": "stderr",
          "text": [
            "/usr/local/lib/python3.10/dist-packages/sklearn/linear_model/_logistic.py:458: ConvergenceWarning: lbfgs failed to converge (status=1):\n",
            "STOP: TOTAL NO. of ITERATIONS REACHED LIMIT.\n",
            "\n",
            "Increase the number of iterations (max_iter) or scale the data as shown in:\n",
            "    https://scikit-learn.org/stable/modules/preprocessing.html\n",
            "Please also refer to the documentation for alternative solver options:\n",
            "    https://scikit-learn.org/stable/modules/linear_model.html#logistic-regression\n",
            "  n_iter_i = _check_optimize_result(\n"
          ]
        },
        {
          "output_type": "stream",
          "name": "stdout",
          "text": [
            "[CV] END C=10, fit_intercept=True, max_iter=500, penalty=l2, random_state=15, warm_start=False; total time=   1.1s\n",
            "[CV] END C=10, fit_intercept=True, max_iter=300, penalty=l1, random_state=21, warm_start=True; total time=   0.0s\n",
            "[CV] END C=10, fit_intercept=True, max_iter=300, penalty=l1, random_state=21, warm_start=True; total time=   0.0s\n",
            "[CV] END C=10, fit_intercept=True, max_iter=300, penalty=l1, random_state=21, warm_start=True; total time=   0.0s\n",
            "[CV] END C=10, fit_intercept=True, max_iter=300, penalty=l1, random_state=21, warm_start=False; total time=   0.0s\n",
            "[CV] END C=10, fit_intercept=True, max_iter=300, penalty=l1, random_state=21, warm_start=False; total time=   0.0s\n",
            "[CV] END C=10, fit_intercept=True, max_iter=300, penalty=l1, random_state=21, warm_start=False; total time=   0.0s\n",
            "[CV] END C=10, fit_intercept=True, max_iter=300, penalty=l1, random_state=42, warm_start=True; total time=   0.0s\n",
            "[CV] END C=10, fit_intercept=True, max_iter=300, penalty=l1, random_state=42, warm_start=True; total time=   0.0s\n",
            "[CV] END C=10, fit_intercept=True, max_iter=300, penalty=l1, random_state=42, warm_start=True; total time=   0.0s\n",
            "[CV] END C=10, fit_intercept=True, max_iter=300, penalty=l1, random_state=42, warm_start=False; total time=   0.0s\n",
            "[CV] END C=10, fit_intercept=True, max_iter=300, penalty=l1, random_state=42, warm_start=False; total time=   0.0s\n",
            "[CV] END C=10, fit_intercept=True, max_iter=300, penalty=l1, random_state=42, warm_start=False; total time=   0.0s\n",
            "[CV] END C=10, fit_intercept=True, max_iter=300, penalty=l1, random_state=15, warm_start=True; total time=   0.0s\n",
            "[CV] END C=10, fit_intercept=True, max_iter=300, penalty=l1, random_state=15, warm_start=True; total time=   0.0s\n",
            "[CV] END C=10, fit_intercept=True, max_iter=300, penalty=l1, random_state=15, warm_start=True; total time=   0.0s\n",
            "[CV] END C=10, fit_intercept=True, max_iter=300, penalty=l1, random_state=15, warm_start=False; total time=   0.0s\n",
            "[CV] END C=10, fit_intercept=True, max_iter=300, penalty=l1, random_state=15, warm_start=False; total time=   0.0s\n",
            "[CV] END C=10, fit_intercept=True, max_iter=300, penalty=l1, random_state=15, warm_start=False; total time=   0.0s\n"
          ]
        },
        {
          "output_type": "stream",
          "name": "stderr",
          "text": [
            "/usr/local/lib/python3.10/dist-packages/sklearn/linear_model/_logistic.py:458: ConvergenceWarning: lbfgs failed to converge (status=1):\n",
            "STOP: TOTAL NO. of ITERATIONS REACHED LIMIT.\n",
            "\n",
            "Increase the number of iterations (max_iter) or scale the data as shown in:\n",
            "    https://scikit-learn.org/stable/modules/preprocessing.html\n",
            "Please also refer to the documentation for alternative solver options:\n",
            "    https://scikit-learn.org/stable/modules/linear_model.html#logistic-regression\n",
            "  n_iter_i = _check_optimize_result(\n"
          ]
        },
        {
          "output_type": "stream",
          "name": "stdout",
          "text": [
            "[CV] END C=10, fit_intercept=True, max_iter=300, penalty=l2, random_state=21, warm_start=True; total time=   0.8s\n"
          ]
        },
        {
          "output_type": "stream",
          "name": "stderr",
          "text": [
            "/usr/local/lib/python3.10/dist-packages/sklearn/linear_model/_logistic.py:458: ConvergenceWarning: lbfgs failed to converge (status=1):\n",
            "STOP: TOTAL NO. of ITERATIONS REACHED LIMIT.\n",
            "\n",
            "Increase the number of iterations (max_iter) or scale the data as shown in:\n",
            "    https://scikit-learn.org/stable/modules/preprocessing.html\n",
            "Please also refer to the documentation for alternative solver options:\n",
            "    https://scikit-learn.org/stable/modules/linear_model.html#logistic-regression\n",
            "  n_iter_i = _check_optimize_result(\n"
          ]
        },
        {
          "output_type": "stream",
          "name": "stdout",
          "text": [
            "[CV] END C=10, fit_intercept=True, max_iter=300, penalty=l2, random_state=21, warm_start=True; total time=   0.8s\n"
          ]
        },
        {
          "output_type": "stream",
          "name": "stderr",
          "text": [
            "/usr/local/lib/python3.10/dist-packages/sklearn/linear_model/_logistic.py:458: ConvergenceWarning: lbfgs failed to converge (status=1):\n",
            "STOP: TOTAL NO. of ITERATIONS REACHED LIMIT.\n",
            "\n",
            "Increase the number of iterations (max_iter) or scale the data as shown in:\n",
            "    https://scikit-learn.org/stable/modules/preprocessing.html\n",
            "Please also refer to the documentation for alternative solver options:\n",
            "    https://scikit-learn.org/stable/modules/linear_model.html#logistic-regression\n",
            "  n_iter_i = _check_optimize_result(\n"
          ]
        },
        {
          "output_type": "stream",
          "name": "stdout",
          "text": [
            "[CV] END C=10, fit_intercept=True, max_iter=300, penalty=l2, random_state=21, warm_start=True; total time=   0.8s\n"
          ]
        },
        {
          "output_type": "stream",
          "name": "stderr",
          "text": [
            "/usr/local/lib/python3.10/dist-packages/sklearn/linear_model/_logistic.py:458: ConvergenceWarning: lbfgs failed to converge (status=1):\n",
            "STOP: TOTAL NO. of ITERATIONS REACHED LIMIT.\n",
            "\n",
            "Increase the number of iterations (max_iter) or scale the data as shown in:\n",
            "    https://scikit-learn.org/stable/modules/preprocessing.html\n",
            "Please also refer to the documentation for alternative solver options:\n",
            "    https://scikit-learn.org/stable/modules/linear_model.html#logistic-regression\n",
            "  n_iter_i = _check_optimize_result(\n"
          ]
        },
        {
          "output_type": "stream",
          "name": "stdout",
          "text": [
            "[CV] END C=10, fit_intercept=True, max_iter=300, penalty=l2, random_state=21, warm_start=False; total time=   0.8s\n"
          ]
        },
        {
          "output_type": "stream",
          "name": "stderr",
          "text": [
            "/usr/local/lib/python3.10/dist-packages/sklearn/linear_model/_logistic.py:458: ConvergenceWarning: lbfgs failed to converge (status=1):\n",
            "STOP: TOTAL NO. of ITERATIONS REACHED LIMIT.\n",
            "\n",
            "Increase the number of iterations (max_iter) or scale the data as shown in:\n",
            "    https://scikit-learn.org/stable/modules/preprocessing.html\n",
            "Please also refer to the documentation for alternative solver options:\n",
            "    https://scikit-learn.org/stable/modules/linear_model.html#logistic-regression\n",
            "  n_iter_i = _check_optimize_result(\n"
          ]
        },
        {
          "output_type": "stream",
          "name": "stdout",
          "text": [
            "[CV] END C=10, fit_intercept=True, max_iter=300, penalty=l2, random_state=21, warm_start=False; total time=   0.9s\n"
          ]
        },
        {
          "output_type": "stream",
          "name": "stderr",
          "text": [
            "/usr/local/lib/python3.10/dist-packages/sklearn/linear_model/_logistic.py:458: ConvergenceWarning: lbfgs failed to converge (status=1):\n",
            "STOP: TOTAL NO. of ITERATIONS REACHED LIMIT.\n",
            "\n",
            "Increase the number of iterations (max_iter) or scale the data as shown in:\n",
            "    https://scikit-learn.org/stable/modules/preprocessing.html\n",
            "Please also refer to the documentation for alternative solver options:\n",
            "    https://scikit-learn.org/stable/modules/linear_model.html#logistic-regression\n",
            "  n_iter_i = _check_optimize_result(\n"
          ]
        },
        {
          "output_type": "stream",
          "name": "stdout",
          "text": [
            "[CV] END C=10, fit_intercept=True, max_iter=300, penalty=l2, random_state=21, warm_start=False; total time=   0.6s\n"
          ]
        },
        {
          "output_type": "stream",
          "name": "stderr",
          "text": [
            "/usr/local/lib/python3.10/dist-packages/sklearn/linear_model/_logistic.py:458: ConvergenceWarning: lbfgs failed to converge (status=1):\n",
            "STOP: TOTAL NO. of ITERATIONS REACHED LIMIT.\n",
            "\n",
            "Increase the number of iterations (max_iter) or scale the data as shown in:\n",
            "    https://scikit-learn.org/stable/modules/preprocessing.html\n",
            "Please also refer to the documentation for alternative solver options:\n",
            "    https://scikit-learn.org/stable/modules/linear_model.html#logistic-regression\n",
            "  n_iter_i = _check_optimize_result(\n"
          ]
        },
        {
          "output_type": "stream",
          "name": "stdout",
          "text": [
            "[CV] END C=10, fit_intercept=True, max_iter=300, penalty=l2, random_state=42, warm_start=True; total time=   0.3s\n"
          ]
        },
        {
          "output_type": "stream",
          "name": "stderr",
          "text": [
            "/usr/local/lib/python3.10/dist-packages/sklearn/linear_model/_logistic.py:458: ConvergenceWarning: lbfgs failed to converge (status=1):\n",
            "STOP: TOTAL NO. of ITERATIONS REACHED LIMIT.\n",
            "\n",
            "Increase the number of iterations (max_iter) or scale the data as shown in:\n",
            "    https://scikit-learn.org/stable/modules/preprocessing.html\n",
            "Please also refer to the documentation for alternative solver options:\n",
            "    https://scikit-learn.org/stable/modules/linear_model.html#logistic-regression\n",
            "  n_iter_i = _check_optimize_result(\n"
          ]
        },
        {
          "output_type": "stream",
          "name": "stdout",
          "text": [
            "[CV] END C=10, fit_intercept=True, max_iter=300, penalty=l2, random_state=42, warm_start=True; total time=   0.4s\n"
          ]
        },
        {
          "output_type": "stream",
          "name": "stderr",
          "text": [
            "/usr/local/lib/python3.10/dist-packages/sklearn/linear_model/_logistic.py:458: ConvergenceWarning: lbfgs failed to converge (status=1):\n",
            "STOP: TOTAL NO. of ITERATIONS REACHED LIMIT.\n",
            "\n",
            "Increase the number of iterations (max_iter) or scale the data as shown in:\n",
            "    https://scikit-learn.org/stable/modules/preprocessing.html\n",
            "Please also refer to the documentation for alternative solver options:\n",
            "    https://scikit-learn.org/stable/modules/linear_model.html#logistic-regression\n",
            "  n_iter_i = _check_optimize_result(\n"
          ]
        },
        {
          "output_type": "stream",
          "name": "stdout",
          "text": [
            "[CV] END C=10, fit_intercept=True, max_iter=300, penalty=l2, random_state=42, warm_start=True; total time=   0.4s\n"
          ]
        },
        {
          "output_type": "stream",
          "name": "stderr",
          "text": [
            "/usr/local/lib/python3.10/dist-packages/sklearn/linear_model/_logistic.py:458: ConvergenceWarning: lbfgs failed to converge (status=1):\n",
            "STOP: TOTAL NO. of ITERATIONS REACHED LIMIT.\n",
            "\n",
            "Increase the number of iterations (max_iter) or scale the data as shown in:\n",
            "    https://scikit-learn.org/stable/modules/preprocessing.html\n",
            "Please also refer to the documentation for alternative solver options:\n",
            "    https://scikit-learn.org/stable/modules/linear_model.html#logistic-regression\n",
            "  n_iter_i = _check_optimize_result(\n"
          ]
        },
        {
          "output_type": "stream",
          "name": "stdout",
          "text": [
            "[CV] END C=10, fit_intercept=True, max_iter=300, penalty=l2, random_state=42, warm_start=False; total time=   0.4s\n"
          ]
        },
        {
          "output_type": "stream",
          "name": "stderr",
          "text": [
            "/usr/local/lib/python3.10/dist-packages/sklearn/linear_model/_logistic.py:458: ConvergenceWarning: lbfgs failed to converge (status=1):\n",
            "STOP: TOTAL NO. of ITERATIONS REACHED LIMIT.\n",
            "\n",
            "Increase the number of iterations (max_iter) or scale the data as shown in:\n",
            "    https://scikit-learn.org/stable/modules/preprocessing.html\n",
            "Please also refer to the documentation for alternative solver options:\n",
            "    https://scikit-learn.org/stable/modules/linear_model.html#logistic-regression\n",
            "  n_iter_i = _check_optimize_result(\n"
          ]
        },
        {
          "output_type": "stream",
          "name": "stdout",
          "text": [
            "[CV] END C=10, fit_intercept=True, max_iter=300, penalty=l2, random_state=42, warm_start=False; total time=   0.4s\n"
          ]
        },
        {
          "output_type": "stream",
          "name": "stderr",
          "text": [
            "/usr/local/lib/python3.10/dist-packages/sklearn/linear_model/_logistic.py:458: ConvergenceWarning: lbfgs failed to converge (status=1):\n",
            "STOP: TOTAL NO. of ITERATIONS REACHED LIMIT.\n",
            "\n",
            "Increase the number of iterations (max_iter) or scale the data as shown in:\n",
            "    https://scikit-learn.org/stable/modules/preprocessing.html\n",
            "Please also refer to the documentation for alternative solver options:\n",
            "    https://scikit-learn.org/stable/modules/linear_model.html#logistic-regression\n",
            "  n_iter_i = _check_optimize_result(\n"
          ]
        },
        {
          "output_type": "stream",
          "name": "stdout",
          "text": [
            "[CV] END C=10, fit_intercept=True, max_iter=300, penalty=l2, random_state=42, warm_start=False; total time=   0.4s\n"
          ]
        },
        {
          "output_type": "stream",
          "name": "stderr",
          "text": [
            "/usr/local/lib/python3.10/dist-packages/sklearn/linear_model/_logistic.py:458: ConvergenceWarning: lbfgs failed to converge (status=1):\n",
            "STOP: TOTAL NO. of ITERATIONS REACHED LIMIT.\n",
            "\n",
            "Increase the number of iterations (max_iter) or scale the data as shown in:\n",
            "    https://scikit-learn.org/stable/modules/preprocessing.html\n",
            "Please also refer to the documentation for alternative solver options:\n",
            "    https://scikit-learn.org/stable/modules/linear_model.html#logistic-regression\n",
            "  n_iter_i = _check_optimize_result(\n"
          ]
        },
        {
          "output_type": "stream",
          "name": "stdout",
          "text": [
            "[CV] END C=10, fit_intercept=True, max_iter=300, penalty=l2, random_state=15, warm_start=True; total time=   0.4s\n"
          ]
        },
        {
          "output_type": "stream",
          "name": "stderr",
          "text": [
            "/usr/local/lib/python3.10/dist-packages/sklearn/linear_model/_logistic.py:458: ConvergenceWarning: lbfgs failed to converge (status=1):\n",
            "STOP: TOTAL NO. of ITERATIONS REACHED LIMIT.\n",
            "\n",
            "Increase the number of iterations (max_iter) or scale the data as shown in:\n",
            "    https://scikit-learn.org/stable/modules/preprocessing.html\n",
            "Please also refer to the documentation for alternative solver options:\n",
            "    https://scikit-learn.org/stable/modules/linear_model.html#logistic-regression\n",
            "  n_iter_i = _check_optimize_result(\n"
          ]
        },
        {
          "output_type": "stream",
          "name": "stdout",
          "text": [
            "[CV] END C=10, fit_intercept=True, max_iter=300, penalty=l2, random_state=15, warm_start=True; total time=   0.4s\n"
          ]
        },
        {
          "output_type": "stream",
          "name": "stderr",
          "text": [
            "/usr/local/lib/python3.10/dist-packages/sklearn/linear_model/_logistic.py:458: ConvergenceWarning: lbfgs failed to converge (status=1):\n",
            "STOP: TOTAL NO. of ITERATIONS REACHED LIMIT.\n",
            "\n",
            "Increase the number of iterations (max_iter) or scale the data as shown in:\n",
            "    https://scikit-learn.org/stable/modules/preprocessing.html\n",
            "Please also refer to the documentation for alternative solver options:\n",
            "    https://scikit-learn.org/stable/modules/linear_model.html#logistic-regression\n",
            "  n_iter_i = _check_optimize_result(\n"
          ]
        },
        {
          "output_type": "stream",
          "name": "stdout",
          "text": [
            "[CV] END C=10, fit_intercept=True, max_iter=300, penalty=l2, random_state=15, warm_start=True; total time=   0.4s\n"
          ]
        },
        {
          "output_type": "stream",
          "name": "stderr",
          "text": [
            "/usr/local/lib/python3.10/dist-packages/sklearn/linear_model/_logistic.py:458: ConvergenceWarning: lbfgs failed to converge (status=1):\n",
            "STOP: TOTAL NO. of ITERATIONS REACHED LIMIT.\n",
            "\n",
            "Increase the number of iterations (max_iter) or scale the data as shown in:\n",
            "    https://scikit-learn.org/stable/modules/preprocessing.html\n",
            "Please also refer to the documentation for alternative solver options:\n",
            "    https://scikit-learn.org/stable/modules/linear_model.html#logistic-regression\n",
            "  n_iter_i = _check_optimize_result(\n"
          ]
        },
        {
          "output_type": "stream",
          "name": "stdout",
          "text": [
            "[CV] END C=10, fit_intercept=True, max_iter=300, penalty=l2, random_state=15, warm_start=False; total time=   0.3s\n"
          ]
        },
        {
          "output_type": "stream",
          "name": "stderr",
          "text": [
            "/usr/local/lib/python3.10/dist-packages/sklearn/linear_model/_logistic.py:458: ConvergenceWarning: lbfgs failed to converge (status=1):\n",
            "STOP: TOTAL NO. of ITERATIONS REACHED LIMIT.\n",
            "\n",
            "Increase the number of iterations (max_iter) or scale the data as shown in:\n",
            "    https://scikit-learn.org/stable/modules/preprocessing.html\n",
            "Please also refer to the documentation for alternative solver options:\n",
            "    https://scikit-learn.org/stable/modules/linear_model.html#logistic-regression\n",
            "  n_iter_i = _check_optimize_result(\n"
          ]
        },
        {
          "output_type": "stream",
          "name": "stdout",
          "text": [
            "[CV] END C=10, fit_intercept=True, max_iter=300, penalty=l2, random_state=15, warm_start=False; total time=   0.4s\n"
          ]
        },
        {
          "output_type": "stream",
          "name": "stderr",
          "text": [
            "/usr/local/lib/python3.10/dist-packages/sklearn/linear_model/_logistic.py:458: ConvergenceWarning: lbfgs failed to converge (status=1):\n",
            "STOP: TOTAL NO. of ITERATIONS REACHED LIMIT.\n",
            "\n",
            "Increase the number of iterations (max_iter) or scale the data as shown in:\n",
            "    https://scikit-learn.org/stable/modules/preprocessing.html\n",
            "Please also refer to the documentation for alternative solver options:\n",
            "    https://scikit-learn.org/stable/modules/linear_model.html#logistic-regression\n",
            "  n_iter_i = _check_optimize_result(\n",
            "/usr/local/lib/python3.10/dist-packages/sklearn/linear_model/_logistic.py:458: ConvergenceWarning: lbfgs failed to converge (status=1):\n",
            "STOP: TOTAL NO. of ITERATIONS REACHED LIMIT.\n",
            "\n",
            "Increase the number of iterations (max_iter) or scale the data as shown in:\n",
            "    https://scikit-learn.org/stable/modules/preprocessing.html\n",
            "Please also refer to the documentation for alternative solver options:\n",
            "    https://scikit-learn.org/stable/modules/linear_model.html#logistic-regression\n",
            "  n_iter_i = _check_optimize_result(\n"
          ]
        },
        {
          "output_type": "stream",
          "name": "stdout",
          "text": [
            "[CV] END C=10, fit_intercept=True, max_iter=300, penalty=l2, random_state=15, warm_start=False; total time=   0.3s\n",
            "[CV] END C=10, fit_intercept=True, max_iter=100, penalty=l1, random_state=21, warm_start=True; total time=   0.0s\n",
            "[CV] END C=10, fit_intercept=True, max_iter=100, penalty=l1, random_state=21, warm_start=True; total time=   0.0s\n",
            "[CV] END C=10, fit_intercept=True, max_iter=100, penalty=l1, random_state=21, warm_start=True; total time=   0.0s\n",
            "[CV] END C=10, fit_intercept=True, max_iter=100, penalty=l1, random_state=21, warm_start=False; total time=   0.0s\n",
            "[CV] END C=10, fit_intercept=True, max_iter=100, penalty=l1, random_state=21, warm_start=False; total time=   0.0s\n",
            "[CV] END C=10, fit_intercept=True, max_iter=100, penalty=l1, random_state=21, warm_start=False; total time=   0.0s\n",
            "[CV] END C=10, fit_intercept=True, max_iter=100, penalty=l1, random_state=42, warm_start=True; total time=   0.0s\n",
            "[CV] END C=10, fit_intercept=True, max_iter=100, penalty=l1, random_state=42, warm_start=True; total time=   0.0s\n",
            "[CV] END C=10, fit_intercept=True, max_iter=100, penalty=l1, random_state=42, warm_start=True; total time=   0.0s\n",
            "[CV] END C=10, fit_intercept=True, max_iter=100, penalty=l1, random_state=42, warm_start=False; total time=   0.0s\n",
            "[CV] END C=10, fit_intercept=True, max_iter=100, penalty=l1, random_state=42, warm_start=False; total time=   0.0s\n",
            "[CV] END C=10, fit_intercept=True, max_iter=100, penalty=l1, random_state=42, warm_start=False; total time=   0.0s\n",
            "[CV] END C=10, fit_intercept=True, max_iter=100, penalty=l1, random_state=15, warm_start=True; total time=   0.0s\n",
            "[CV] END C=10, fit_intercept=True, max_iter=100, penalty=l1, random_state=15, warm_start=True; total time=   0.0s\n",
            "[CV] END C=10, fit_intercept=True, max_iter=100, penalty=l1, random_state=15, warm_start=True; total time=   0.0s\n",
            "[CV] END C=10, fit_intercept=True, max_iter=100, penalty=l1, random_state=15, warm_start=False; total time=   0.0s\n",
            "[CV] END C=10, fit_intercept=True, max_iter=100, penalty=l1, random_state=15, warm_start=False; total time=   0.0s\n",
            "[CV] END C=10, fit_intercept=True, max_iter=100, penalty=l1, random_state=15, warm_start=False; total time=   0.0s\n",
            "[CV] END C=10, fit_intercept=True, max_iter=100, penalty=l2, random_state=21, warm_start=True; total time=   0.1s\n"
          ]
        },
        {
          "output_type": "stream",
          "name": "stderr",
          "text": [
            "/usr/local/lib/python3.10/dist-packages/sklearn/linear_model/_logistic.py:458: ConvergenceWarning: lbfgs failed to converge (status=1):\n",
            "STOP: TOTAL NO. of ITERATIONS REACHED LIMIT.\n",
            "\n",
            "Increase the number of iterations (max_iter) or scale the data as shown in:\n",
            "    https://scikit-learn.org/stable/modules/preprocessing.html\n",
            "Please also refer to the documentation for alternative solver options:\n",
            "    https://scikit-learn.org/stable/modules/linear_model.html#logistic-regression\n",
            "  n_iter_i = _check_optimize_result(\n",
            "/usr/local/lib/python3.10/dist-packages/sklearn/linear_model/_logistic.py:458: ConvergenceWarning: lbfgs failed to converge (status=1):\n",
            "STOP: TOTAL NO. of ITERATIONS REACHED LIMIT.\n",
            "\n",
            "Increase the number of iterations (max_iter) or scale the data as shown in:\n",
            "    https://scikit-learn.org/stable/modules/preprocessing.html\n",
            "Please also refer to the documentation for alternative solver options:\n",
            "    https://scikit-learn.org/stable/modules/linear_model.html#logistic-regression\n",
            "  n_iter_i = _check_optimize_result(\n"
          ]
        },
        {
          "output_type": "stream",
          "name": "stdout",
          "text": [
            "[CV] END C=10, fit_intercept=True, max_iter=100, penalty=l2, random_state=21, warm_start=True; total time=   0.1s\n",
            "[CV] END C=10, fit_intercept=True, max_iter=100, penalty=l2, random_state=21, warm_start=True; total time=   0.1s\n"
          ]
        },
        {
          "output_type": "stream",
          "name": "stderr",
          "text": [
            "/usr/local/lib/python3.10/dist-packages/sklearn/linear_model/_logistic.py:458: ConvergenceWarning: lbfgs failed to converge (status=1):\n",
            "STOP: TOTAL NO. of ITERATIONS REACHED LIMIT.\n",
            "\n",
            "Increase the number of iterations (max_iter) or scale the data as shown in:\n",
            "    https://scikit-learn.org/stable/modules/preprocessing.html\n",
            "Please also refer to the documentation for alternative solver options:\n",
            "    https://scikit-learn.org/stable/modules/linear_model.html#logistic-regression\n",
            "  n_iter_i = _check_optimize_result(\n",
            "/usr/local/lib/python3.10/dist-packages/sklearn/linear_model/_logistic.py:458: ConvergenceWarning: lbfgs failed to converge (status=1):\n",
            "STOP: TOTAL NO. of ITERATIONS REACHED LIMIT.\n",
            "\n",
            "Increase the number of iterations (max_iter) or scale the data as shown in:\n",
            "    https://scikit-learn.org/stable/modules/preprocessing.html\n",
            "Please also refer to the documentation for alternative solver options:\n",
            "    https://scikit-learn.org/stable/modules/linear_model.html#logistic-regression\n",
            "  n_iter_i = _check_optimize_result(\n"
          ]
        },
        {
          "output_type": "stream",
          "name": "stdout",
          "text": [
            "[CV] END C=10, fit_intercept=True, max_iter=100, penalty=l2, random_state=21, warm_start=False; total time=   0.1s\n",
            "[CV] END C=10, fit_intercept=True, max_iter=100, penalty=l2, random_state=21, warm_start=False; total time=   0.1s\n"
          ]
        },
        {
          "output_type": "stream",
          "name": "stderr",
          "text": [
            "/usr/local/lib/python3.10/dist-packages/sklearn/linear_model/_logistic.py:458: ConvergenceWarning: lbfgs failed to converge (status=1):\n",
            "STOP: TOTAL NO. of ITERATIONS REACHED LIMIT.\n",
            "\n",
            "Increase the number of iterations (max_iter) or scale the data as shown in:\n",
            "    https://scikit-learn.org/stable/modules/preprocessing.html\n",
            "Please also refer to the documentation for alternative solver options:\n",
            "    https://scikit-learn.org/stable/modules/linear_model.html#logistic-regression\n",
            "  n_iter_i = _check_optimize_result(\n",
            "/usr/local/lib/python3.10/dist-packages/sklearn/linear_model/_logistic.py:458: ConvergenceWarning: lbfgs failed to converge (status=1):\n",
            "STOP: TOTAL NO. of ITERATIONS REACHED LIMIT.\n",
            "\n",
            "Increase the number of iterations (max_iter) or scale the data as shown in:\n",
            "    https://scikit-learn.org/stable/modules/preprocessing.html\n",
            "Please also refer to the documentation for alternative solver options:\n",
            "    https://scikit-learn.org/stable/modules/linear_model.html#logistic-regression\n",
            "  n_iter_i = _check_optimize_result(\n"
          ]
        },
        {
          "output_type": "stream",
          "name": "stdout",
          "text": [
            "[CV] END C=10, fit_intercept=True, max_iter=100, penalty=l2, random_state=21, warm_start=False; total time=   0.1s\n",
            "[CV] END C=10, fit_intercept=True, max_iter=100, penalty=l2, random_state=42, warm_start=True; total time=   0.1s\n"
          ]
        },
        {
          "output_type": "stream",
          "name": "stderr",
          "text": [
            "/usr/local/lib/python3.10/dist-packages/sklearn/linear_model/_logistic.py:458: ConvergenceWarning: lbfgs failed to converge (status=1):\n",
            "STOP: TOTAL NO. of ITERATIONS REACHED LIMIT.\n",
            "\n",
            "Increase the number of iterations (max_iter) or scale the data as shown in:\n",
            "    https://scikit-learn.org/stable/modules/preprocessing.html\n",
            "Please also refer to the documentation for alternative solver options:\n",
            "    https://scikit-learn.org/stable/modules/linear_model.html#logistic-regression\n",
            "  n_iter_i = _check_optimize_result(\n",
            "/usr/local/lib/python3.10/dist-packages/sklearn/linear_model/_logistic.py:458: ConvergenceWarning: lbfgs failed to converge (status=1):\n",
            "STOP: TOTAL NO. of ITERATIONS REACHED LIMIT.\n",
            "\n",
            "Increase the number of iterations (max_iter) or scale the data as shown in:\n",
            "    https://scikit-learn.org/stable/modules/preprocessing.html\n",
            "Please also refer to the documentation for alternative solver options:\n",
            "    https://scikit-learn.org/stable/modules/linear_model.html#logistic-regression\n",
            "  n_iter_i = _check_optimize_result(\n"
          ]
        },
        {
          "output_type": "stream",
          "name": "stdout",
          "text": [
            "[CV] END C=10, fit_intercept=True, max_iter=100, penalty=l2, random_state=42, warm_start=True; total time=   0.2s\n",
            "[CV] END C=10, fit_intercept=True, max_iter=100, penalty=l2, random_state=42, warm_start=True; total time=   0.1s\n"
          ]
        },
        {
          "output_type": "stream",
          "name": "stderr",
          "text": [
            "/usr/local/lib/python3.10/dist-packages/sklearn/linear_model/_logistic.py:458: ConvergenceWarning: lbfgs failed to converge (status=1):\n",
            "STOP: TOTAL NO. of ITERATIONS REACHED LIMIT.\n",
            "\n",
            "Increase the number of iterations (max_iter) or scale the data as shown in:\n",
            "    https://scikit-learn.org/stable/modules/preprocessing.html\n",
            "Please also refer to the documentation for alternative solver options:\n",
            "    https://scikit-learn.org/stable/modules/linear_model.html#logistic-regression\n",
            "  n_iter_i = _check_optimize_result(\n",
            "/usr/local/lib/python3.10/dist-packages/sklearn/linear_model/_logistic.py:458: ConvergenceWarning: lbfgs failed to converge (status=1):\n",
            "STOP: TOTAL NO. of ITERATIONS REACHED LIMIT.\n",
            "\n",
            "Increase the number of iterations (max_iter) or scale the data as shown in:\n",
            "    https://scikit-learn.org/stable/modules/preprocessing.html\n",
            "Please also refer to the documentation for alternative solver options:\n",
            "    https://scikit-learn.org/stable/modules/linear_model.html#logistic-regression\n",
            "  n_iter_i = _check_optimize_result(\n"
          ]
        },
        {
          "output_type": "stream",
          "name": "stdout",
          "text": [
            "[CV] END C=10, fit_intercept=True, max_iter=100, penalty=l2, random_state=42, warm_start=False; total time=   0.1s\n",
            "[CV] END C=10, fit_intercept=True, max_iter=100, penalty=l2, random_state=42, warm_start=False; total time=   0.1s\n"
          ]
        },
        {
          "output_type": "stream",
          "name": "stderr",
          "text": [
            "/usr/local/lib/python3.10/dist-packages/sklearn/linear_model/_logistic.py:458: ConvergenceWarning: lbfgs failed to converge (status=1):\n",
            "STOP: TOTAL NO. of ITERATIONS REACHED LIMIT.\n",
            "\n",
            "Increase the number of iterations (max_iter) or scale the data as shown in:\n",
            "    https://scikit-learn.org/stable/modules/preprocessing.html\n",
            "Please also refer to the documentation for alternative solver options:\n",
            "    https://scikit-learn.org/stable/modules/linear_model.html#logistic-regression\n",
            "  n_iter_i = _check_optimize_result(\n",
            "/usr/local/lib/python3.10/dist-packages/sklearn/linear_model/_logistic.py:458: ConvergenceWarning: lbfgs failed to converge (status=1):\n",
            "STOP: TOTAL NO. of ITERATIONS REACHED LIMIT.\n",
            "\n",
            "Increase the number of iterations (max_iter) or scale the data as shown in:\n",
            "    https://scikit-learn.org/stable/modules/preprocessing.html\n",
            "Please also refer to the documentation for alternative solver options:\n",
            "    https://scikit-learn.org/stable/modules/linear_model.html#logistic-regression\n",
            "  n_iter_i = _check_optimize_result(\n"
          ]
        },
        {
          "output_type": "stream",
          "name": "stdout",
          "text": [
            "[CV] END C=10, fit_intercept=True, max_iter=100, penalty=l2, random_state=42, warm_start=False; total time=   0.1s\n",
            "[CV] END C=10, fit_intercept=True, max_iter=100, penalty=l2, random_state=15, warm_start=True; total time=   0.2s\n"
          ]
        },
        {
          "output_type": "stream",
          "name": "stderr",
          "text": [
            "/usr/local/lib/python3.10/dist-packages/sklearn/linear_model/_logistic.py:458: ConvergenceWarning: lbfgs failed to converge (status=1):\n",
            "STOP: TOTAL NO. of ITERATIONS REACHED LIMIT.\n",
            "\n",
            "Increase the number of iterations (max_iter) or scale the data as shown in:\n",
            "    https://scikit-learn.org/stable/modules/preprocessing.html\n",
            "Please also refer to the documentation for alternative solver options:\n",
            "    https://scikit-learn.org/stable/modules/linear_model.html#logistic-regression\n",
            "  n_iter_i = _check_optimize_result(\n",
            "/usr/local/lib/python3.10/dist-packages/sklearn/linear_model/_logistic.py:458: ConvergenceWarning: lbfgs failed to converge (status=1):\n",
            "STOP: TOTAL NO. of ITERATIONS REACHED LIMIT.\n",
            "\n",
            "Increase the number of iterations (max_iter) or scale the data as shown in:\n",
            "    https://scikit-learn.org/stable/modules/preprocessing.html\n",
            "Please also refer to the documentation for alternative solver options:\n",
            "    https://scikit-learn.org/stable/modules/linear_model.html#logistic-regression\n",
            "  n_iter_i = _check_optimize_result(\n"
          ]
        },
        {
          "output_type": "stream",
          "name": "stdout",
          "text": [
            "[CV] END C=10, fit_intercept=True, max_iter=100, penalty=l2, random_state=15, warm_start=True; total time=   0.1s\n",
            "[CV] END C=10, fit_intercept=True, max_iter=100, penalty=l2, random_state=15, warm_start=True; total time=   0.1s\n"
          ]
        },
        {
          "output_type": "stream",
          "name": "stderr",
          "text": [
            "/usr/local/lib/python3.10/dist-packages/sklearn/linear_model/_logistic.py:458: ConvergenceWarning: lbfgs failed to converge (status=1):\n",
            "STOP: TOTAL NO. of ITERATIONS REACHED LIMIT.\n",
            "\n",
            "Increase the number of iterations (max_iter) or scale the data as shown in:\n",
            "    https://scikit-learn.org/stable/modules/preprocessing.html\n",
            "Please also refer to the documentation for alternative solver options:\n",
            "    https://scikit-learn.org/stable/modules/linear_model.html#logistic-regression\n",
            "  n_iter_i = _check_optimize_result(\n",
            "/usr/local/lib/python3.10/dist-packages/sklearn/linear_model/_logistic.py:458: ConvergenceWarning: lbfgs failed to converge (status=1):\n",
            "STOP: TOTAL NO. of ITERATIONS REACHED LIMIT.\n",
            "\n",
            "Increase the number of iterations (max_iter) or scale the data as shown in:\n",
            "    https://scikit-learn.org/stable/modules/preprocessing.html\n",
            "Please also refer to the documentation for alternative solver options:\n",
            "    https://scikit-learn.org/stable/modules/linear_model.html#logistic-regression\n",
            "  n_iter_i = _check_optimize_result(\n"
          ]
        },
        {
          "output_type": "stream",
          "name": "stdout",
          "text": [
            "[CV] END C=10, fit_intercept=True, max_iter=100, penalty=l2, random_state=15, warm_start=False; total time=   0.1s\n",
            "[CV] END C=10, fit_intercept=True, max_iter=100, penalty=l2, random_state=15, warm_start=False; total time=   0.1s\n"
          ]
        },
        {
          "output_type": "stream",
          "name": "stderr",
          "text": [
            "/usr/local/lib/python3.10/dist-packages/sklearn/linear_model/_logistic.py:458: ConvergenceWarning: lbfgs failed to converge (status=1):\n",
            "STOP: TOTAL NO. of ITERATIONS REACHED LIMIT.\n",
            "\n",
            "Increase the number of iterations (max_iter) or scale the data as shown in:\n",
            "    https://scikit-learn.org/stable/modules/preprocessing.html\n",
            "Please also refer to the documentation for alternative solver options:\n",
            "    https://scikit-learn.org/stable/modules/linear_model.html#logistic-regression\n",
            "  n_iter_i = _check_optimize_result(\n"
          ]
        },
        {
          "output_type": "stream",
          "name": "stdout",
          "text": [
            "[CV] END C=10, fit_intercept=True, max_iter=100, penalty=l2, random_state=15, warm_start=False; total time=   0.1s\n",
            "[CV] END C=10, fit_intercept=False, max_iter=1000, penalty=l1, random_state=21, warm_start=True; total time=   0.0s\n",
            "[CV] END C=10, fit_intercept=False, max_iter=1000, penalty=l1, random_state=21, warm_start=True; total time=   0.0s\n",
            "[CV] END C=10, fit_intercept=False, max_iter=1000, penalty=l1, random_state=21, warm_start=True; total time=   0.0s\n",
            "[CV] END C=10, fit_intercept=False, max_iter=1000, penalty=l1, random_state=21, warm_start=False; total time=   0.0s\n",
            "[CV] END C=10, fit_intercept=False, max_iter=1000, penalty=l1, random_state=21, warm_start=False; total time=   0.0s\n",
            "[CV] END C=10, fit_intercept=False, max_iter=1000, penalty=l1, random_state=21, warm_start=False; total time=   0.0s\n",
            "[CV] END C=10, fit_intercept=False, max_iter=1000, penalty=l1, random_state=42, warm_start=True; total time=   0.0s\n",
            "[CV] END C=10, fit_intercept=False, max_iter=1000, penalty=l1, random_state=42, warm_start=True; total time=   0.0s\n",
            "[CV] END C=10, fit_intercept=False, max_iter=1000, penalty=l1, random_state=42, warm_start=True; total time=   0.0s\n",
            "[CV] END C=10, fit_intercept=False, max_iter=1000, penalty=l1, random_state=42, warm_start=False; total time=   0.0s\n",
            "[CV] END C=10, fit_intercept=False, max_iter=1000, penalty=l1, random_state=42, warm_start=False; total time=   0.0s\n",
            "[CV] END C=10, fit_intercept=False, max_iter=1000, penalty=l1, random_state=42, warm_start=False; total time=   0.0s\n",
            "[CV] END C=10, fit_intercept=False, max_iter=1000, penalty=l1, random_state=15, warm_start=True; total time=   0.0s\n",
            "[CV] END C=10, fit_intercept=False, max_iter=1000, penalty=l1, random_state=15, warm_start=True; total time=   0.0s\n",
            "[CV] END C=10, fit_intercept=False, max_iter=1000, penalty=l1, random_state=15, warm_start=True; total time=   0.0s\n",
            "[CV] END C=10, fit_intercept=False, max_iter=1000, penalty=l1, random_state=15, warm_start=False; total time=   0.0s\n",
            "[CV] END C=10, fit_intercept=False, max_iter=1000, penalty=l1, random_state=15, warm_start=False; total time=   0.0s\n",
            "[CV] END C=10, fit_intercept=False, max_iter=1000, penalty=l1, random_state=15, warm_start=False; total time=   0.0s\n",
            "[CV] END C=10, fit_intercept=False, max_iter=1000, penalty=l2, random_state=21, warm_start=True; total time=   0.3s\n",
            "[CV] END C=10, fit_intercept=False, max_iter=1000, penalty=l2, random_state=21, warm_start=True; total time=   0.3s\n",
            "[CV] END C=10, fit_intercept=False, max_iter=1000, penalty=l2, random_state=21, warm_start=True; total time=   0.4s\n",
            "[CV] END C=10, fit_intercept=False, max_iter=1000, penalty=l2, random_state=21, warm_start=False; total time=   0.4s\n",
            "[CV] END C=10, fit_intercept=False, max_iter=1000, penalty=l2, random_state=21, warm_start=False; total time=   0.3s\n",
            "[CV] END C=10, fit_intercept=False, max_iter=1000, penalty=l2, random_state=21, warm_start=False; total time=   0.3s\n",
            "[CV] END C=10, fit_intercept=False, max_iter=1000, penalty=l2, random_state=42, warm_start=True; total time=   0.3s\n",
            "[CV] END C=10, fit_intercept=False, max_iter=1000, penalty=l2, random_state=42, warm_start=True; total time=   0.3s\n",
            "[CV] END C=10, fit_intercept=False, max_iter=1000, penalty=l2, random_state=42, warm_start=True; total time=   0.4s\n",
            "[CV] END C=10, fit_intercept=False, max_iter=1000, penalty=l2, random_state=42, warm_start=False; total time=   0.8s\n",
            "[CV] END C=10, fit_intercept=False, max_iter=1000, penalty=l2, random_state=42, warm_start=False; total time=   1.1s\n",
            "[CV] END C=10, fit_intercept=False, max_iter=1000, penalty=l2, random_state=42, warm_start=False; total time=   1.8s\n",
            "[CV] END C=10, fit_intercept=False, max_iter=1000, penalty=l2, random_state=15, warm_start=True; total time=   1.7s\n",
            "[CV] END C=10, fit_intercept=False, max_iter=1000, penalty=l2, random_state=15, warm_start=True; total time=   1.4s\n",
            "[CV] END C=10, fit_intercept=False, max_iter=1000, penalty=l2, random_state=15, warm_start=True; total time=   1.3s\n",
            "[CV] END C=10, fit_intercept=False, max_iter=1000, penalty=l2, random_state=15, warm_start=False; total time=   1.0s\n",
            "[CV] END C=10, fit_intercept=False, max_iter=1000, penalty=l2, random_state=15, warm_start=False; total time=   1.1s\n",
            "[CV] END C=10, fit_intercept=False, max_iter=1000, penalty=l2, random_state=15, warm_start=False; total time=   0.4s\n",
            "[CV] END C=10, fit_intercept=False, max_iter=500, penalty=l1, random_state=21, warm_start=True; total time=   0.0s\n",
            "[CV] END C=10, fit_intercept=False, max_iter=500, penalty=l1, random_state=21, warm_start=True; total time=   0.0s\n",
            "[CV] END C=10, fit_intercept=False, max_iter=500, penalty=l1, random_state=21, warm_start=True; total time=   0.0s\n",
            "[CV] END C=10, fit_intercept=False, max_iter=500, penalty=l1, random_state=21, warm_start=False; total time=   0.0s\n",
            "[CV] END C=10, fit_intercept=False, max_iter=500, penalty=l1, random_state=21, warm_start=False; total time=   0.0s\n",
            "[CV] END C=10, fit_intercept=False, max_iter=500, penalty=l1, random_state=21, warm_start=False; total time=   0.0s\n",
            "[CV] END C=10, fit_intercept=False, max_iter=500, penalty=l1, random_state=42, warm_start=True; total time=   0.0s\n",
            "[CV] END C=10, fit_intercept=False, max_iter=500, penalty=l1, random_state=42, warm_start=True; total time=   0.0s\n",
            "[CV] END C=10, fit_intercept=False, max_iter=500, penalty=l1, random_state=42, warm_start=True; total time=   0.0s\n",
            "[CV] END C=10, fit_intercept=False, max_iter=500, penalty=l1, random_state=42, warm_start=False; total time=   0.0s\n",
            "[CV] END C=10, fit_intercept=False, max_iter=500, penalty=l1, random_state=42, warm_start=False; total time=   0.0s\n",
            "[CV] END C=10, fit_intercept=False, max_iter=500, penalty=l1, random_state=42, warm_start=False; total time=   0.0s\n",
            "[CV] END C=10, fit_intercept=False, max_iter=500, penalty=l1, random_state=15, warm_start=True; total time=   0.0s\n",
            "[CV] END C=10, fit_intercept=False, max_iter=500, penalty=l1, random_state=15, warm_start=True; total time=   0.0s\n",
            "[CV] END C=10, fit_intercept=False, max_iter=500, penalty=l1, random_state=15, warm_start=True; total time=   0.0s\n",
            "[CV] END C=10, fit_intercept=False, max_iter=500, penalty=l1, random_state=15, warm_start=False; total time=   0.0s\n",
            "[CV] END C=10, fit_intercept=False, max_iter=500, penalty=l1, random_state=15, warm_start=False; total time=   0.0s\n",
            "[CV] END C=10, fit_intercept=False, max_iter=500, penalty=l1, random_state=15, warm_start=False; total time=   0.0s\n",
            "[CV] END C=10, fit_intercept=False, max_iter=500, penalty=l2, random_state=21, warm_start=True; total time=   0.3s\n",
            "[CV] END C=10, fit_intercept=False, max_iter=500, penalty=l2, random_state=21, warm_start=True; total time=   0.3s\n",
            "[CV] END C=10, fit_intercept=False, max_iter=500, penalty=l2, random_state=21, warm_start=True; total time=   0.4s\n",
            "[CV] END C=10, fit_intercept=False, max_iter=500, penalty=l2, random_state=21, warm_start=False; total time=   0.3s\n",
            "[CV] END C=10, fit_intercept=False, max_iter=500, penalty=l2, random_state=21, warm_start=False; total time=   0.3s\n",
            "[CV] END C=10, fit_intercept=False, max_iter=500, penalty=l2, random_state=21, warm_start=False; total time=   0.3s\n",
            "[CV] END C=10, fit_intercept=False, max_iter=500, penalty=l2, random_state=42, warm_start=True; total time=   0.3s\n",
            "[CV] END C=10, fit_intercept=False, max_iter=500, penalty=l2, random_state=42, warm_start=True; total time=   0.3s\n",
            "[CV] END C=10, fit_intercept=False, max_iter=500, penalty=l2, random_state=42, warm_start=True; total time=   0.3s\n",
            "[CV] END C=10, fit_intercept=False, max_iter=500, penalty=l2, random_state=42, warm_start=False; total time=   0.3s\n",
            "[CV] END C=10, fit_intercept=False, max_iter=500, penalty=l2, random_state=42, warm_start=False; total time=   0.3s\n",
            "[CV] END C=10, fit_intercept=False, max_iter=500, penalty=l2, random_state=42, warm_start=False; total time=   0.3s\n",
            "[CV] END C=10, fit_intercept=False, max_iter=500, penalty=l2, random_state=15, warm_start=True; total time=   0.3s\n",
            "[CV] END C=10, fit_intercept=False, max_iter=500, penalty=l2, random_state=15, warm_start=True; total time=   0.3s\n",
            "[CV] END C=10, fit_intercept=False, max_iter=500, penalty=l2, random_state=15, warm_start=True; total time=   0.8s\n",
            "[CV] END C=10, fit_intercept=False, max_iter=500, penalty=l2, random_state=15, warm_start=False; total time=   0.7s\n",
            "[CV] END C=10, fit_intercept=False, max_iter=500, penalty=l2, random_state=15, warm_start=False; total time=   0.7s\n",
            "[CV] END C=10, fit_intercept=False, max_iter=500, penalty=l2, random_state=15, warm_start=False; total time=   0.7s\n",
            "[CV] END C=10, fit_intercept=False, max_iter=300, penalty=l1, random_state=21, warm_start=True; total time=   0.0s\n",
            "[CV] END C=10, fit_intercept=False, max_iter=300, penalty=l1, random_state=21, warm_start=True; total time=   0.0s\n",
            "[CV] END C=10, fit_intercept=False, max_iter=300, penalty=l1, random_state=21, warm_start=True; total time=   0.0s\n",
            "[CV] END C=10, fit_intercept=False, max_iter=300, penalty=l1, random_state=21, warm_start=False; total time=   0.0s\n",
            "[CV] END C=10, fit_intercept=False, max_iter=300, penalty=l1, random_state=21, warm_start=False; total time=   0.0s\n",
            "[CV] END C=10, fit_intercept=False, max_iter=300, penalty=l1, random_state=21, warm_start=False; total time=   0.0s\n",
            "[CV] END C=10, fit_intercept=False, max_iter=300, penalty=l1, random_state=42, warm_start=True; total time=   0.0s\n",
            "[CV] END C=10, fit_intercept=False, max_iter=300, penalty=l1, random_state=42, warm_start=True; total time=   0.0s\n",
            "[CV] END C=10, fit_intercept=False, max_iter=300, penalty=l1, random_state=42, warm_start=True; total time=   0.0s\n",
            "[CV] END C=10, fit_intercept=False, max_iter=300, penalty=l1, random_state=42, warm_start=False; total time=   0.0s\n",
            "[CV] END C=10, fit_intercept=False, max_iter=300, penalty=l1, random_state=42, warm_start=False; total time=   0.0s\n",
            "[CV] END C=10, fit_intercept=False, max_iter=300, penalty=l1, random_state=42, warm_start=False; total time=   0.0s\n",
            "[CV] END C=10, fit_intercept=False, max_iter=300, penalty=l1, random_state=15, warm_start=True; total time=   0.0s\n",
            "[CV] END C=10, fit_intercept=False, max_iter=300, penalty=l1, random_state=15, warm_start=True; total time=   0.0s\n",
            "[CV] END C=10, fit_intercept=False, max_iter=300, penalty=l1, random_state=15, warm_start=True; total time=   0.0s\n",
            "[CV] END C=10, fit_intercept=False, max_iter=300, penalty=l1, random_state=15, warm_start=False; total time=   0.0s\n",
            "[CV] END C=10, fit_intercept=False, max_iter=300, penalty=l1, random_state=15, warm_start=False; total time=   0.0s\n",
            "[CV] END C=10, fit_intercept=False, max_iter=300, penalty=l1, random_state=15, warm_start=False; total time=   0.0s\n"
          ]
        },
        {
          "output_type": "stream",
          "name": "stderr",
          "text": [
            "/usr/local/lib/python3.10/dist-packages/sklearn/linear_model/_logistic.py:458: ConvergenceWarning: lbfgs failed to converge (status=1):\n",
            "STOP: TOTAL NO. of ITERATIONS REACHED LIMIT.\n",
            "\n",
            "Increase the number of iterations (max_iter) or scale the data as shown in:\n",
            "    https://scikit-learn.org/stable/modules/preprocessing.html\n",
            "Please also refer to the documentation for alternative solver options:\n",
            "    https://scikit-learn.org/stable/modules/linear_model.html#logistic-regression\n",
            "  n_iter_i = _check_optimize_result(\n"
          ]
        },
        {
          "output_type": "stream",
          "name": "stdout",
          "text": [
            "[CV] END C=10, fit_intercept=False, max_iter=300, penalty=l2, random_state=21, warm_start=True; total time=   0.7s\n",
            "[CV] END C=10, fit_intercept=False, max_iter=300, penalty=l2, random_state=21, warm_start=True; total time=   0.7s\n"
          ]
        },
        {
          "output_type": "stream",
          "name": "stderr",
          "text": [
            "/usr/local/lib/python3.10/dist-packages/sklearn/linear_model/_logistic.py:458: ConvergenceWarning: lbfgs failed to converge (status=1):\n",
            "STOP: TOTAL NO. of ITERATIONS REACHED LIMIT.\n",
            "\n",
            "Increase the number of iterations (max_iter) or scale the data as shown in:\n",
            "    https://scikit-learn.org/stable/modules/preprocessing.html\n",
            "Please also refer to the documentation for alternative solver options:\n",
            "    https://scikit-learn.org/stable/modules/linear_model.html#logistic-regression\n",
            "  n_iter_i = _check_optimize_result(\n"
          ]
        },
        {
          "output_type": "stream",
          "name": "stdout",
          "text": [
            "[CV] END C=10, fit_intercept=False, max_iter=300, penalty=l2, random_state=21, warm_start=True; total time=   0.8s\n"
          ]
        },
        {
          "output_type": "stream",
          "name": "stderr",
          "text": [
            "/usr/local/lib/python3.10/dist-packages/sklearn/linear_model/_logistic.py:458: ConvergenceWarning: lbfgs failed to converge (status=1):\n",
            "STOP: TOTAL NO. of ITERATIONS REACHED LIMIT.\n",
            "\n",
            "Increase the number of iterations (max_iter) or scale the data as shown in:\n",
            "    https://scikit-learn.org/stable/modules/preprocessing.html\n",
            "Please also refer to the documentation for alternative solver options:\n",
            "    https://scikit-learn.org/stable/modules/linear_model.html#logistic-regression\n",
            "  n_iter_i = _check_optimize_result(\n"
          ]
        },
        {
          "output_type": "stream",
          "name": "stdout",
          "text": [
            "[CV] END C=10, fit_intercept=False, max_iter=300, penalty=l2, random_state=21, warm_start=False; total time=   0.7s\n",
            "[CV] END C=10, fit_intercept=False, max_iter=300, penalty=l2, random_state=21, warm_start=False; total time=   0.3s\n"
          ]
        },
        {
          "output_type": "stream",
          "name": "stderr",
          "text": [
            "/usr/local/lib/python3.10/dist-packages/sklearn/linear_model/_logistic.py:458: ConvergenceWarning: lbfgs failed to converge (status=1):\n",
            "STOP: TOTAL NO. of ITERATIONS REACHED LIMIT.\n",
            "\n",
            "Increase the number of iterations (max_iter) or scale the data as shown in:\n",
            "    https://scikit-learn.org/stable/modules/preprocessing.html\n",
            "Please also refer to the documentation for alternative solver options:\n",
            "    https://scikit-learn.org/stable/modules/linear_model.html#logistic-regression\n",
            "  n_iter_i = _check_optimize_result(\n"
          ]
        },
        {
          "output_type": "stream",
          "name": "stdout",
          "text": [
            "[CV] END C=10, fit_intercept=False, max_iter=300, penalty=l2, random_state=21, warm_start=False; total time=   0.3s\n"
          ]
        },
        {
          "output_type": "stream",
          "name": "stderr",
          "text": [
            "/usr/local/lib/python3.10/dist-packages/sklearn/linear_model/_logistic.py:458: ConvergenceWarning: lbfgs failed to converge (status=1):\n",
            "STOP: TOTAL NO. of ITERATIONS REACHED LIMIT.\n",
            "\n",
            "Increase the number of iterations (max_iter) or scale the data as shown in:\n",
            "    https://scikit-learn.org/stable/modules/preprocessing.html\n",
            "Please also refer to the documentation for alternative solver options:\n",
            "    https://scikit-learn.org/stable/modules/linear_model.html#logistic-regression\n",
            "  n_iter_i = _check_optimize_result(\n"
          ]
        },
        {
          "output_type": "stream",
          "name": "stdout",
          "text": [
            "[CV] END C=10, fit_intercept=False, max_iter=300, penalty=l2, random_state=42, warm_start=True; total time=   0.4s\n",
            "[CV] END C=10, fit_intercept=False, max_iter=300, penalty=l2, random_state=42, warm_start=True; total time=   0.3s\n"
          ]
        },
        {
          "output_type": "stream",
          "name": "stderr",
          "text": [
            "/usr/local/lib/python3.10/dist-packages/sklearn/linear_model/_logistic.py:458: ConvergenceWarning: lbfgs failed to converge (status=1):\n",
            "STOP: TOTAL NO. of ITERATIONS REACHED LIMIT.\n",
            "\n",
            "Increase the number of iterations (max_iter) or scale the data as shown in:\n",
            "    https://scikit-learn.org/stable/modules/preprocessing.html\n",
            "Please also refer to the documentation for alternative solver options:\n",
            "    https://scikit-learn.org/stable/modules/linear_model.html#logistic-regression\n",
            "  n_iter_i = _check_optimize_result(\n"
          ]
        },
        {
          "output_type": "stream",
          "name": "stdout",
          "text": [
            "[CV] END C=10, fit_intercept=False, max_iter=300, penalty=l2, random_state=42, warm_start=True; total time=   0.3s\n"
          ]
        },
        {
          "output_type": "stream",
          "name": "stderr",
          "text": [
            "/usr/local/lib/python3.10/dist-packages/sklearn/linear_model/_logistic.py:458: ConvergenceWarning: lbfgs failed to converge (status=1):\n",
            "STOP: TOTAL NO. of ITERATIONS REACHED LIMIT.\n",
            "\n",
            "Increase the number of iterations (max_iter) or scale the data as shown in:\n",
            "    https://scikit-learn.org/stable/modules/preprocessing.html\n",
            "Please also refer to the documentation for alternative solver options:\n",
            "    https://scikit-learn.org/stable/modules/linear_model.html#logistic-regression\n",
            "  n_iter_i = _check_optimize_result(\n"
          ]
        },
        {
          "output_type": "stream",
          "name": "stdout",
          "text": [
            "[CV] END C=10, fit_intercept=False, max_iter=300, penalty=l2, random_state=42, warm_start=False; total time=   0.4s\n",
            "[CV] END C=10, fit_intercept=False, max_iter=300, penalty=l2, random_state=42, warm_start=False; total time=   0.3s\n"
          ]
        },
        {
          "output_type": "stream",
          "name": "stderr",
          "text": [
            "/usr/local/lib/python3.10/dist-packages/sklearn/linear_model/_logistic.py:458: ConvergenceWarning: lbfgs failed to converge (status=1):\n",
            "STOP: TOTAL NO. of ITERATIONS REACHED LIMIT.\n",
            "\n",
            "Increase the number of iterations (max_iter) or scale the data as shown in:\n",
            "    https://scikit-learn.org/stable/modules/preprocessing.html\n",
            "Please also refer to the documentation for alternative solver options:\n",
            "    https://scikit-learn.org/stable/modules/linear_model.html#logistic-regression\n",
            "  n_iter_i = _check_optimize_result(\n"
          ]
        },
        {
          "output_type": "stream",
          "name": "stdout",
          "text": [
            "[CV] END C=10, fit_intercept=False, max_iter=300, penalty=l2, random_state=42, warm_start=False; total time=   0.3s\n"
          ]
        },
        {
          "output_type": "stream",
          "name": "stderr",
          "text": [
            "/usr/local/lib/python3.10/dist-packages/sklearn/linear_model/_logistic.py:458: ConvergenceWarning: lbfgs failed to converge (status=1):\n",
            "STOP: TOTAL NO. of ITERATIONS REACHED LIMIT.\n",
            "\n",
            "Increase the number of iterations (max_iter) or scale the data as shown in:\n",
            "    https://scikit-learn.org/stable/modules/preprocessing.html\n",
            "Please also refer to the documentation for alternative solver options:\n",
            "    https://scikit-learn.org/stable/modules/linear_model.html#logistic-regression\n",
            "  n_iter_i = _check_optimize_result(\n"
          ]
        },
        {
          "output_type": "stream",
          "name": "stdout",
          "text": [
            "[CV] END C=10, fit_intercept=False, max_iter=300, penalty=l2, random_state=15, warm_start=True; total time=   0.4s\n",
            "[CV] END C=10, fit_intercept=False, max_iter=300, penalty=l2, random_state=15, warm_start=True; total time=   0.3s\n"
          ]
        },
        {
          "output_type": "stream",
          "name": "stderr",
          "text": [
            "/usr/local/lib/python3.10/dist-packages/sklearn/linear_model/_logistic.py:458: ConvergenceWarning: lbfgs failed to converge (status=1):\n",
            "STOP: TOTAL NO. of ITERATIONS REACHED LIMIT.\n",
            "\n",
            "Increase the number of iterations (max_iter) or scale the data as shown in:\n",
            "    https://scikit-learn.org/stable/modules/preprocessing.html\n",
            "Please also refer to the documentation for alternative solver options:\n",
            "    https://scikit-learn.org/stable/modules/linear_model.html#logistic-regression\n",
            "  n_iter_i = _check_optimize_result(\n"
          ]
        },
        {
          "output_type": "stream",
          "name": "stdout",
          "text": [
            "[CV] END C=10, fit_intercept=False, max_iter=300, penalty=l2, random_state=15, warm_start=True; total time=   0.3s\n"
          ]
        },
        {
          "output_type": "stream",
          "name": "stderr",
          "text": [
            "/usr/local/lib/python3.10/dist-packages/sklearn/linear_model/_logistic.py:458: ConvergenceWarning: lbfgs failed to converge (status=1):\n",
            "STOP: TOTAL NO. of ITERATIONS REACHED LIMIT.\n",
            "\n",
            "Increase the number of iterations (max_iter) or scale the data as shown in:\n",
            "    https://scikit-learn.org/stable/modules/preprocessing.html\n",
            "Please also refer to the documentation for alternative solver options:\n",
            "    https://scikit-learn.org/stable/modules/linear_model.html#logistic-regression\n",
            "  n_iter_i = _check_optimize_result(\n"
          ]
        },
        {
          "output_type": "stream",
          "name": "stdout",
          "text": [
            "[CV] END C=10, fit_intercept=False, max_iter=300, penalty=l2, random_state=15, warm_start=False; total time=   0.3s\n",
            "[CV] END C=10, fit_intercept=False, max_iter=300, penalty=l2, random_state=15, warm_start=False; total time=   0.3s\n"
          ]
        },
        {
          "output_type": "stream",
          "name": "stderr",
          "text": [
            "/usr/local/lib/python3.10/dist-packages/sklearn/linear_model/_logistic.py:458: ConvergenceWarning: lbfgs failed to converge (status=1):\n",
            "STOP: TOTAL NO. of ITERATIONS REACHED LIMIT.\n",
            "\n",
            "Increase the number of iterations (max_iter) or scale the data as shown in:\n",
            "    https://scikit-learn.org/stable/modules/preprocessing.html\n",
            "Please also refer to the documentation for alternative solver options:\n",
            "    https://scikit-learn.org/stable/modules/linear_model.html#logistic-regression\n",
            "  n_iter_i = _check_optimize_result(\n",
            "/usr/local/lib/python3.10/dist-packages/sklearn/linear_model/_logistic.py:458: ConvergenceWarning: lbfgs failed to converge (status=1):\n",
            "STOP: TOTAL NO. of ITERATIONS REACHED LIMIT.\n",
            "\n",
            "Increase the number of iterations (max_iter) or scale the data as shown in:\n",
            "    https://scikit-learn.org/stable/modules/preprocessing.html\n",
            "Please also refer to the documentation for alternative solver options:\n",
            "    https://scikit-learn.org/stable/modules/linear_model.html#logistic-regression\n",
            "  n_iter_i = _check_optimize_result(\n"
          ]
        },
        {
          "output_type": "stream",
          "name": "stdout",
          "text": [
            "[CV] END C=10, fit_intercept=False, max_iter=300, penalty=l2, random_state=15, warm_start=False; total time=   0.3s\n",
            "[CV] END C=10, fit_intercept=False, max_iter=100, penalty=l1, random_state=21, warm_start=True; total time=   0.0s\n",
            "[CV] END C=10, fit_intercept=False, max_iter=100, penalty=l1, random_state=21, warm_start=True; total time=   0.0s\n",
            "[CV] END C=10, fit_intercept=False, max_iter=100, penalty=l1, random_state=21, warm_start=True; total time=   0.0s\n",
            "[CV] END C=10, fit_intercept=False, max_iter=100, penalty=l1, random_state=21, warm_start=False; total time=   0.0s\n",
            "[CV] END C=10, fit_intercept=False, max_iter=100, penalty=l1, random_state=21, warm_start=False; total time=   0.0s\n",
            "[CV] END C=10, fit_intercept=False, max_iter=100, penalty=l1, random_state=21, warm_start=False; total time=   0.0s\n",
            "[CV] END C=10, fit_intercept=False, max_iter=100, penalty=l1, random_state=42, warm_start=True; total time=   0.0s\n",
            "[CV] END C=10, fit_intercept=False, max_iter=100, penalty=l1, random_state=42, warm_start=True; total time=   0.0s\n",
            "[CV] END C=10, fit_intercept=False, max_iter=100, penalty=l1, random_state=42, warm_start=True; total time=   0.0s\n",
            "[CV] END C=10, fit_intercept=False, max_iter=100, penalty=l1, random_state=42, warm_start=False; total time=   0.0s\n",
            "[CV] END C=10, fit_intercept=False, max_iter=100, penalty=l1, random_state=42, warm_start=False; total time=   0.0s\n",
            "[CV] END C=10, fit_intercept=False, max_iter=100, penalty=l1, random_state=42, warm_start=False; total time=   0.0s\n",
            "[CV] END C=10, fit_intercept=False, max_iter=100, penalty=l1, random_state=15, warm_start=True; total time=   0.0s\n",
            "[CV] END C=10, fit_intercept=False, max_iter=100, penalty=l1, random_state=15, warm_start=True; total time=   0.0s\n",
            "[CV] END C=10, fit_intercept=False, max_iter=100, penalty=l1, random_state=15, warm_start=True; total time=   0.0s\n",
            "[CV] END C=10, fit_intercept=False, max_iter=100, penalty=l1, random_state=15, warm_start=False; total time=   0.0s\n",
            "[CV] END C=10, fit_intercept=False, max_iter=100, penalty=l1, random_state=15, warm_start=False; total time=   0.0s\n",
            "[CV] END C=10, fit_intercept=False, max_iter=100, penalty=l1, random_state=15, warm_start=False; total time=   0.0s\n",
            "[CV] END C=10, fit_intercept=False, max_iter=100, penalty=l2, random_state=21, warm_start=True; total time=   0.1s\n"
          ]
        },
        {
          "output_type": "stream",
          "name": "stderr",
          "text": [
            "/usr/local/lib/python3.10/dist-packages/sklearn/linear_model/_logistic.py:458: ConvergenceWarning: lbfgs failed to converge (status=1):\n",
            "STOP: TOTAL NO. of ITERATIONS REACHED LIMIT.\n",
            "\n",
            "Increase the number of iterations (max_iter) or scale the data as shown in:\n",
            "    https://scikit-learn.org/stable/modules/preprocessing.html\n",
            "Please also refer to the documentation for alternative solver options:\n",
            "    https://scikit-learn.org/stable/modules/linear_model.html#logistic-regression\n",
            "  n_iter_i = _check_optimize_result(\n",
            "/usr/local/lib/python3.10/dist-packages/sklearn/linear_model/_logistic.py:458: ConvergenceWarning: lbfgs failed to converge (status=1):\n",
            "STOP: TOTAL NO. of ITERATIONS REACHED LIMIT.\n",
            "\n",
            "Increase the number of iterations (max_iter) or scale the data as shown in:\n",
            "    https://scikit-learn.org/stable/modules/preprocessing.html\n",
            "Please also refer to the documentation for alternative solver options:\n",
            "    https://scikit-learn.org/stable/modules/linear_model.html#logistic-regression\n",
            "  n_iter_i = _check_optimize_result(\n"
          ]
        },
        {
          "output_type": "stream",
          "name": "stdout",
          "text": [
            "[CV] END C=10, fit_intercept=False, max_iter=100, penalty=l2, random_state=21, warm_start=True; total time=   0.1s\n",
            "[CV] END C=10, fit_intercept=False, max_iter=100, penalty=l2, random_state=21, warm_start=True; total time=   0.1s\n"
          ]
        },
        {
          "output_type": "stream",
          "name": "stderr",
          "text": [
            "/usr/local/lib/python3.10/dist-packages/sklearn/linear_model/_logistic.py:458: ConvergenceWarning: lbfgs failed to converge (status=1):\n",
            "STOP: TOTAL NO. of ITERATIONS REACHED LIMIT.\n",
            "\n",
            "Increase the number of iterations (max_iter) or scale the data as shown in:\n",
            "    https://scikit-learn.org/stable/modules/preprocessing.html\n",
            "Please also refer to the documentation for alternative solver options:\n",
            "    https://scikit-learn.org/stable/modules/linear_model.html#logistic-regression\n",
            "  n_iter_i = _check_optimize_result(\n",
            "/usr/local/lib/python3.10/dist-packages/sklearn/linear_model/_logistic.py:458: ConvergenceWarning: lbfgs failed to converge (status=1):\n",
            "STOP: TOTAL NO. of ITERATIONS REACHED LIMIT.\n",
            "\n",
            "Increase the number of iterations (max_iter) or scale the data as shown in:\n",
            "    https://scikit-learn.org/stable/modules/preprocessing.html\n",
            "Please also refer to the documentation for alternative solver options:\n",
            "    https://scikit-learn.org/stable/modules/linear_model.html#logistic-regression\n",
            "  n_iter_i = _check_optimize_result(\n"
          ]
        },
        {
          "output_type": "stream",
          "name": "stdout",
          "text": [
            "[CV] END C=10, fit_intercept=False, max_iter=100, penalty=l2, random_state=21, warm_start=False; total time=   0.1s\n",
            "[CV] END C=10, fit_intercept=False, max_iter=100, penalty=l2, random_state=21, warm_start=False; total time=   0.1s\n"
          ]
        },
        {
          "output_type": "stream",
          "name": "stderr",
          "text": [
            "/usr/local/lib/python3.10/dist-packages/sklearn/linear_model/_logistic.py:458: ConvergenceWarning: lbfgs failed to converge (status=1):\n",
            "STOP: TOTAL NO. of ITERATIONS REACHED LIMIT.\n",
            "\n",
            "Increase the number of iterations (max_iter) or scale the data as shown in:\n",
            "    https://scikit-learn.org/stable/modules/preprocessing.html\n",
            "Please also refer to the documentation for alternative solver options:\n",
            "    https://scikit-learn.org/stable/modules/linear_model.html#logistic-regression\n",
            "  n_iter_i = _check_optimize_result(\n",
            "/usr/local/lib/python3.10/dist-packages/sklearn/linear_model/_logistic.py:458: ConvergenceWarning: lbfgs failed to converge (status=1):\n",
            "STOP: TOTAL NO. of ITERATIONS REACHED LIMIT.\n",
            "\n",
            "Increase the number of iterations (max_iter) or scale the data as shown in:\n",
            "    https://scikit-learn.org/stable/modules/preprocessing.html\n",
            "Please also refer to the documentation for alternative solver options:\n",
            "    https://scikit-learn.org/stable/modules/linear_model.html#logistic-regression\n",
            "  n_iter_i = _check_optimize_result(\n"
          ]
        },
        {
          "output_type": "stream",
          "name": "stdout",
          "text": [
            "[CV] END C=10, fit_intercept=False, max_iter=100, penalty=l2, random_state=21, warm_start=False; total time=   0.1s\n",
            "[CV] END C=10, fit_intercept=False, max_iter=100, penalty=l2, random_state=42, warm_start=True; total time=   0.1s\n"
          ]
        },
        {
          "output_type": "stream",
          "name": "stderr",
          "text": [
            "/usr/local/lib/python3.10/dist-packages/sklearn/linear_model/_logistic.py:458: ConvergenceWarning: lbfgs failed to converge (status=1):\n",
            "STOP: TOTAL NO. of ITERATIONS REACHED LIMIT.\n",
            "\n",
            "Increase the number of iterations (max_iter) or scale the data as shown in:\n",
            "    https://scikit-learn.org/stable/modules/preprocessing.html\n",
            "Please also refer to the documentation for alternative solver options:\n",
            "    https://scikit-learn.org/stable/modules/linear_model.html#logistic-regression\n",
            "  n_iter_i = _check_optimize_result(\n",
            "/usr/local/lib/python3.10/dist-packages/sklearn/linear_model/_logistic.py:458: ConvergenceWarning: lbfgs failed to converge (status=1):\n",
            "STOP: TOTAL NO. of ITERATIONS REACHED LIMIT.\n",
            "\n",
            "Increase the number of iterations (max_iter) or scale the data as shown in:\n",
            "    https://scikit-learn.org/stable/modules/preprocessing.html\n",
            "Please also refer to the documentation for alternative solver options:\n",
            "    https://scikit-learn.org/stable/modules/linear_model.html#logistic-regression\n",
            "  n_iter_i = _check_optimize_result(\n"
          ]
        },
        {
          "output_type": "stream",
          "name": "stdout",
          "text": [
            "[CV] END C=10, fit_intercept=False, max_iter=100, penalty=l2, random_state=42, warm_start=True; total time=   0.1s\n",
            "[CV] END C=10, fit_intercept=False, max_iter=100, penalty=l2, random_state=42, warm_start=True; total time=   0.1s\n"
          ]
        },
        {
          "output_type": "stream",
          "name": "stderr",
          "text": [
            "/usr/local/lib/python3.10/dist-packages/sklearn/linear_model/_logistic.py:458: ConvergenceWarning: lbfgs failed to converge (status=1):\n",
            "STOP: TOTAL NO. of ITERATIONS REACHED LIMIT.\n",
            "\n",
            "Increase the number of iterations (max_iter) or scale the data as shown in:\n",
            "    https://scikit-learn.org/stable/modules/preprocessing.html\n",
            "Please also refer to the documentation for alternative solver options:\n",
            "    https://scikit-learn.org/stable/modules/linear_model.html#logistic-regression\n",
            "  n_iter_i = _check_optimize_result(\n",
            "/usr/local/lib/python3.10/dist-packages/sklearn/linear_model/_logistic.py:458: ConvergenceWarning: lbfgs failed to converge (status=1):\n",
            "STOP: TOTAL NO. of ITERATIONS REACHED LIMIT.\n",
            "\n",
            "Increase the number of iterations (max_iter) or scale the data as shown in:\n",
            "    https://scikit-learn.org/stable/modules/preprocessing.html\n",
            "Please also refer to the documentation for alternative solver options:\n",
            "    https://scikit-learn.org/stable/modules/linear_model.html#logistic-regression\n",
            "  n_iter_i = _check_optimize_result(\n"
          ]
        },
        {
          "output_type": "stream",
          "name": "stdout",
          "text": [
            "[CV] END C=10, fit_intercept=False, max_iter=100, penalty=l2, random_state=42, warm_start=False; total time=   0.1s\n",
            "[CV] END C=10, fit_intercept=False, max_iter=100, penalty=l2, random_state=42, warm_start=False; total time=   0.1s\n"
          ]
        },
        {
          "output_type": "stream",
          "name": "stderr",
          "text": [
            "/usr/local/lib/python3.10/dist-packages/sklearn/linear_model/_logistic.py:458: ConvergenceWarning: lbfgs failed to converge (status=1):\n",
            "STOP: TOTAL NO. of ITERATIONS REACHED LIMIT.\n",
            "\n",
            "Increase the number of iterations (max_iter) or scale the data as shown in:\n",
            "    https://scikit-learn.org/stable/modules/preprocessing.html\n",
            "Please also refer to the documentation for alternative solver options:\n",
            "    https://scikit-learn.org/stable/modules/linear_model.html#logistic-regression\n",
            "  n_iter_i = _check_optimize_result(\n",
            "/usr/local/lib/python3.10/dist-packages/sklearn/linear_model/_logistic.py:458: ConvergenceWarning: lbfgs failed to converge (status=1):\n",
            "STOP: TOTAL NO. of ITERATIONS REACHED LIMIT.\n",
            "\n",
            "Increase the number of iterations (max_iter) or scale the data as shown in:\n",
            "    https://scikit-learn.org/stable/modules/preprocessing.html\n",
            "Please also refer to the documentation for alternative solver options:\n",
            "    https://scikit-learn.org/stable/modules/linear_model.html#logistic-regression\n",
            "  n_iter_i = _check_optimize_result(\n"
          ]
        },
        {
          "output_type": "stream",
          "name": "stdout",
          "text": [
            "[CV] END C=10, fit_intercept=False, max_iter=100, penalty=l2, random_state=42, warm_start=False; total time=   0.1s\n",
            "[CV] END C=10, fit_intercept=False, max_iter=100, penalty=l2, random_state=15, warm_start=True; total time=   0.1s\n"
          ]
        },
        {
          "output_type": "stream",
          "name": "stderr",
          "text": [
            "/usr/local/lib/python3.10/dist-packages/sklearn/linear_model/_logistic.py:458: ConvergenceWarning: lbfgs failed to converge (status=1):\n",
            "STOP: TOTAL NO. of ITERATIONS REACHED LIMIT.\n",
            "\n",
            "Increase the number of iterations (max_iter) or scale the data as shown in:\n",
            "    https://scikit-learn.org/stable/modules/preprocessing.html\n",
            "Please also refer to the documentation for alternative solver options:\n",
            "    https://scikit-learn.org/stable/modules/linear_model.html#logistic-regression\n",
            "  n_iter_i = _check_optimize_result(\n",
            "/usr/local/lib/python3.10/dist-packages/sklearn/linear_model/_logistic.py:458: ConvergenceWarning: lbfgs failed to converge (status=1):\n",
            "STOP: TOTAL NO. of ITERATIONS REACHED LIMIT.\n",
            "\n",
            "Increase the number of iterations (max_iter) or scale the data as shown in:\n",
            "    https://scikit-learn.org/stable/modules/preprocessing.html\n",
            "Please also refer to the documentation for alternative solver options:\n",
            "    https://scikit-learn.org/stable/modules/linear_model.html#logistic-regression\n",
            "  n_iter_i = _check_optimize_result(\n"
          ]
        },
        {
          "output_type": "stream",
          "name": "stdout",
          "text": [
            "[CV] END C=10, fit_intercept=False, max_iter=100, penalty=l2, random_state=15, warm_start=True; total time=   0.1s\n",
            "[CV] END C=10, fit_intercept=False, max_iter=100, penalty=l2, random_state=15, warm_start=True; total time=   0.1s\n"
          ]
        },
        {
          "output_type": "stream",
          "name": "stderr",
          "text": [
            "/usr/local/lib/python3.10/dist-packages/sklearn/linear_model/_logistic.py:458: ConvergenceWarning: lbfgs failed to converge (status=1):\n",
            "STOP: TOTAL NO. of ITERATIONS REACHED LIMIT.\n",
            "\n",
            "Increase the number of iterations (max_iter) or scale the data as shown in:\n",
            "    https://scikit-learn.org/stable/modules/preprocessing.html\n",
            "Please also refer to the documentation for alternative solver options:\n",
            "    https://scikit-learn.org/stable/modules/linear_model.html#logistic-regression\n",
            "  n_iter_i = _check_optimize_result(\n",
            "/usr/local/lib/python3.10/dist-packages/sklearn/linear_model/_logistic.py:458: ConvergenceWarning: lbfgs failed to converge (status=1):\n",
            "STOP: TOTAL NO. of ITERATIONS REACHED LIMIT.\n",
            "\n",
            "Increase the number of iterations (max_iter) or scale the data as shown in:\n",
            "    https://scikit-learn.org/stable/modules/preprocessing.html\n",
            "Please also refer to the documentation for alternative solver options:\n",
            "    https://scikit-learn.org/stable/modules/linear_model.html#logistic-regression\n",
            "  n_iter_i = _check_optimize_result(\n"
          ]
        },
        {
          "output_type": "stream",
          "name": "stdout",
          "text": [
            "[CV] END C=10, fit_intercept=False, max_iter=100, penalty=l2, random_state=15, warm_start=False; total time=   0.1s\n",
            "[CV] END C=10, fit_intercept=False, max_iter=100, penalty=l2, random_state=15, warm_start=False; total time=   0.1s\n"
          ]
        },
        {
          "output_type": "stream",
          "name": "stderr",
          "text": [
            "/usr/local/lib/python3.10/dist-packages/sklearn/linear_model/_logistic.py:458: ConvergenceWarning: lbfgs failed to converge (status=1):\n",
            "STOP: TOTAL NO. of ITERATIONS REACHED LIMIT.\n",
            "\n",
            "Increase the number of iterations (max_iter) or scale the data as shown in:\n",
            "    https://scikit-learn.org/stable/modules/preprocessing.html\n",
            "Please also refer to the documentation for alternative solver options:\n",
            "    https://scikit-learn.org/stable/modules/linear_model.html#logistic-regression\n",
            "  n_iter_i = _check_optimize_result(\n"
          ]
        },
        {
          "output_type": "stream",
          "name": "stdout",
          "text": [
            "[CV] END C=10, fit_intercept=False, max_iter=100, penalty=l2, random_state=15, warm_start=False; total time=   0.1s\n",
            "[CV] END C=20, fit_intercept=True, max_iter=1000, penalty=l1, random_state=21, warm_start=True; total time=   0.0s\n",
            "[CV] END C=20, fit_intercept=True, max_iter=1000, penalty=l1, random_state=21, warm_start=True; total time=   0.0s\n",
            "[CV] END C=20, fit_intercept=True, max_iter=1000, penalty=l1, random_state=21, warm_start=True; total time=   0.0s\n",
            "[CV] END C=20, fit_intercept=True, max_iter=1000, penalty=l1, random_state=21, warm_start=False; total time=   0.0s\n",
            "[CV] END C=20, fit_intercept=True, max_iter=1000, penalty=l1, random_state=21, warm_start=False; total time=   0.0s\n",
            "[CV] END C=20, fit_intercept=True, max_iter=1000, penalty=l1, random_state=21, warm_start=False; total time=   0.0s\n",
            "[CV] END C=20, fit_intercept=True, max_iter=1000, penalty=l1, random_state=42, warm_start=True; total time=   0.0s\n",
            "[CV] END C=20, fit_intercept=True, max_iter=1000, penalty=l1, random_state=42, warm_start=True; total time=   0.0s\n",
            "[CV] END C=20, fit_intercept=True, max_iter=1000, penalty=l1, random_state=42, warm_start=True; total time=   0.0s\n",
            "[CV] END C=20, fit_intercept=True, max_iter=1000, penalty=l1, random_state=42, warm_start=False; total time=   0.0s\n",
            "[CV] END C=20, fit_intercept=True, max_iter=1000, penalty=l1, random_state=42, warm_start=False; total time=   0.0s\n",
            "[CV] END C=20, fit_intercept=True, max_iter=1000, penalty=l1, random_state=42, warm_start=False; total time=   0.0s\n",
            "[CV] END C=20, fit_intercept=True, max_iter=1000, penalty=l1, random_state=15, warm_start=True; total time=   0.0s\n",
            "[CV] END C=20, fit_intercept=True, max_iter=1000, penalty=l1, random_state=15, warm_start=True; total time=   0.0s\n",
            "[CV] END C=20, fit_intercept=True, max_iter=1000, penalty=l1, random_state=15, warm_start=True; total time=   0.0s\n",
            "[CV] END C=20, fit_intercept=True, max_iter=1000, penalty=l1, random_state=15, warm_start=False; total time=   0.0s\n",
            "[CV] END C=20, fit_intercept=True, max_iter=1000, penalty=l1, random_state=15, warm_start=False; total time=   0.0s\n",
            "[CV] END C=20, fit_intercept=True, max_iter=1000, penalty=l1, random_state=15, warm_start=False; total time=   0.0s\n"
          ]
        },
        {
          "output_type": "stream",
          "name": "stderr",
          "text": [
            "/usr/local/lib/python3.10/dist-packages/sklearn/linear_model/_logistic.py:458: ConvergenceWarning: lbfgs failed to converge (status=1):\n",
            "STOP: TOTAL NO. of ITERATIONS REACHED LIMIT.\n",
            "\n",
            "Increase the number of iterations (max_iter) or scale the data as shown in:\n",
            "    https://scikit-learn.org/stable/modules/preprocessing.html\n",
            "Please also refer to the documentation for alternative solver options:\n",
            "    https://scikit-learn.org/stable/modules/linear_model.html#logistic-regression\n",
            "  n_iter_i = _check_optimize_result(\n"
          ]
        },
        {
          "output_type": "stream",
          "name": "stdout",
          "text": [
            "[CV] END C=20, fit_intercept=True, max_iter=1000, penalty=l2, random_state=21, warm_start=True; total time=   1.1s\n"
          ]
        },
        {
          "output_type": "stream",
          "name": "stderr",
          "text": [
            "/usr/local/lib/python3.10/dist-packages/sklearn/linear_model/_logistic.py:458: ConvergenceWarning: lbfgs failed to converge (status=1):\n",
            "STOP: TOTAL NO. of ITERATIONS REACHED LIMIT.\n",
            "\n",
            "Increase the number of iterations (max_iter) or scale the data as shown in:\n",
            "    https://scikit-learn.org/stable/modules/preprocessing.html\n",
            "Please also refer to the documentation for alternative solver options:\n",
            "    https://scikit-learn.org/stable/modules/linear_model.html#logistic-regression\n",
            "  n_iter_i = _check_optimize_result(\n"
          ]
        },
        {
          "output_type": "stream",
          "name": "stdout",
          "text": [
            "[CV] END C=20, fit_intercept=True, max_iter=1000, penalty=l2, random_state=21, warm_start=True; total time=   1.1s\n"
          ]
        },
        {
          "output_type": "stream",
          "name": "stderr",
          "text": [
            "/usr/local/lib/python3.10/dist-packages/sklearn/linear_model/_logistic.py:458: ConvergenceWarning: lbfgs failed to converge (status=1):\n",
            "STOP: TOTAL NO. of ITERATIONS REACHED LIMIT.\n",
            "\n",
            "Increase the number of iterations (max_iter) or scale the data as shown in:\n",
            "    https://scikit-learn.org/stable/modules/preprocessing.html\n",
            "Please also refer to the documentation for alternative solver options:\n",
            "    https://scikit-learn.org/stable/modules/linear_model.html#logistic-regression\n",
            "  n_iter_i = _check_optimize_result(\n"
          ]
        },
        {
          "output_type": "stream",
          "name": "stdout",
          "text": [
            "[CV] END C=20, fit_intercept=True, max_iter=1000, penalty=l2, random_state=21, warm_start=True; total time=   1.5s\n"
          ]
        },
        {
          "output_type": "stream",
          "name": "stderr",
          "text": [
            "/usr/local/lib/python3.10/dist-packages/sklearn/linear_model/_logistic.py:458: ConvergenceWarning: lbfgs failed to converge (status=1):\n",
            "STOP: TOTAL NO. of ITERATIONS REACHED LIMIT.\n",
            "\n",
            "Increase the number of iterations (max_iter) or scale the data as shown in:\n",
            "    https://scikit-learn.org/stable/modules/preprocessing.html\n",
            "Please also refer to the documentation for alternative solver options:\n",
            "    https://scikit-learn.org/stable/modules/linear_model.html#logistic-regression\n",
            "  n_iter_i = _check_optimize_result(\n"
          ]
        },
        {
          "output_type": "stream",
          "name": "stdout",
          "text": [
            "[CV] END C=20, fit_intercept=True, max_iter=1000, penalty=l2, random_state=21, warm_start=False; total time=   2.4s\n"
          ]
        },
        {
          "output_type": "stream",
          "name": "stderr",
          "text": [
            "/usr/local/lib/python3.10/dist-packages/sklearn/linear_model/_logistic.py:458: ConvergenceWarning: lbfgs failed to converge (status=1):\n",
            "STOP: TOTAL NO. of ITERATIONS REACHED LIMIT.\n",
            "\n",
            "Increase the number of iterations (max_iter) or scale the data as shown in:\n",
            "    https://scikit-learn.org/stable/modules/preprocessing.html\n",
            "Please also refer to the documentation for alternative solver options:\n",
            "    https://scikit-learn.org/stable/modules/linear_model.html#logistic-regression\n",
            "  n_iter_i = _check_optimize_result(\n"
          ]
        },
        {
          "output_type": "stream",
          "name": "stdout",
          "text": [
            "[CV] END C=20, fit_intercept=True, max_iter=1000, penalty=l2, random_state=21, warm_start=False; total time=   2.6s\n"
          ]
        },
        {
          "output_type": "stream",
          "name": "stderr",
          "text": [
            "/usr/local/lib/python3.10/dist-packages/sklearn/linear_model/_logistic.py:458: ConvergenceWarning: lbfgs failed to converge (status=1):\n",
            "STOP: TOTAL NO. of ITERATIONS REACHED LIMIT.\n",
            "\n",
            "Increase the number of iterations (max_iter) or scale the data as shown in:\n",
            "    https://scikit-learn.org/stable/modules/preprocessing.html\n",
            "Please also refer to the documentation for alternative solver options:\n",
            "    https://scikit-learn.org/stable/modules/linear_model.html#logistic-regression\n",
            "  n_iter_i = _check_optimize_result(\n"
          ]
        },
        {
          "output_type": "stream",
          "name": "stdout",
          "text": [
            "[CV] END C=20, fit_intercept=True, max_iter=1000, penalty=l2, random_state=21, warm_start=False; total time=   1.1s\n"
          ]
        },
        {
          "output_type": "stream",
          "name": "stderr",
          "text": [
            "/usr/local/lib/python3.10/dist-packages/sklearn/linear_model/_logistic.py:458: ConvergenceWarning: lbfgs failed to converge (status=1):\n",
            "STOP: TOTAL NO. of ITERATIONS REACHED LIMIT.\n",
            "\n",
            "Increase the number of iterations (max_iter) or scale the data as shown in:\n",
            "    https://scikit-learn.org/stable/modules/preprocessing.html\n",
            "Please also refer to the documentation for alternative solver options:\n",
            "    https://scikit-learn.org/stable/modules/linear_model.html#logistic-regression\n",
            "  n_iter_i = _check_optimize_result(\n"
          ]
        },
        {
          "output_type": "stream",
          "name": "stdout",
          "text": [
            "[CV] END C=20, fit_intercept=True, max_iter=1000, penalty=l2, random_state=42, warm_start=True; total time=   1.1s\n"
          ]
        },
        {
          "output_type": "stream",
          "name": "stderr",
          "text": [
            "/usr/local/lib/python3.10/dist-packages/sklearn/linear_model/_logistic.py:458: ConvergenceWarning: lbfgs failed to converge (status=1):\n",
            "STOP: TOTAL NO. of ITERATIONS REACHED LIMIT.\n",
            "\n",
            "Increase the number of iterations (max_iter) or scale the data as shown in:\n",
            "    https://scikit-learn.org/stable/modules/preprocessing.html\n",
            "Please also refer to the documentation for alternative solver options:\n",
            "    https://scikit-learn.org/stable/modules/linear_model.html#logistic-regression\n",
            "  n_iter_i = _check_optimize_result(\n"
          ]
        },
        {
          "output_type": "stream",
          "name": "stdout",
          "text": [
            "[CV] END C=20, fit_intercept=True, max_iter=1000, penalty=l2, random_state=42, warm_start=True; total time=   1.1s\n"
          ]
        },
        {
          "output_type": "stream",
          "name": "stderr",
          "text": [
            "/usr/local/lib/python3.10/dist-packages/sklearn/linear_model/_logistic.py:458: ConvergenceWarning: lbfgs failed to converge (status=1):\n",
            "STOP: TOTAL NO. of ITERATIONS REACHED LIMIT.\n",
            "\n",
            "Increase the number of iterations (max_iter) or scale the data as shown in:\n",
            "    https://scikit-learn.org/stable/modules/preprocessing.html\n",
            "Please also refer to the documentation for alternative solver options:\n",
            "    https://scikit-learn.org/stable/modules/linear_model.html#logistic-regression\n",
            "  n_iter_i = _check_optimize_result(\n"
          ]
        },
        {
          "output_type": "stream",
          "name": "stdout",
          "text": [
            "[CV] END C=20, fit_intercept=True, max_iter=1000, penalty=l2, random_state=42, warm_start=True; total time=   1.1s\n"
          ]
        },
        {
          "output_type": "stream",
          "name": "stderr",
          "text": [
            "/usr/local/lib/python3.10/dist-packages/sklearn/linear_model/_logistic.py:458: ConvergenceWarning: lbfgs failed to converge (status=1):\n",
            "STOP: TOTAL NO. of ITERATIONS REACHED LIMIT.\n",
            "\n",
            "Increase the number of iterations (max_iter) or scale the data as shown in:\n",
            "    https://scikit-learn.org/stable/modules/preprocessing.html\n",
            "Please also refer to the documentation for alternative solver options:\n",
            "    https://scikit-learn.org/stable/modules/linear_model.html#logistic-regression\n",
            "  n_iter_i = _check_optimize_result(\n"
          ]
        },
        {
          "output_type": "stream",
          "name": "stdout",
          "text": [
            "[CV] END C=20, fit_intercept=True, max_iter=1000, penalty=l2, random_state=42, warm_start=False; total time=   1.1s\n"
          ]
        },
        {
          "output_type": "stream",
          "name": "stderr",
          "text": [
            "/usr/local/lib/python3.10/dist-packages/sklearn/linear_model/_logistic.py:458: ConvergenceWarning: lbfgs failed to converge (status=1):\n",
            "STOP: TOTAL NO. of ITERATIONS REACHED LIMIT.\n",
            "\n",
            "Increase the number of iterations (max_iter) or scale the data as shown in:\n",
            "    https://scikit-learn.org/stable/modules/preprocessing.html\n",
            "Please also refer to the documentation for alternative solver options:\n",
            "    https://scikit-learn.org/stable/modules/linear_model.html#logistic-regression\n",
            "  n_iter_i = _check_optimize_result(\n"
          ]
        },
        {
          "output_type": "stream",
          "name": "stdout",
          "text": [
            "[CV] END C=20, fit_intercept=True, max_iter=1000, penalty=l2, random_state=42, warm_start=False; total time=   1.2s\n"
          ]
        },
        {
          "output_type": "stream",
          "name": "stderr",
          "text": [
            "/usr/local/lib/python3.10/dist-packages/sklearn/linear_model/_logistic.py:458: ConvergenceWarning: lbfgs failed to converge (status=1):\n",
            "STOP: TOTAL NO. of ITERATIONS REACHED LIMIT.\n",
            "\n",
            "Increase the number of iterations (max_iter) or scale the data as shown in:\n",
            "    https://scikit-learn.org/stable/modules/preprocessing.html\n",
            "Please also refer to the documentation for alternative solver options:\n",
            "    https://scikit-learn.org/stable/modules/linear_model.html#logistic-regression\n",
            "  n_iter_i = _check_optimize_result(\n"
          ]
        },
        {
          "output_type": "stream",
          "name": "stdout",
          "text": [
            "[CV] END C=20, fit_intercept=True, max_iter=1000, penalty=l2, random_state=42, warm_start=False; total time=   1.1s\n"
          ]
        },
        {
          "output_type": "stream",
          "name": "stderr",
          "text": [
            "/usr/local/lib/python3.10/dist-packages/sklearn/linear_model/_logistic.py:458: ConvergenceWarning: lbfgs failed to converge (status=1):\n",
            "STOP: TOTAL NO. of ITERATIONS REACHED LIMIT.\n",
            "\n",
            "Increase the number of iterations (max_iter) or scale the data as shown in:\n",
            "    https://scikit-learn.org/stable/modules/preprocessing.html\n",
            "Please also refer to the documentation for alternative solver options:\n",
            "    https://scikit-learn.org/stable/modules/linear_model.html#logistic-regression\n",
            "  n_iter_i = _check_optimize_result(\n"
          ]
        },
        {
          "output_type": "stream",
          "name": "stdout",
          "text": [
            "[CV] END C=20, fit_intercept=True, max_iter=1000, penalty=l2, random_state=15, warm_start=True; total time=   1.2s\n"
          ]
        },
        {
          "output_type": "stream",
          "name": "stderr",
          "text": [
            "/usr/local/lib/python3.10/dist-packages/sklearn/linear_model/_logistic.py:458: ConvergenceWarning: lbfgs failed to converge (status=1):\n",
            "STOP: TOTAL NO. of ITERATIONS REACHED LIMIT.\n",
            "\n",
            "Increase the number of iterations (max_iter) or scale the data as shown in:\n",
            "    https://scikit-learn.org/stable/modules/preprocessing.html\n",
            "Please also refer to the documentation for alternative solver options:\n",
            "    https://scikit-learn.org/stable/modules/linear_model.html#logistic-regression\n",
            "  n_iter_i = _check_optimize_result(\n"
          ]
        },
        {
          "output_type": "stream",
          "name": "stdout",
          "text": [
            "[CV] END C=20, fit_intercept=True, max_iter=1000, penalty=l2, random_state=15, warm_start=True; total time=   3.1s\n"
          ]
        },
        {
          "output_type": "stream",
          "name": "stderr",
          "text": [
            "/usr/local/lib/python3.10/dist-packages/sklearn/linear_model/_logistic.py:458: ConvergenceWarning: lbfgs failed to converge (status=1):\n",
            "STOP: TOTAL NO. of ITERATIONS REACHED LIMIT.\n",
            "\n",
            "Increase the number of iterations (max_iter) or scale the data as shown in:\n",
            "    https://scikit-learn.org/stable/modules/preprocessing.html\n",
            "Please also refer to the documentation for alternative solver options:\n",
            "    https://scikit-learn.org/stable/modules/linear_model.html#logistic-regression\n",
            "  n_iter_i = _check_optimize_result(\n"
          ]
        },
        {
          "output_type": "stream",
          "name": "stdout",
          "text": [
            "[CV] END C=20, fit_intercept=True, max_iter=1000, penalty=l2, random_state=15, warm_start=True; total time=   2.8s\n"
          ]
        },
        {
          "output_type": "stream",
          "name": "stderr",
          "text": [
            "/usr/local/lib/python3.10/dist-packages/sklearn/linear_model/_logistic.py:458: ConvergenceWarning: lbfgs failed to converge (status=1):\n",
            "STOP: TOTAL NO. of ITERATIONS REACHED LIMIT.\n",
            "\n",
            "Increase the number of iterations (max_iter) or scale the data as shown in:\n",
            "    https://scikit-learn.org/stable/modules/preprocessing.html\n",
            "Please also refer to the documentation for alternative solver options:\n",
            "    https://scikit-learn.org/stable/modules/linear_model.html#logistic-regression\n",
            "  n_iter_i = _check_optimize_result(\n"
          ]
        },
        {
          "output_type": "stream",
          "name": "stdout",
          "text": [
            "[CV] END C=20, fit_intercept=True, max_iter=1000, penalty=l2, random_state=15, warm_start=False; total time=   1.7s\n"
          ]
        },
        {
          "output_type": "stream",
          "name": "stderr",
          "text": [
            "/usr/local/lib/python3.10/dist-packages/sklearn/linear_model/_logistic.py:458: ConvergenceWarning: lbfgs failed to converge (status=1):\n",
            "STOP: TOTAL NO. of ITERATIONS REACHED LIMIT.\n",
            "\n",
            "Increase the number of iterations (max_iter) or scale the data as shown in:\n",
            "    https://scikit-learn.org/stable/modules/preprocessing.html\n",
            "Please also refer to the documentation for alternative solver options:\n",
            "    https://scikit-learn.org/stable/modules/linear_model.html#logistic-regression\n",
            "  n_iter_i = _check_optimize_result(\n"
          ]
        },
        {
          "output_type": "stream",
          "name": "stdout",
          "text": [
            "[CV] END C=20, fit_intercept=True, max_iter=1000, penalty=l2, random_state=15, warm_start=False; total time=   1.1s\n"
          ]
        },
        {
          "output_type": "stream",
          "name": "stderr",
          "text": [
            "/usr/local/lib/python3.10/dist-packages/sklearn/linear_model/_logistic.py:458: ConvergenceWarning: lbfgs failed to converge (status=1):\n",
            "STOP: TOTAL NO. of ITERATIONS REACHED LIMIT.\n",
            "\n",
            "Increase the number of iterations (max_iter) or scale the data as shown in:\n",
            "    https://scikit-learn.org/stable/modules/preprocessing.html\n",
            "Please also refer to the documentation for alternative solver options:\n",
            "    https://scikit-learn.org/stable/modules/linear_model.html#logistic-regression\n",
            "  n_iter_i = _check_optimize_result(\n"
          ]
        },
        {
          "output_type": "stream",
          "name": "stdout",
          "text": [
            "[CV] END C=20, fit_intercept=True, max_iter=1000, penalty=l2, random_state=15, warm_start=False; total time=   1.1s\n",
            "[CV] END C=20, fit_intercept=True, max_iter=500, penalty=l1, random_state=21, warm_start=True; total time=   0.0s\n",
            "[CV] END C=20, fit_intercept=True, max_iter=500, penalty=l1, random_state=21, warm_start=True; total time=   0.0s\n",
            "[CV] END C=20, fit_intercept=True, max_iter=500, penalty=l1, random_state=21, warm_start=True; total time=   0.0s\n",
            "[CV] END C=20, fit_intercept=True, max_iter=500, penalty=l1, random_state=21, warm_start=False; total time=   0.0s\n",
            "[CV] END C=20, fit_intercept=True, max_iter=500, penalty=l1, random_state=21, warm_start=False; total time=   0.0s\n",
            "[CV] END C=20, fit_intercept=True, max_iter=500, penalty=l1, random_state=21, warm_start=False; total time=   0.0s\n",
            "[CV] END C=20, fit_intercept=True, max_iter=500, penalty=l1, random_state=42, warm_start=True; total time=   0.0s\n",
            "[CV] END C=20, fit_intercept=True, max_iter=500, penalty=l1, random_state=42, warm_start=True; total time=   0.0s\n",
            "[CV] END C=20, fit_intercept=True, max_iter=500, penalty=l1, random_state=42, warm_start=True; total time=   0.0s\n",
            "[CV] END C=20, fit_intercept=True, max_iter=500, penalty=l1, random_state=42, warm_start=False; total time=   0.0s\n",
            "[CV] END C=20, fit_intercept=True, max_iter=500, penalty=l1, random_state=42, warm_start=False; total time=   0.0s\n",
            "[CV] END C=20, fit_intercept=True, max_iter=500, penalty=l1, random_state=42, warm_start=False; total time=   0.0s\n",
            "[CV] END C=20, fit_intercept=True, max_iter=500, penalty=l1, random_state=15, warm_start=True; total time=   0.0s\n",
            "[CV] END C=20, fit_intercept=True, max_iter=500, penalty=l1, random_state=15, warm_start=True; total time=   0.0s\n",
            "[CV] END C=20, fit_intercept=True, max_iter=500, penalty=l1, random_state=15, warm_start=True; total time=   0.0s\n",
            "[CV] END C=20, fit_intercept=True, max_iter=500, penalty=l1, random_state=15, warm_start=False; total time=   0.0s\n",
            "[CV] END C=20, fit_intercept=True, max_iter=500, penalty=l1, random_state=15, warm_start=False; total time=   0.0s\n",
            "[CV] END C=20, fit_intercept=True, max_iter=500, penalty=l1, random_state=15, warm_start=False; total time=   0.0s\n"
          ]
        },
        {
          "output_type": "stream",
          "name": "stderr",
          "text": [
            "/usr/local/lib/python3.10/dist-packages/sklearn/linear_model/_logistic.py:458: ConvergenceWarning: lbfgs failed to converge (status=1):\n",
            "STOP: TOTAL NO. of ITERATIONS REACHED LIMIT.\n",
            "\n",
            "Increase the number of iterations (max_iter) or scale the data as shown in:\n",
            "    https://scikit-learn.org/stable/modules/preprocessing.html\n",
            "Please also refer to the documentation for alternative solver options:\n",
            "    https://scikit-learn.org/stable/modules/linear_model.html#logistic-regression\n",
            "  n_iter_i = _check_optimize_result(\n"
          ]
        },
        {
          "output_type": "stream",
          "name": "stdout",
          "text": [
            "[CV] END C=20, fit_intercept=True, max_iter=500, penalty=l2, random_state=21, warm_start=True; total time=   0.6s\n"
          ]
        },
        {
          "output_type": "stream",
          "name": "stderr",
          "text": [
            "/usr/local/lib/python3.10/dist-packages/sklearn/linear_model/_logistic.py:458: ConvergenceWarning: lbfgs failed to converge (status=1):\n",
            "STOP: TOTAL NO. of ITERATIONS REACHED LIMIT.\n",
            "\n",
            "Increase the number of iterations (max_iter) or scale the data as shown in:\n",
            "    https://scikit-learn.org/stable/modules/preprocessing.html\n",
            "Please also refer to the documentation for alternative solver options:\n",
            "    https://scikit-learn.org/stable/modules/linear_model.html#logistic-regression\n",
            "  n_iter_i = _check_optimize_result(\n"
          ]
        },
        {
          "output_type": "stream",
          "name": "stdout",
          "text": [
            "[CV] END C=20, fit_intercept=True, max_iter=500, penalty=l2, random_state=21, warm_start=True; total time=   0.6s\n"
          ]
        },
        {
          "output_type": "stream",
          "name": "stderr",
          "text": [
            "/usr/local/lib/python3.10/dist-packages/sklearn/linear_model/_logistic.py:458: ConvergenceWarning: lbfgs failed to converge (status=1):\n",
            "STOP: TOTAL NO. of ITERATIONS REACHED LIMIT.\n",
            "\n",
            "Increase the number of iterations (max_iter) or scale the data as shown in:\n",
            "    https://scikit-learn.org/stable/modules/preprocessing.html\n",
            "Please also refer to the documentation for alternative solver options:\n",
            "    https://scikit-learn.org/stable/modules/linear_model.html#logistic-regression\n",
            "  n_iter_i = _check_optimize_result(\n"
          ]
        },
        {
          "output_type": "stream",
          "name": "stdout",
          "text": [
            "[CV] END C=20, fit_intercept=True, max_iter=500, penalty=l2, random_state=21, warm_start=True; total time=   0.6s\n"
          ]
        },
        {
          "output_type": "stream",
          "name": "stderr",
          "text": [
            "/usr/local/lib/python3.10/dist-packages/sklearn/linear_model/_logistic.py:458: ConvergenceWarning: lbfgs failed to converge (status=1):\n",
            "STOP: TOTAL NO. of ITERATIONS REACHED LIMIT.\n",
            "\n",
            "Increase the number of iterations (max_iter) or scale the data as shown in:\n",
            "    https://scikit-learn.org/stable/modules/preprocessing.html\n",
            "Please also refer to the documentation for alternative solver options:\n",
            "    https://scikit-learn.org/stable/modules/linear_model.html#logistic-regression\n",
            "  n_iter_i = _check_optimize_result(\n"
          ]
        },
        {
          "output_type": "stream",
          "name": "stdout",
          "text": [
            "[CV] END C=20, fit_intercept=True, max_iter=500, penalty=l2, random_state=21, warm_start=False; total time=   0.6s\n"
          ]
        },
        {
          "output_type": "stream",
          "name": "stderr",
          "text": [
            "/usr/local/lib/python3.10/dist-packages/sklearn/linear_model/_logistic.py:458: ConvergenceWarning: lbfgs failed to converge (status=1):\n",
            "STOP: TOTAL NO. of ITERATIONS REACHED LIMIT.\n",
            "\n",
            "Increase the number of iterations (max_iter) or scale the data as shown in:\n",
            "    https://scikit-learn.org/stable/modules/preprocessing.html\n",
            "Please also refer to the documentation for alternative solver options:\n",
            "    https://scikit-learn.org/stable/modules/linear_model.html#logistic-regression\n",
            "  n_iter_i = _check_optimize_result(\n"
          ]
        },
        {
          "output_type": "stream",
          "name": "stdout",
          "text": [
            "[CV] END C=20, fit_intercept=True, max_iter=500, penalty=l2, random_state=21, warm_start=False; total time=   0.6s\n"
          ]
        },
        {
          "output_type": "stream",
          "name": "stderr",
          "text": [
            "/usr/local/lib/python3.10/dist-packages/sklearn/linear_model/_logistic.py:458: ConvergenceWarning: lbfgs failed to converge (status=1):\n",
            "STOP: TOTAL NO. of ITERATIONS REACHED LIMIT.\n",
            "\n",
            "Increase the number of iterations (max_iter) or scale the data as shown in:\n",
            "    https://scikit-learn.org/stable/modules/preprocessing.html\n",
            "Please also refer to the documentation for alternative solver options:\n",
            "    https://scikit-learn.org/stable/modules/linear_model.html#logistic-regression\n",
            "  n_iter_i = _check_optimize_result(\n"
          ]
        },
        {
          "output_type": "stream",
          "name": "stdout",
          "text": [
            "[CV] END C=20, fit_intercept=True, max_iter=500, penalty=l2, random_state=21, warm_start=False; total time=   0.6s\n"
          ]
        },
        {
          "output_type": "stream",
          "name": "stderr",
          "text": [
            "/usr/local/lib/python3.10/dist-packages/sklearn/linear_model/_logistic.py:458: ConvergenceWarning: lbfgs failed to converge (status=1):\n",
            "STOP: TOTAL NO. of ITERATIONS REACHED LIMIT.\n",
            "\n",
            "Increase the number of iterations (max_iter) or scale the data as shown in:\n",
            "    https://scikit-learn.org/stable/modules/preprocessing.html\n",
            "Please also refer to the documentation for alternative solver options:\n",
            "    https://scikit-learn.org/stable/modules/linear_model.html#logistic-regression\n",
            "  n_iter_i = _check_optimize_result(\n"
          ]
        },
        {
          "output_type": "stream",
          "name": "stdout",
          "text": [
            "[CV] END C=20, fit_intercept=True, max_iter=500, penalty=l2, random_state=42, warm_start=True; total time=   0.6s\n"
          ]
        },
        {
          "output_type": "stream",
          "name": "stderr",
          "text": [
            "/usr/local/lib/python3.10/dist-packages/sklearn/linear_model/_logistic.py:458: ConvergenceWarning: lbfgs failed to converge (status=1):\n",
            "STOP: TOTAL NO. of ITERATIONS REACHED LIMIT.\n",
            "\n",
            "Increase the number of iterations (max_iter) or scale the data as shown in:\n",
            "    https://scikit-learn.org/stable/modules/preprocessing.html\n",
            "Please also refer to the documentation for alternative solver options:\n",
            "    https://scikit-learn.org/stable/modules/linear_model.html#logistic-regression\n",
            "  n_iter_i = _check_optimize_result(\n"
          ]
        },
        {
          "output_type": "stream",
          "name": "stdout",
          "text": [
            "[CV] END C=20, fit_intercept=True, max_iter=500, penalty=l2, random_state=42, warm_start=True; total time=   0.6s\n"
          ]
        },
        {
          "output_type": "stream",
          "name": "stderr",
          "text": [
            "/usr/local/lib/python3.10/dist-packages/sklearn/linear_model/_logistic.py:458: ConvergenceWarning: lbfgs failed to converge (status=1):\n",
            "STOP: TOTAL NO. of ITERATIONS REACHED LIMIT.\n",
            "\n",
            "Increase the number of iterations (max_iter) or scale the data as shown in:\n",
            "    https://scikit-learn.org/stable/modules/preprocessing.html\n",
            "Please also refer to the documentation for alternative solver options:\n",
            "    https://scikit-learn.org/stable/modules/linear_model.html#logistic-regression\n",
            "  n_iter_i = _check_optimize_result(\n"
          ]
        },
        {
          "output_type": "stream",
          "name": "stdout",
          "text": [
            "[CV] END C=20, fit_intercept=True, max_iter=500, penalty=l2, random_state=42, warm_start=True; total time=   0.6s\n"
          ]
        },
        {
          "output_type": "stream",
          "name": "stderr",
          "text": [
            "/usr/local/lib/python3.10/dist-packages/sklearn/linear_model/_logistic.py:458: ConvergenceWarning: lbfgs failed to converge (status=1):\n",
            "STOP: TOTAL NO. of ITERATIONS REACHED LIMIT.\n",
            "\n",
            "Increase the number of iterations (max_iter) or scale the data as shown in:\n",
            "    https://scikit-learn.org/stable/modules/preprocessing.html\n",
            "Please also refer to the documentation for alternative solver options:\n",
            "    https://scikit-learn.org/stable/modules/linear_model.html#logistic-regression\n",
            "  n_iter_i = _check_optimize_result(\n"
          ]
        },
        {
          "output_type": "stream",
          "name": "stdout",
          "text": [
            "[CV] END C=20, fit_intercept=True, max_iter=500, penalty=l2, random_state=42, warm_start=False; total time=   0.6s\n"
          ]
        },
        {
          "output_type": "stream",
          "name": "stderr",
          "text": [
            "/usr/local/lib/python3.10/dist-packages/sklearn/linear_model/_logistic.py:458: ConvergenceWarning: lbfgs failed to converge (status=1):\n",
            "STOP: TOTAL NO. of ITERATIONS REACHED LIMIT.\n",
            "\n",
            "Increase the number of iterations (max_iter) or scale the data as shown in:\n",
            "    https://scikit-learn.org/stable/modules/preprocessing.html\n",
            "Please also refer to the documentation for alternative solver options:\n",
            "    https://scikit-learn.org/stable/modules/linear_model.html#logistic-regression\n",
            "  n_iter_i = _check_optimize_result(\n"
          ]
        },
        {
          "output_type": "stream",
          "name": "stdout",
          "text": [
            "[CV] END C=20, fit_intercept=True, max_iter=500, penalty=l2, random_state=42, warm_start=False; total time=   0.6s\n"
          ]
        },
        {
          "output_type": "stream",
          "name": "stderr",
          "text": [
            "/usr/local/lib/python3.10/dist-packages/sklearn/linear_model/_logistic.py:458: ConvergenceWarning: lbfgs failed to converge (status=1):\n",
            "STOP: TOTAL NO. of ITERATIONS REACHED LIMIT.\n",
            "\n",
            "Increase the number of iterations (max_iter) or scale the data as shown in:\n",
            "    https://scikit-learn.org/stable/modules/preprocessing.html\n",
            "Please also refer to the documentation for alternative solver options:\n",
            "    https://scikit-learn.org/stable/modules/linear_model.html#logistic-regression\n",
            "  n_iter_i = _check_optimize_result(\n"
          ]
        },
        {
          "output_type": "stream",
          "name": "stdout",
          "text": [
            "[CV] END C=20, fit_intercept=True, max_iter=500, penalty=l2, random_state=42, warm_start=False; total time=   0.6s\n"
          ]
        },
        {
          "output_type": "stream",
          "name": "stderr",
          "text": [
            "/usr/local/lib/python3.10/dist-packages/sklearn/linear_model/_logistic.py:458: ConvergenceWarning: lbfgs failed to converge (status=1):\n",
            "STOP: TOTAL NO. of ITERATIONS REACHED LIMIT.\n",
            "\n",
            "Increase the number of iterations (max_iter) or scale the data as shown in:\n",
            "    https://scikit-learn.org/stable/modules/preprocessing.html\n",
            "Please also refer to the documentation for alternative solver options:\n",
            "    https://scikit-learn.org/stable/modules/linear_model.html#logistic-regression\n",
            "  n_iter_i = _check_optimize_result(\n"
          ]
        },
        {
          "output_type": "stream",
          "name": "stdout",
          "text": [
            "[CV] END C=20, fit_intercept=True, max_iter=500, penalty=l2, random_state=15, warm_start=True; total time=   1.3s\n"
          ]
        },
        {
          "output_type": "stream",
          "name": "stderr",
          "text": [
            "/usr/local/lib/python3.10/dist-packages/sklearn/linear_model/_logistic.py:458: ConvergenceWarning: lbfgs failed to converge (status=1):\n",
            "STOP: TOTAL NO. of ITERATIONS REACHED LIMIT.\n",
            "\n",
            "Increase the number of iterations (max_iter) or scale the data as shown in:\n",
            "    https://scikit-learn.org/stable/modules/preprocessing.html\n",
            "Please also refer to the documentation for alternative solver options:\n",
            "    https://scikit-learn.org/stable/modules/linear_model.html#logistic-regression\n",
            "  n_iter_i = _check_optimize_result(\n"
          ]
        },
        {
          "output_type": "stream",
          "name": "stdout",
          "text": [
            "[CV] END C=20, fit_intercept=True, max_iter=500, penalty=l2, random_state=15, warm_start=True; total time=   1.2s\n"
          ]
        },
        {
          "output_type": "stream",
          "name": "stderr",
          "text": [
            "/usr/local/lib/python3.10/dist-packages/sklearn/linear_model/_logistic.py:458: ConvergenceWarning: lbfgs failed to converge (status=1):\n",
            "STOP: TOTAL NO. of ITERATIONS REACHED LIMIT.\n",
            "\n",
            "Increase the number of iterations (max_iter) or scale the data as shown in:\n",
            "    https://scikit-learn.org/stable/modules/preprocessing.html\n",
            "Please also refer to the documentation for alternative solver options:\n",
            "    https://scikit-learn.org/stable/modules/linear_model.html#logistic-regression\n",
            "  n_iter_i = _check_optimize_result(\n"
          ]
        },
        {
          "output_type": "stream",
          "name": "stdout",
          "text": [
            "[CV] END C=20, fit_intercept=True, max_iter=500, penalty=l2, random_state=15, warm_start=True; total time=   1.4s\n"
          ]
        },
        {
          "output_type": "stream",
          "name": "stderr",
          "text": [
            "/usr/local/lib/python3.10/dist-packages/sklearn/linear_model/_logistic.py:458: ConvergenceWarning: lbfgs failed to converge (status=1):\n",
            "STOP: TOTAL NO. of ITERATIONS REACHED LIMIT.\n",
            "\n",
            "Increase the number of iterations (max_iter) or scale the data as shown in:\n",
            "    https://scikit-learn.org/stable/modules/preprocessing.html\n",
            "Please also refer to the documentation for alternative solver options:\n",
            "    https://scikit-learn.org/stable/modules/linear_model.html#logistic-regression\n",
            "  n_iter_i = _check_optimize_result(\n"
          ]
        },
        {
          "output_type": "stream",
          "name": "stdout",
          "text": [
            "[CV] END C=20, fit_intercept=True, max_iter=500, penalty=l2, random_state=15, warm_start=False; total time=   1.4s\n"
          ]
        },
        {
          "output_type": "stream",
          "name": "stderr",
          "text": [
            "/usr/local/lib/python3.10/dist-packages/sklearn/linear_model/_logistic.py:458: ConvergenceWarning: lbfgs failed to converge (status=1):\n",
            "STOP: TOTAL NO. of ITERATIONS REACHED LIMIT.\n",
            "\n",
            "Increase the number of iterations (max_iter) or scale the data as shown in:\n",
            "    https://scikit-learn.org/stable/modules/preprocessing.html\n",
            "Please also refer to the documentation for alternative solver options:\n",
            "    https://scikit-learn.org/stable/modules/linear_model.html#logistic-regression\n",
            "  n_iter_i = _check_optimize_result(\n"
          ]
        },
        {
          "output_type": "stream",
          "name": "stdout",
          "text": [
            "[CV] END C=20, fit_intercept=True, max_iter=500, penalty=l2, random_state=15, warm_start=False; total time=   0.7s\n"
          ]
        },
        {
          "output_type": "stream",
          "name": "stderr",
          "text": [
            "/usr/local/lib/python3.10/dist-packages/sklearn/linear_model/_logistic.py:458: ConvergenceWarning: lbfgs failed to converge (status=1):\n",
            "STOP: TOTAL NO. of ITERATIONS REACHED LIMIT.\n",
            "\n",
            "Increase the number of iterations (max_iter) or scale the data as shown in:\n",
            "    https://scikit-learn.org/stable/modules/preprocessing.html\n",
            "Please also refer to the documentation for alternative solver options:\n",
            "    https://scikit-learn.org/stable/modules/linear_model.html#logistic-regression\n",
            "  n_iter_i = _check_optimize_result(\n"
          ]
        },
        {
          "output_type": "stream",
          "name": "stdout",
          "text": [
            "[CV] END C=20, fit_intercept=True, max_iter=500, penalty=l2, random_state=15, warm_start=False; total time=   0.6s\n",
            "[CV] END C=20, fit_intercept=True, max_iter=300, penalty=l1, random_state=21, warm_start=True; total time=   0.0s\n",
            "[CV] END C=20, fit_intercept=True, max_iter=300, penalty=l1, random_state=21, warm_start=True; total time=   0.0s\n",
            "[CV] END C=20, fit_intercept=True, max_iter=300, penalty=l1, random_state=21, warm_start=True; total time=   0.0s\n",
            "[CV] END C=20, fit_intercept=True, max_iter=300, penalty=l1, random_state=21, warm_start=False; total time=   0.0s\n",
            "[CV] END C=20, fit_intercept=True, max_iter=300, penalty=l1, random_state=21, warm_start=False; total time=   0.0s\n",
            "[CV] END C=20, fit_intercept=True, max_iter=300, penalty=l1, random_state=21, warm_start=False; total time=   0.0s\n",
            "[CV] END C=20, fit_intercept=True, max_iter=300, penalty=l1, random_state=42, warm_start=True; total time=   0.0s\n",
            "[CV] END C=20, fit_intercept=True, max_iter=300, penalty=l1, random_state=42, warm_start=True; total time=   0.0s\n",
            "[CV] END C=20, fit_intercept=True, max_iter=300, penalty=l1, random_state=42, warm_start=True; total time=   0.0s\n",
            "[CV] END C=20, fit_intercept=True, max_iter=300, penalty=l1, random_state=42, warm_start=False; total time=   0.0s\n",
            "[CV] END C=20, fit_intercept=True, max_iter=300, penalty=l1, random_state=42, warm_start=False; total time=   0.0s\n",
            "[CV] END C=20, fit_intercept=True, max_iter=300, penalty=l1, random_state=42, warm_start=False; total time=   0.0s\n",
            "[CV] END C=20, fit_intercept=True, max_iter=300, penalty=l1, random_state=15, warm_start=True; total time=   0.0s\n",
            "[CV] END C=20, fit_intercept=True, max_iter=300, penalty=l1, random_state=15, warm_start=True; total time=   0.0s\n",
            "[CV] END C=20, fit_intercept=True, max_iter=300, penalty=l1, random_state=15, warm_start=True; total time=   0.0s\n",
            "[CV] END C=20, fit_intercept=True, max_iter=300, penalty=l1, random_state=15, warm_start=False; total time=   0.0s\n",
            "[CV] END C=20, fit_intercept=True, max_iter=300, penalty=l1, random_state=15, warm_start=False; total time=   0.0s\n",
            "[CV] END C=20, fit_intercept=True, max_iter=300, penalty=l1, random_state=15, warm_start=False; total time=   0.0s\n"
          ]
        },
        {
          "output_type": "stream",
          "name": "stderr",
          "text": [
            "/usr/local/lib/python3.10/dist-packages/sklearn/linear_model/_logistic.py:458: ConvergenceWarning: lbfgs failed to converge (status=1):\n",
            "STOP: TOTAL NO. of ITERATIONS REACHED LIMIT.\n",
            "\n",
            "Increase the number of iterations (max_iter) or scale the data as shown in:\n",
            "    https://scikit-learn.org/stable/modules/preprocessing.html\n",
            "Please also refer to the documentation for alternative solver options:\n",
            "    https://scikit-learn.org/stable/modules/linear_model.html#logistic-regression\n",
            "  n_iter_i = _check_optimize_result(\n"
          ]
        },
        {
          "output_type": "stream",
          "name": "stdout",
          "text": [
            "[CV] END C=20, fit_intercept=True, max_iter=300, penalty=l2, random_state=21, warm_start=True; total time=   0.4s\n"
          ]
        },
        {
          "output_type": "stream",
          "name": "stderr",
          "text": [
            "/usr/local/lib/python3.10/dist-packages/sklearn/linear_model/_logistic.py:458: ConvergenceWarning: lbfgs failed to converge (status=1):\n",
            "STOP: TOTAL NO. of ITERATIONS REACHED LIMIT.\n",
            "\n",
            "Increase the number of iterations (max_iter) or scale the data as shown in:\n",
            "    https://scikit-learn.org/stable/modules/preprocessing.html\n",
            "Please also refer to the documentation for alternative solver options:\n",
            "    https://scikit-learn.org/stable/modules/linear_model.html#logistic-regression\n",
            "  n_iter_i = _check_optimize_result(\n"
          ]
        },
        {
          "output_type": "stream",
          "name": "stdout",
          "text": [
            "[CV] END C=20, fit_intercept=True, max_iter=300, penalty=l2, random_state=21, warm_start=True; total time=   0.4s\n"
          ]
        },
        {
          "output_type": "stream",
          "name": "stderr",
          "text": [
            "/usr/local/lib/python3.10/dist-packages/sklearn/linear_model/_logistic.py:458: ConvergenceWarning: lbfgs failed to converge (status=1):\n",
            "STOP: TOTAL NO. of ITERATIONS REACHED LIMIT.\n",
            "\n",
            "Increase the number of iterations (max_iter) or scale the data as shown in:\n",
            "    https://scikit-learn.org/stable/modules/preprocessing.html\n",
            "Please also refer to the documentation for alternative solver options:\n",
            "    https://scikit-learn.org/stable/modules/linear_model.html#logistic-regression\n",
            "  n_iter_i = _check_optimize_result(\n"
          ]
        },
        {
          "output_type": "stream",
          "name": "stdout",
          "text": [
            "[CV] END C=20, fit_intercept=True, max_iter=300, penalty=l2, random_state=21, warm_start=True; total time=   0.4s\n"
          ]
        },
        {
          "output_type": "stream",
          "name": "stderr",
          "text": [
            "/usr/local/lib/python3.10/dist-packages/sklearn/linear_model/_logistic.py:458: ConvergenceWarning: lbfgs failed to converge (status=1):\n",
            "STOP: TOTAL NO. of ITERATIONS REACHED LIMIT.\n",
            "\n",
            "Increase the number of iterations (max_iter) or scale the data as shown in:\n",
            "    https://scikit-learn.org/stable/modules/preprocessing.html\n",
            "Please also refer to the documentation for alternative solver options:\n",
            "    https://scikit-learn.org/stable/modules/linear_model.html#logistic-regression\n",
            "  n_iter_i = _check_optimize_result(\n"
          ]
        },
        {
          "output_type": "stream",
          "name": "stdout",
          "text": [
            "[CV] END C=20, fit_intercept=True, max_iter=300, penalty=l2, random_state=21, warm_start=False; total time=   0.3s\n"
          ]
        },
        {
          "output_type": "stream",
          "name": "stderr",
          "text": [
            "/usr/local/lib/python3.10/dist-packages/sklearn/linear_model/_logistic.py:458: ConvergenceWarning: lbfgs failed to converge (status=1):\n",
            "STOP: TOTAL NO. of ITERATIONS REACHED LIMIT.\n",
            "\n",
            "Increase the number of iterations (max_iter) or scale the data as shown in:\n",
            "    https://scikit-learn.org/stable/modules/preprocessing.html\n",
            "Please also refer to the documentation for alternative solver options:\n",
            "    https://scikit-learn.org/stable/modules/linear_model.html#logistic-regression\n",
            "  n_iter_i = _check_optimize_result(\n"
          ]
        },
        {
          "output_type": "stream",
          "name": "stdout",
          "text": [
            "[CV] END C=20, fit_intercept=True, max_iter=300, penalty=l2, random_state=21, warm_start=False; total time=   0.4s\n"
          ]
        },
        {
          "output_type": "stream",
          "name": "stderr",
          "text": [
            "/usr/local/lib/python3.10/dist-packages/sklearn/linear_model/_logistic.py:458: ConvergenceWarning: lbfgs failed to converge (status=1):\n",
            "STOP: TOTAL NO. of ITERATIONS REACHED LIMIT.\n",
            "\n",
            "Increase the number of iterations (max_iter) or scale the data as shown in:\n",
            "    https://scikit-learn.org/stable/modules/preprocessing.html\n",
            "Please also refer to the documentation for alternative solver options:\n",
            "    https://scikit-learn.org/stable/modules/linear_model.html#logistic-regression\n",
            "  n_iter_i = _check_optimize_result(\n"
          ]
        },
        {
          "output_type": "stream",
          "name": "stdout",
          "text": [
            "[CV] END C=20, fit_intercept=True, max_iter=300, penalty=l2, random_state=21, warm_start=False; total time=   0.4s\n"
          ]
        },
        {
          "output_type": "stream",
          "name": "stderr",
          "text": [
            "/usr/local/lib/python3.10/dist-packages/sklearn/linear_model/_logistic.py:458: ConvergenceWarning: lbfgs failed to converge (status=1):\n",
            "STOP: TOTAL NO. of ITERATIONS REACHED LIMIT.\n",
            "\n",
            "Increase the number of iterations (max_iter) or scale the data as shown in:\n",
            "    https://scikit-learn.org/stable/modules/preprocessing.html\n",
            "Please also refer to the documentation for alternative solver options:\n",
            "    https://scikit-learn.org/stable/modules/linear_model.html#logistic-regression\n",
            "  n_iter_i = _check_optimize_result(\n"
          ]
        },
        {
          "output_type": "stream",
          "name": "stdout",
          "text": [
            "[CV] END C=20, fit_intercept=True, max_iter=300, penalty=l2, random_state=42, warm_start=True; total time=   0.4s\n"
          ]
        },
        {
          "output_type": "stream",
          "name": "stderr",
          "text": [
            "/usr/local/lib/python3.10/dist-packages/sklearn/linear_model/_logistic.py:458: ConvergenceWarning: lbfgs failed to converge (status=1):\n",
            "STOP: TOTAL NO. of ITERATIONS REACHED LIMIT.\n",
            "\n",
            "Increase the number of iterations (max_iter) or scale the data as shown in:\n",
            "    https://scikit-learn.org/stable/modules/preprocessing.html\n",
            "Please also refer to the documentation for alternative solver options:\n",
            "    https://scikit-learn.org/stable/modules/linear_model.html#logistic-regression\n",
            "  n_iter_i = _check_optimize_result(\n"
          ]
        },
        {
          "output_type": "stream",
          "name": "stdout",
          "text": [
            "[CV] END C=20, fit_intercept=True, max_iter=300, penalty=l2, random_state=42, warm_start=True; total time=   0.4s\n"
          ]
        },
        {
          "output_type": "stream",
          "name": "stderr",
          "text": [
            "/usr/local/lib/python3.10/dist-packages/sklearn/linear_model/_logistic.py:458: ConvergenceWarning: lbfgs failed to converge (status=1):\n",
            "STOP: TOTAL NO. of ITERATIONS REACHED LIMIT.\n",
            "\n",
            "Increase the number of iterations (max_iter) or scale the data as shown in:\n",
            "    https://scikit-learn.org/stable/modules/preprocessing.html\n",
            "Please also refer to the documentation for alternative solver options:\n",
            "    https://scikit-learn.org/stable/modules/linear_model.html#logistic-regression\n",
            "  n_iter_i = _check_optimize_result(\n"
          ]
        },
        {
          "output_type": "stream",
          "name": "stdout",
          "text": [
            "[CV] END C=20, fit_intercept=True, max_iter=300, penalty=l2, random_state=42, warm_start=True; total time=   0.4s\n"
          ]
        },
        {
          "output_type": "stream",
          "name": "stderr",
          "text": [
            "/usr/local/lib/python3.10/dist-packages/sklearn/linear_model/_logistic.py:458: ConvergenceWarning: lbfgs failed to converge (status=1):\n",
            "STOP: TOTAL NO. of ITERATIONS REACHED LIMIT.\n",
            "\n",
            "Increase the number of iterations (max_iter) or scale the data as shown in:\n",
            "    https://scikit-learn.org/stable/modules/preprocessing.html\n",
            "Please also refer to the documentation for alternative solver options:\n",
            "    https://scikit-learn.org/stable/modules/linear_model.html#logistic-regression\n",
            "  n_iter_i = _check_optimize_result(\n"
          ]
        },
        {
          "output_type": "stream",
          "name": "stdout",
          "text": [
            "[CV] END C=20, fit_intercept=True, max_iter=300, penalty=l2, random_state=42, warm_start=False; total time=   0.4s\n"
          ]
        },
        {
          "output_type": "stream",
          "name": "stderr",
          "text": [
            "/usr/local/lib/python3.10/dist-packages/sklearn/linear_model/_logistic.py:458: ConvergenceWarning: lbfgs failed to converge (status=1):\n",
            "STOP: TOTAL NO. of ITERATIONS REACHED LIMIT.\n",
            "\n",
            "Increase the number of iterations (max_iter) or scale the data as shown in:\n",
            "    https://scikit-learn.org/stable/modules/preprocessing.html\n",
            "Please also refer to the documentation for alternative solver options:\n",
            "    https://scikit-learn.org/stable/modules/linear_model.html#logistic-regression\n",
            "  n_iter_i = _check_optimize_result(\n"
          ]
        },
        {
          "output_type": "stream",
          "name": "stdout",
          "text": [
            "[CV] END C=20, fit_intercept=True, max_iter=300, penalty=l2, random_state=42, warm_start=False; total time=   0.4s\n"
          ]
        },
        {
          "output_type": "stream",
          "name": "stderr",
          "text": [
            "/usr/local/lib/python3.10/dist-packages/sklearn/linear_model/_logistic.py:458: ConvergenceWarning: lbfgs failed to converge (status=1):\n",
            "STOP: TOTAL NO. of ITERATIONS REACHED LIMIT.\n",
            "\n",
            "Increase the number of iterations (max_iter) or scale the data as shown in:\n",
            "    https://scikit-learn.org/stable/modules/preprocessing.html\n",
            "Please also refer to the documentation for alternative solver options:\n",
            "    https://scikit-learn.org/stable/modules/linear_model.html#logistic-regression\n",
            "  n_iter_i = _check_optimize_result(\n"
          ]
        },
        {
          "output_type": "stream",
          "name": "stdout",
          "text": [
            "[CV] END C=20, fit_intercept=True, max_iter=300, penalty=l2, random_state=42, warm_start=False; total time=   0.4s\n"
          ]
        },
        {
          "output_type": "stream",
          "name": "stderr",
          "text": [
            "/usr/local/lib/python3.10/dist-packages/sklearn/linear_model/_logistic.py:458: ConvergenceWarning: lbfgs failed to converge (status=1):\n",
            "STOP: TOTAL NO. of ITERATIONS REACHED LIMIT.\n",
            "\n",
            "Increase the number of iterations (max_iter) or scale the data as shown in:\n",
            "    https://scikit-learn.org/stable/modules/preprocessing.html\n",
            "Please also refer to the documentation for alternative solver options:\n",
            "    https://scikit-learn.org/stable/modules/linear_model.html#logistic-regression\n",
            "  n_iter_i = _check_optimize_result(\n"
          ]
        },
        {
          "output_type": "stream",
          "name": "stdout",
          "text": [
            "[CV] END C=20, fit_intercept=True, max_iter=300, penalty=l2, random_state=15, warm_start=True; total time=   0.4s\n"
          ]
        },
        {
          "output_type": "stream",
          "name": "stderr",
          "text": [
            "/usr/local/lib/python3.10/dist-packages/sklearn/linear_model/_logistic.py:458: ConvergenceWarning: lbfgs failed to converge (status=1):\n",
            "STOP: TOTAL NO. of ITERATIONS REACHED LIMIT.\n",
            "\n",
            "Increase the number of iterations (max_iter) or scale the data as shown in:\n",
            "    https://scikit-learn.org/stable/modules/preprocessing.html\n",
            "Please also refer to the documentation for alternative solver options:\n",
            "    https://scikit-learn.org/stable/modules/linear_model.html#logistic-regression\n",
            "  n_iter_i = _check_optimize_result(\n"
          ]
        },
        {
          "output_type": "stream",
          "name": "stdout",
          "text": [
            "[CV] END C=20, fit_intercept=True, max_iter=300, penalty=l2, random_state=15, warm_start=True; total time=   0.4s\n"
          ]
        },
        {
          "output_type": "stream",
          "name": "stderr",
          "text": [
            "/usr/local/lib/python3.10/dist-packages/sklearn/linear_model/_logistic.py:458: ConvergenceWarning: lbfgs failed to converge (status=1):\n",
            "STOP: TOTAL NO. of ITERATIONS REACHED LIMIT.\n",
            "\n",
            "Increase the number of iterations (max_iter) or scale the data as shown in:\n",
            "    https://scikit-learn.org/stable/modules/preprocessing.html\n",
            "Please also refer to the documentation for alternative solver options:\n",
            "    https://scikit-learn.org/stable/modules/linear_model.html#logistic-regression\n",
            "  n_iter_i = _check_optimize_result(\n"
          ]
        },
        {
          "output_type": "stream",
          "name": "stdout",
          "text": [
            "[CV] END C=20, fit_intercept=True, max_iter=300, penalty=l2, random_state=15, warm_start=True; total time=   0.3s\n"
          ]
        },
        {
          "output_type": "stream",
          "name": "stderr",
          "text": [
            "/usr/local/lib/python3.10/dist-packages/sklearn/linear_model/_logistic.py:458: ConvergenceWarning: lbfgs failed to converge (status=1):\n",
            "STOP: TOTAL NO. of ITERATIONS REACHED LIMIT.\n",
            "\n",
            "Increase the number of iterations (max_iter) or scale the data as shown in:\n",
            "    https://scikit-learn.org/stable/modules/preprocessing.html\n",
            "Please also refer to the documentation for alternative solver options:\n",
            "    https://scikit-learn.org/stable/modules/linear_model.html#logistic-regression\n",
            "  n_iter_i = _check_optimize_result(\n"
          ]
        },
        {
          "output_type": "stream",
          "name": "stdout",
          "text": [
            "[CV] END C=20, fit_intercept=True, max_iter=300, penalty=l2, random_state=15, warm_start=False; total time=   0.4s\n"
          ]
        },
        {
          "output_type": "stream",
          "name": "stderr",
          "text": [
            "/usr/local/lib/python3.10/dist-packages/sklearn/linear_model/_logistic.py:458: ConvergenceWarning: lbfgs failed to converge (status=1):\n",
            "STOP: TOTAL NO. of ITERATIONS REACHED LIMIT.\n",
            "\n",
            "Increase the number of iterations (max_iter) or scale the data as shown in:\n",
            "    https://scikit-learn.org/stable/modules/preprocessing.html\n",
            "Please also refer to the documentation for alternative solver options:\n",
            "    https://scikit-learn.org/stable/modules/linear_model.html#logistic-regression\n",
            "  n_iter_i = _check_optimize_result(\n"
          ]
        },
        {
          "output_type": "stream",
          "name": "stdout",
          "text": [
            "[CV] END C=20, fit_intercept=True, max_iter=300, penalty=l2, random_state=15, warm_start=False; total time=   0.4s\n"
          ]
        },
        {
          "output_type": "stream",
          "name": "stderr",
          "text": [
            "/usr/local/lib/python3.10/dist-packages/sklearn/linear_model/_logistic.py:458: ConvergenceWarning: lbfgs failed to converge (status=1):\n",
            "STOP: TOTAL NO. of ITERATIONS REACHED LIMIT.\n",
            "\n",
            "Increase the number of iterations (max_iter) or scale the data as shown in:\n",
            "    https://scikit-learn.org/stable/modules/preprocessing.html\n",
            "Please also refer to the documentation for alternative solver options:\n",
            "    https://scikit-learn.org/stable/modules/linear_model.html#logistic-regression\n",
            "  n_iter_i = _check_optimize_result(\n",
            "/usr/local/lib/python3.10/dist-packages/sklearn/linear_model/_logistic.py:458: ConvergenceWarning: lbfgs failed to converge (status=1):\n",
            "STOP: TOTAL NO. of ITERATIONS REACHED LIMIT.\n",
            "\n",
            "Increase the number of iterations (max_iter) or scale the data as shown in:\n",
            "    https://scikit-learn.org/stable/modules/preprocessing.html\n",
            "Please also refer to the documentation for alternative solver options:\n",
            "    https://scikit-learn.org/stable/modules/linear_model.html#logistic-regression\n",
            "  n_iter_i = _check_optimize_result(\n"
          ]
        },
        {
          "output_type": "stream",
          "name": "stdout",
          "text": [
            "[CV] END C=20, fit_intercept=True, max_iter=300, penalty=l2, random_state=15, warm_start=False; total time=   0.4s\n",
            "[CV] END C=20, fit_intercept=True, max_iter=100, penalty=l1, random_state=21, warm_start=True; total time=   0.0s\n",
            "[CV] END C=20, fit_intercept=True, max_iter=100, penalty=l1, random_state=21, warm_start=True; total time=   0.0s\n",
            "[CV] END C=20, fit_intercept=True, max_iter=100, penalty=l1, random_state=21, warm_start=True; total time=   0.0s\n",
            "[CV] END C=20, fit_intercept=True, max_iter=100, penalty=l1, random_state=21, warm_start=False; total time=   0.0s\n",
            "[CV] END C=20, fit_intercept=True, max_iter=100, penalty=l1, random_state=21, warm_start=False; total time=   0.0s\n",
            "[CV] END C=20, fit_intercept=True, max_iter=100, penalty=l1, random_state=21, warm_start=False; total time=   0.0s\n",
            "[CV] END C=20, fit_intercept=True, max_iter=100, penalty=l1, random_state=42, warm_start=True; total time=   0.0s\n",
            "[CV] END C=20, fit_intercept=True, max_iter=100, penalty=l1, random_state=42, warm_start=True; total time=   0.0s\n",
            "[CV] END C=20, fit_intercept=True, max_iter=100, penalty=l1, random_state=42, warm_start=True; total time=   0.0s\n",
            "[CV] END C=20, fit_intercept=True, max_iter=100, penalty=l1, random_state=42, warm_start=False; total time=   0.0s\n",
            "[CV] END C=20, fit_intercept=True, max_iter=100, penalty=l1, random_state=42, warm_start=False; total time=   0.0s\n",
            "[CV] END C=20, fit_intercept=True, max_iter=100, penalty=l1, random_state=42, warm_start=False; total time=   0.0s\n",
            "[CV] END C=20, fit_intercept=True, max_iter=100, penalty=l1, random_state=15, warm_start=True; total time=   0.0s\n",
            "[CV] END C=20, fit_intercept=True, max_iter=100, penalty=l1, random_state=15, warm_start=True; total time=   0.0s\n",
            "[CV] END C=20, fit_intercept=True, max_iter=100, penalty=l1, random_state=15, warm_start=True; total time=   0.0s\n",
            "[CV] END C=20, fit_intercept=True, max_iter=100, penalty=l1, random_state=15, warm_start=False; total time=   0.0s\n",
            "[CV] END C=20, fit_intercept=True, max_iter=100, penalty=l1, random_state=15, warm_start=False; total time=   0.0s\n",
            "[CV] END C=20, fit_intercept=True, max_iter=100, penalty=l1, random_state=15, warm_start=False; total time=   0.0s\n",
            "[CV] END C=20, fit_intercept=True, max_iter=100, penalty=l2, random_state=21, warm_start=True; total time=   0.1s\n"
          ]
        },
        {
          "output_type": "stream",
          "name": "stderr",
          "text": [
            "/usr/local/lib/python3.10/dist-packages/sklearn/linear_model/_logistic.py:458: ConvergenceWarning: lbfgs failed to converge (status=1):\n",
            "STOP: TOTAL NO. of ITERATIONS REACHED LIMIT.\n",
            "\n",
            "Increase the number of iterations (max_iter) or scale the data as shown in:\n",
            "    https://scikit-learn.org/stable/modules/preprocessing.html\n",
            "Please also refer to the documentation for alternative solver options:\n",
            "    https://scikit-learn.org/stable/modules/linear_model.html#logistic-regression\n",
            "  n_iter_i = _check_optimize_result(\n",
            "/usr/local/lib/python3.10/dist-packages/sklearn/linear_model/_logistic.py:458: ConvergenceWarning: lbfgs failed to converge (status=1):\n",
            "STOP: TOTAL NO. of ITERATIONS REACHED LIMIT.\n",
            "\n",
            "Increase the number of iterations (max_iter) or scale the data as shown in:\n",
            "    https://scikit-learn.org/stable/modules/preprocessing.html\n",
            "Please also refer to the documentation for alternative solver options:\n",
            "    https://scikit-learn.org/stable/modules/linear_model.html#logistic-regression\n",
            "  n_iter_i = _check_optimize_result(\n"
          ]
        },
        {
          "output_type": "stream",
          "name": "stdout",
          "text": [
            "[CV] END C=20, fit_intercept=True, max_iter=100, penalty=l2, random_state=21, warm_start=True; total time=   0.1s\n",
            "[CV] END C=20, fit_intercept=True, max_iter=100, penalty=l2, random_state=21, warm_start=True; total time=   0.1s\n"
          ]
        },
        {
          "output_type": "stream",
          "name": "stderr",
          "text": [
            "/usr/local/lib/python3.10/dist-packages/sklearn/linear_model/_logistic.py:458: ConvergenceWarning: lbfgs failed to converge (status=1):\n",
            "STOP: TOTAL NO. of ITERATIONS REACHED LIMIT.\n",
            "\n",
            "Increase the number of iterations (max_iter) or scale the data as shown in:\n",
            "    https://scikit-learn.org/stable/modules/preprocessing.html\n",
            "Please also refer to the documentation for alternative solver options:\n",
            "    https://scikit-learn.org/stable/modules/linear_model.html#logistic-regression\n",
            "  n_iter_i = _check_optimize_result(\n",
            "/usr/local/lib/python3.10/dist-packages/sklearn/linear_model/_logistic.py:458: ConvergenceWarning: lbfgs failed to converge (status=1):\n",
            "STOP: TOTAL NO. of ITERATIONS REACHED LIMIT.\n",
            "\n",
            "Increase the number of iterations (max_iter) or scale the data as shown in:\n",
            "    https://scikit-learn.org/stable/modules/preprocessing.html\n",
            "Please also refer to the documentation for alternative solver options:\n",
            "    https://scikit-learn.org/stable/modules/linear_model.html#logistic-regression\n",
            "  n_iter_i = _check_optimize_result(\n"
          ]
        },
        {
          "output_type": "stream",
          "name": "stdout",
          "text": [
            "[CV] END C=20, fit_intercept=True, max_iter=100, penalty=l2, random_state=21, warm_start=False; total time=   0.1s\n",
            "[CV] END C=20, fit_intercept=True, max_iter=100, penalty=l2, random_state=21, warm_start=False; total time=   0.1s\n"
          ]
        },
        {
          "output_type": "stream",
          "name": "stderr",
          "text": [
            "/usr/local/lib/python3.10/dist-packages/sklearn/linear_model/_logistic.py:458: ConvergenceWarning: lbfgs failed to converge (status=1):\n",
            "STOP: TOTAL NO. of ITERATIONS REACHED LIMIT.\n",
            "\n",
            "Increase the number of iterations (max_iter) or scale the data as shown in:\n",
            "    https://scikit-learn.org/stable/modules/preprocessing.html\n",
            "Please also refer to the documentation for alternative solver options:\n",
            "    https://scikit-learn.org/stable/modules/linear_model.html#logistic-regression\n",
            "  n_iter_i = _check_optimize_result(\n",
            "/usr/local/lib/python3.10/dist-packages/sklearn/linear_model/_logistic.py:458: ConvergenceWarning: lbfgs failed to converge (status=1):\n",
            "STOP: TOTAL NO. of ITERATIONS REACHED LIMIT.\n",
            "\n",
            "Increase the number of iterations (max_iter) or scale the data as shown in:\n",
            "    https://scikit-learn.org/stable/modules/preprocessing.html\n",
            "Please also refer to the documentation for alternative solver options:\n",
            "    https://scikit-learn.org/stable/modules/linear_model.html#logistic-regression\n",
            "  n_iter_i = _check_optimize_result(\n"
          ]
        },
        {
          "output_type": "stream",
          "name": "stdout",
          "text": [
            "[CV] END C=20, fit_intercept=True, max_iter=100, penalty=l2, random_state=21, warm_start=False; total time=   0.1s\n",
            "[CV] END C=20, fit_intercept=True, max_iter=100, penalty=l2, random_state=42, warm_start=True; total time=   0.1s\n"
          ]
        },
        {
          "output_type": "stream",
          "name": "stderr",
          "text": [
            "/usr/local/lib/python3.10/dist-packages/sklearn/linear_model/_logistic.py:458: ConvergenceWarning: lbfgs failed to converge (status=1):\n",
            "STOP: TOTAL NO. of ITERATIONS REACHED LIMIT.\n",
            "\n",
            "Increase the number of iterations (max_iter) or scale the data as shown in:\n",
            "    https://scikit-learn.org/stable/modules/preprocessing.html\n",
            "Please also refer to the documentation for alternative solver options:\n",
            "    https://scikit-learn.org/stable/modules/linear_model.html#logistic-regression\n",
            "  n_iter_i = _check_optimize_result(\n",
            "/usr/local/lib/python3.10/dist-packages/sklearn/linear_model/_logistic.py:458: ConvergenceWarning: lbfgs failed to converge (status=1):\n",
            "STOP: TOTAL NO. of ITERATIONS REACHED LIMIT.\n",
            "\n",
            "Increase the number of iterations (max_iter) or scale the data as shown in:\n",
            "    https://scikit-learn.org/stable/modules/preprocessing.html\n",
            "Please also refer to the documentation for alternative solver options:\n",
            "    https://scikit-learn.org/stable/modules/linear_model.html#logistic-regression\n",
            "  n_iter_i = _check_optimize_result(\n"
          ]
        },
        {
          "output_type": "stream",
          "name": "stdout",
          "text": [
            "[CV] END C=20, fit_intercept=True, max_iter=100, penalty=l2, random_state=42, warm_start=True; total time=   0.1s\n",
            "[CV] END C=20, fit_intercept=True, max_iter=100, penalty=l2, random_state=42, warm_start=True; total time=   0.1s\n"
          ]
        },
        {
          "output_type": "stream",
          "name": "stderr",
          "text": [
            "/usr/local/lib/python3.10/dist-packages/sklearn/linear_model/_logistic.py:458: ConvergenceWarning: lbfgs failed to converge (status=1):\n",
            "STOP: TOTAL NO. of ITERATIONS REACHED LIMIT.\n",
            "\n",
            "Increase the number of iterations (max_iter) or scale the data as shown in:\n",
            "    https://scikit-learn.org/stable/modules/preprocessing.html\n",
            "Please also refer to the documentation for alternative solver options:\n",
            "    https://scikit-learn.org/stable/modules/linear_model.html#logistic-regression\n",
            "  n_iter_i = _check_optimize_result(\n",
            "/usr/local/lib/python3.10/dist-packages/sklearn/linear_model/_logistic.py:458: ConvergenceWarning: lbfgs failed to converge (status=1):\n",
            "STOP: TOTAL NO. of ITERATIONS REACHED LIMIT.\n",
            "\n",
            "Increase the number of iterations (max_iter) or scale the data as shown in:\n",
            "    https://scikit-learn.org/stable/modules/preprocessing.html\n",
            "Please also refer to the documentation for alternative solver options:\n",
            "    https://scikit-learn.org/stable/modules/linear_model.html#logistic-regression\n",
            "  n_iter_i = _check_optimize_result(\n"
          ]
        },
        {
          "output_type": "stream",
          "name": "stdout",
          "text": [
            "[CV] END C=20, fit_intercept=True, max_iter=100, penalty=l2, random_state=42, warm_start=False; total time=   0.1s\n",
            "[CV] END C=20, fit_intercept=True, max_iter=100, penalty=l2, random_state=42, warm_start=False; total time=   0.1s\n"
          ]
        },
        {
          "output_type": "stream",
          "name": "stderr",
          "text": [
            "/usr/local/lib/python3.10/dist-packages/sklearn/linear_model/_logistic.py:458: ConvergenceWarning: lbfgs failed to converge (status=1):\n",
            "STOP: TOTAL NO. of ITERATIONS REACHED LIMIT.\n",
            "\n",
            "Increase the number of iterations (max_iter) or scale the data as shown in:\n",
            "    https://scikit-learn.org/stable/modules/preprocessing.html\n",
            "Please also refer to the documentation for alternative solver options:\n",
            "    https://scikit-learn.org/stable/modules/linear_model.html#logistic-regression\n",
            "  n_iter_i = _check_optimize_result(\n",
            "/usr/local/lib/python3.10/dist-packages/sklearn/linear_model/_logistic.py:458: ConvergenceWarning: lbfgs failed to converge (status=1):\n",
            "STOP: TOTAL NO. of ITERATIONS REACHED LIMIT.\n",
            "\n",
            "Increase the number of iterations (max_iter) or scale the data as shown in:\n",
            "    https://scikit-learn.org/stable/modules/preprocessing.html\n",
            "Please also refer to the documentation for alternative solver options:\n",
            "    https://scikit-learn.org/stable/modules/linear_model.html#logistic-regression\n",
            "  n_iter_i = _check_optimize_result(\n"
          ]
        },
        {
          "output_type": "stream",
          "name": "stdout",
          "text": [
            "[CV] END C=20, fit_intercept=True, max_iter=100, penalty=l2, random_state=42, warm_start=False; total time=   0.1s\n",
            "[CV] END C=20, fit_intercept=True, max_iter=100, penalty=l2, random_state=15, warm_start=True; total time=   0.1s\n"
          ]
        },
        {
          "output_type": "stream",
          "name": "stderr",
          "text": [
            "/usr/local/lib/python3.10/dist-packages/sklearn/linear_model/_logistic.py:458: ConvergenceWarning: lbfgs failed to converge (status=1):\n",
            "STOP: TOTAL NO. of ITERATIONS REACHED LIMIT.\n",
            "\n",
            "Increase the number of iterations (max_iter) or scale the data as shown in:\n",
            "    https://scikit-learn.org/stable/modules/preprocessing.html\n",
            "Please also refer to the documentation for alternative solver options:\n",
            "    https://scikit-learn.org/stable/modules/linear_model.html#logistic-regression\n",
            "  n_iter_i = _check_optimize_result(\n",
            "/usr/local/lib/python3.10/dist-packages/sklearn/linear_model/_logistic.py:458: ConvergenceWarning: lbfgs failed to converge (status=1):\n",
            "STOP: TOTAL NO. of ITERATIONS REACHED LIMIT.\n",
            "\n",
            "Increase the number of iterations (max_iter) or scale the data as shown in:\n",
            "    https://scikit-learn.org/stable/modules/preprocessing.html\n",
            "Please also refer to the documentation for alternative solver options:\n",
            "    https://scikit-learn.org/stable/modules/linear_model.html#logistic-regression\n",
            "  n_iter_i = _check_optimize_result(\n"
          ]
        },
        {
          "output_type": "stream",
          "name": "stdout",
          "text": [
            "[CV] END C=20, fit_intercept=True, max_iter=100, penalty=l2, random_state=15, warm_start=True; total time=   0.1s\n",
            "[CV] END C=20, fit_intercept=True, max_iter=100, penalty=l2, random_state=15, warm_start=True; total time=   0.1s\n"
          ]
        },
        {
          "output_type": "stream",
          "name": "stderr",
          "text": [
            "/usr/local/lib/python3.10/dist-packages/sklearn/linear_model/_logistic.py:458: ConvergenceWarning: lbfgs failed to converge (status=1):\n",
            "STOP: TOTAL NO. of ITERATIONS REACHED LIMIT.\n",
            "\n",
            "Increase the number of iterations (max_iter) or scale the data as shown in:\n",
            "    https://scikit-learn.org/stable/modules/preprocessing.html\n",
            "Please also refer to the documentation for alternative solver options:\n",
            "    https://scikit-learn.org/stable/modules/linear_model.html#logistic-regression\n",
            "  n_iter_i = _check_optimize_result(\n",
            "/usr/local/lib/python3.10/dist-packages/sklearn/linear_model/_logistic.py:458: ConvergenceWarning: lbfgs failed to converge (status=1):\n",
            "STOP: TOTAL NO. of ITERATIONS REACHED LIMIT.\n",
            "\n",
            "Increase the number of iterations (max_iter) or scale the data as shown in:\n",
            "    https://scikit-learn.org/stable/modules/preprocessing.html\n",
            "Please also refer to the documentation for alternative solver options:\n",
            "    https://scikit-learn.org/stable/modules/linear_model.html#logistic-regression\n",
            "  n_iter_i = _check_optimize_result(\n"
          ]
        },
        {
          "output_type": "stream",
          "name": "stdout",
          "text": [
            "[CV] END C=20, fit_intercept=True, max_iter=100, penalty=l2, random_state=15, warm_start=False; total time=   0.1s\n",
            "[CV] END C=20, fit_intercept=True, max_iter=100, penalty=l2, random_state=15, warm_start=False; total time=   0.1s\n"
          ]
        },
        {
          "output_type": "stream",
          "name": "stderr",
          "text": [
            "/usr/local/lib/python3.10/dist-packages/sklearn/linear_model/_logistic.py:458: ConvergenceWarning: lbfgs failed to converge (status=1):\n",
            "STOP: TOTAL NO. of ITERATIONS REACHED LIMIT.\n",
            "\n",
            "Increase the number of iterations (max_iter) or scale the data as shown in:\n",
            "    https://scikit-learn.org/stable/modules/preprocessing.html\n",
            "Please also refer to the documentation for alternative solver options:\n",
            "    https://scikit-learn.org/stable/modules/linear_model.html#logistic-regression\n",
            "  n_iter_i = _check_optimize_result(\n"
          ]
        },
        {
          "output_type": "stream",
          "name": "stdout",
          "text": [
            "[CV] END C=20, fit_intercept=True, max_iter=100, penalty=l2, random_state=15, warm_start=False; total time=   0.2s\n",
            "[CV] END C=20, fit_intercept=False, max_iter=1000, penalty=l1, random_state=21, warm_start=True; total time=   0.0s\n",
            "[CV] END C=20, fit_intercept=False, max_iter=1000, penalty=l1, random_state=21, warm_start=True; total time=   0.0s\n",
            "[CV] END C=20, fit_intercept=False, max_iter=1000, penalty=l1, random_state=21, warm_start=True; total time=   0.0s\n",
            "[CV] END C=20, fit_intercept=False, max_iter=1000, penalty=l1, random_state=21, warm_start=False; total time=   0.0s\n",
            "[CV] END C=20, fit_intercept=False, max_iter=1000, penalty=l1, random_state=21, warm_start=False; total time=   0.0s\n",
            "[CV] END C=20, fit_intercept=False, max_iter=1000, penalty=l1, random_state=21, warm_start=False; total time=   0.0s\n",
            "[CV] END C=20, fit_intercept=False, max_iter=1000, penalty=l1, random_state=42, warm_start=True; total time=   0.0s\n",
            "[CV] END C=20, fit_intercept=False, max_iter=1000, penalty=l1, random_state=42, warm_start=True; total time=   0.0s\n",
            "[CV] END C=20, fit_intercept=False, max_iter=1000, penalty=l1, random_state=42, warm_start=True; total time=   0.0s\n",
            "[CV] END C=20, fit_intercept=False, max_iter=1000, penalty=l1, random_state=42, warm_start=False; total time=   0.0s\n",
            "[CV] END C=20, fit_intercept=False, max_iter=1000, penalty=l1, random_state=42, warm_start=False; total time=   0.0s\n",
            "[CV] END C=20, fit_intercept=False, max_iter=1000, penalty=l1, random_state=42, warm_start=False; total time=   0.0s\n",
            "[CV] END C=20, fit_intercept=False, max_iter=1000, penalty=l1, random_state=15, warm_start=True; total time=   0.0s\n",
            "[CV] END C=20, fit_intercept=False, max_iter=1000, penalty=l1, random_state=15, warm_start=True; total time=   0.0s\n",
            "[CV] END C=20, fit_intercept=False, max_iter=1000, penalty=l1, random_state=15, warm_start=True; total time=   0.0s\n",
            "[CV] END C=20, fit_intercept=False, max_iter=1000, penalty=l1, random_state=15, warm_start=False; total time=   0.0s\n",
            "[CV] END C=20, fit_intercept=False, max_iter=1000, penalty=l1, random_state=15, warm_start=False; total time=   0.0s\n",
            "[CV] END C=20, fit_intercept=False, max_iter=1000, penalty=l1, random_state=15, warm_start=False; total time=   0.0s\n",
            "[CV] END C=20, fit_intercept=False, max_iter=1000, penalty=l2, random_state=21, warm_start=True; total time=   0.8s\n",
            "[CV] END C=20, fit_intercept=False, max_iter=1000, penalty=l2, random_state=21, warm_start=True; total time=   0.7s\n",
            "[CV] END C=20, fit_intercept=False, max_iter=1000, penalty=l2, random_state=21, warm_start=True; total time=   0.7s\n",
            "[CV] END C=20, fit_intercept=False, max_iter=1000, penalty=l2, random_state=21, warm_start=False; total time=   0.7s\n",
            "[CV] END C=20, fit_intercept=False, max_iter=1000, penalty=l2, random_state=21, warm_start=False; total time=   0.7s\n",
            "[CV] END C=20, fit_intercept=False, max_iter=1000, penalty=l2, random_state=21, warm_start=False; total time=   0.8s\n",
            "[CV] END C=20, fit_intercept=False, max_iter=1000, penalty=l2, random_state=42, warm_start=True; total time=   0.9s\n",
            "[CV] END C=20, fit_intercept=False, max_iter=1000, penalty=l2, random_state=42, warm_start=True; total time=   0.3s\n",
            "[CV] END C=20, fit_intercept=False, max_iter=1000, penalty=l2, random_state=42, warm_start=True; total time=   0.4s\n",
            "[CV] END C=20, fit_intercept=False, max_iter=1000, penalty=l2, random_state=42, warm_start=False; total time=   0.3s\n",
            "[CV] END C=20, fit_intercept=False, max_iter=1000, penalty=l2, random_state=42, warm_start=False; total time=   0.3s\n",
            "[CV] END C=20, fit_intercept=False, max_iter=1000, penalty=l2, random_state=42, warm_start=False; total time=   0.4s\n",
            "[CV] END C=20, fit_intercept=False, max_iter=1000, penalty=l2, random_state=15, warm_start=True; total time=   0.3s\n",
            "[CV] END C=20, fit_intercept=False, max_iter=1000, penalty=l2, random_state=15, warm_start=True; total time=   0.3s\n",
            "[CV] END C=20, fit_intercept=False, max_iter=1000, penalty=l2, random_state=15, warm_start=True; total time=   0.4s\n",
            "[CV] END C=20, fit_intercept=False, max_iter=1000, penalty=l2, random_state=15, warm_start=False; total time=   0.3s\n",
            "[CV] END C=20, fit_intercept=False, max_iter=1000, penalty=l2, random_state=15, warm_start=False; total time=   0.3s\n",
            "[CV] END C=20, fit_intercept=False, max_iter=1000, penalty=l2, random_state=15, warm_start=False; total time=   0.4s\n",
            "[CV] END C=20, fit_intercept=False, max_iter=500, penalty=l1, random_state=21, warm_start=True; total time=   0.0s\n",
            "[CV] END C=20, fit_intercept=False, max_iter=500, penalty=l1, random_state=21, warm_start=True; total time=   0.0s\n",
            "[CV] END C=20, fit_intercept=False, max_iter=500, penalty=l1, random_state=21, warm_start=True; total time=   0.0s\n",
            "[CV] END C=20, fit_intercept=False, max_iter=500, penalty=l1, random_state=21, warm_start=False; total time=   0.0s\n",
            "[CV] END C=20, fit_intercept=False, max_iter=500, penalty=l1, random_state=21, warm_start=False; total time=   0.0s\n",
            "[CV] END C=20, fit_intercept=False, max_iter=500, penalty=l1, random_state=21, warm_start=False; total time=   0.0s\n",
            "[CV] END C=20, fit_intercept=False, max_iter=500, penalty=l1, random_state=42, warm_start=True; total time=   0.0s\n",
            "[CV] END C=20, fit_intercept=False, max_iter=500, penalty=l1, random_state=42, warm_start=True; total time=   0.0s\n",
            "[CV] END C=20, fit_intercept=False, max_iter=500, penalty=l1, random_state=42, warm_start=True; total time=   0.0s\n",
            "[CV] END C=20, fit_intercept=False, max_iter=500, penalty=l1, random_state=42, warm_start=False; total time=   0.0s\n",
            "[CV] END C=20, fit_intercept=False, max_iter=500, penalty=l1, random_state=42, warm_start=False; total time=   0.0s\n",
            "[CV] END C=20, fit_intercept=False, max_iter=500, penalty=l1, random_state=42, warm_start=False; total time=   0.0s\n",
            "[CV] END C=20, fit_intercept=False, max_iter=500, penalty=l1, random_state=15, warm_start=True; total time=   0.0s\n",
            "[CV] END C=20, fit_intercept=False, max_iter=500, penalty=l1, random_state=15, warm_start=True; total time=   0.0s\n",
            "[CV] END C=20, fit_intercept=False, max_iter=500, penalty=l1, random_state=15, warm_start=True; total time=   0.0s\n",
            "[CV] END C=20, fit_intercept=False, max_iter=500, penalty=l1, random_state=15, warm_start=False; total time=   0.0s\n",
            "[CV] END C=20, fit_intercept=False, max_iter=500, penalty=l1, random_state=15, warm_start=False; total time=   0.0s\n",
            "[CV] END C=20, fit_intercept=False, max_iter=500, penalty=l1, random_state=15, warm_start=False; total time=   0.0s\n",
            "[CV] END C=20, fit_intercept=False, max_iter=500, penalty=l2, random_state=21, warm_start=True; total time=   0.3s\n",
            "[CV] END C=20, fit_intercept=False, max_iter=500, penalty=l2, random_state=21, warm_start=True; total time=   0.3s\n",
            "[CV] END C=20, fit_intercept=False, max_iter=500, penalty=l2, random_state=21, warm_start=True; total time=   0.4s\n",
            "[CV] END C=20, fit_intercept=False, max_iter=500, penalty=l2, random_state=21, warm_start=False; total time=   0.3s\n",
            "[CV] END C=20, fit_intercept=False, max_iter=500, penalty=l2, random_state=21, warm_start=False; total time=   0.3s\n",
            "[CV] END C=20, fit_intercept=False, max_iter=500, penalty=l2, random_state=21, warm_start=False; total time=   0.4s\n",
            "[CV] END C=20, fit_intercept=False, max_iter=500, penalty=l2, random_state=42, warm_start=True; total time=   0.3s\n",
            "[CV] END C=20, fit_intercept=False, max_iter=500, penalty=l2, random_state=42, warm_start=True; total time=   0.3s\n",
            "[CV] END C=20, fit_intercept=False, max_iter=500, penalty=l2, random_state=42, warm_start=True; total time=   0.4s\n",
            "[CV] END C=20, fit_intercept=False, max_iter=500, penalty=l2, random_state=42, warm_start=False; total time=   0.3s\n",
            "[CV] END C=20, fit_intercept=False, max_iter=500, penalty=l2, random_state=42, warm_start=False; total time=   0.3s\n",
            "[CV] END C=20, fit_intercept=False, max_iter=500, penalty=l2, random_state=42, warm_start=False; total time=   0.4s\n",
            "[CV] END C=20, fit_intercept=False, max_iter=500, penalty=l2, random_state=15, warm_start=True; total time=   0.3s\n",
            "[CV] END C=20, fit_intercept=False, max_iter=500, penalty=l2, random_state=15, warm_start=True; total time=   0.3s\n",
            "[CV] END C=20, fit_intercept=False, max_iter=500, penalty=l2, random_state=15, warm_start=True; total time=   0.4s\n",
            "[CV] END C=20, fit_intercept=False, max_iter=500, penalty=l2, random_state=15, warm_start=False; total time=   0.3s\n",
            "[CV] END C=20, fit_intercept=False, max_iter=500, penalty=l2, random_state=15, warm_start=False; total time=   0.3s\n",
            "[CV] END C=20, fit_intercept=False, max_iter=500, penalty=l2, random_state=15, warm_start=False; total time=   0.4s\n",
            "[CV] END C=20, fit_intercept=False, max_iter=300, penalty=l1, random_state=21, warm_start=True; total time=   0.0s\n",
            "[CV] END C=20, fit_intercept=False, max_iter=300, penalty=l1, random_state=21, warm_start=True; total time=   0.0s\n",
            "[CV] END C=20, fit_intercept=False, max_iter=300, penalty=l1, random_state=21, warm_start=True; total time=   0.0s\n",
            "[CV] END C=20, fit_intercept=False, max_iter=300, penalty=l1, random_state=21, warm_start=False; total time=   0.0s\n",
            "[CV] END C=20, fit_intercept=False, max_iter=300, penalty=l1, random_state=21, warm_start=False; total time=   0.0s\n",
            "[CV] END C=20, fit_intercept=False, max_iter=300, penalty=l1, random_state=21, warm_start=False; total time=   0.0s\n",
            "[CV] END C=20, fit_intercept=False, max_iter=300, penalty=l1, random_state=42, warm_start=True; total time=   0.0s\n",
            "[CV] END C=20, fit_intercept=False, max_iter=300, penalty=l1, random_state=42, warm_start=True; total time=   0.0s\n",
            "[CV] END C=20, fit_intercept=False, max_iter=300, penalty=l1, random_state=42, warm_start=True; total time=   0.0s\n",
            "[CV] END C=20, fit_intercept=False, max_iter=300, penalty=l1, random_state=42, warm_start=False; total time=   0.0s\n",
            "[CV] END C=20, fit_intercept=False, max_iter=300, penalty=l1, random_state=42, warm_start=False; total time=   0.0s\n",
            "[CV] END C=20, fit_intercept=False, max_iter=300, penalty=l1, random_state=42, warm_start=False; total time=   0.0s\n",
            "[CV] END C=20, fit_intercept=False, max_iter=300, penalty=l1, random_state=15, warm_start=True; total time=   0.0s\n",
            "[CV] END C=20, fit_intercept=False, max_iter=300, penalty=l1, random_state=15, warm_start=True; total time=   0.0s\n",
            "[CV] END C=20, fit_intercept=False, max_iter=300, penalty=l1, random_state=15, warm_start=True; total time=   0.0s\n",
            "[CV] END C=20, fit_intercept=False, max_iter=300, penalty=l1, random_state=15, warm_start=False; total time=   0.0s\n",
            "[CV] END C=20, fit_intercept=False, max_iter=300, penalty=l1, random_state=15, warm_start=False; total time=   0.0s\n",
            "[CV] END C=20, fit_intercept=False, max_iter=300, penalty=l1, random_state=15, warm_start=False; total time=   0.0s\n"
          ]
        },
        {
          "output_type": "stream",
          "name": "stderr",
          "text": [
            "/usr/local/lib/python3.10/dist-packages/sklearn/linear_model/_logistic.py:458: ConvergenceWarning: lbfgs failed to converge (status=1):\n",
            "STOP: TOTAL NO. of ITERATIONS REACHED LIMIT.\n",
            "\n",
            "Increase the number of iterations (max_iter) or scale the data as shown in:\n",
            "    https://scikit-learn.org/stable/modules/preprocessing.html\n",
            "Please also refer to the documentation for alternative solver options:\n",
            "    https://scikit-learn.org/stable/modules/linear_model.html#logistic-regression\n",
            "  n_iter_i = _check_optimize_result(\n"
          ]
        },
        {
          "output_type": "stream",
          "name": "stdout",
          "text": [
            "[CV] END C=20, fit_intercept=False, max_iter=300, penalty=l2, random_state=21, warm_start=True; total time=   0.7s\n"
          ]
        },
        {
          "output_type": "stream",
          "name": "stderr",
          "text": [
            "/usr/local/lib/python3.10/dist-packages/sklearn/linear_model/_logistic.py:458: ConvergenceWarning: lbfgs failed to converge (status=1):\n",
            "STOP: TOTAL NO. of ITERATIONS REACHED LIMIT.\n",
            "\n",
            "Increase the number of iterations (max_iter) or scale the data as shown in:\n",
            "    https://scikit-learn.org/stable/modules/preprocessing.html\n",
            "Please also refer to the documentation for alternative solver options:\n",
            "    https://scikit-learn.org/stable/modules/linear_model.html#logistic-regression\n",
            "  n_iter_i = _check_optimize_result(\n"
          ]
        },
        {
          "output_type": "stream",
          "name": "stdout",
          "text": [
            "[CV] END C=20, fit_intercept=False, max_iter=300, penalty=l2, random_state=21, warm_start=True; total time=   0.7s\n"
          ]
        },
        {
          "output_type": "stream",
          "name": "stderr",
          "text": [
            "/usr/local/lib/python3.10/dist-packages/sklearn/linear_model/_logistic.py:458: ConvergenceWarning: lbfgs failed to converge (status=1):\n",
            "STOP: TOTAL NO. of ITERATIONS REACHED LIMIT.\n",
            "\n",
            "Increase the number of iterations (max_iter) or scale the data as shown in:\n",
            "    https://scikit-learn.org/stable/modules/preprocessing.html\n",
            "Please also refer to the documentation for alternative solver options:\n",
            "    https://scikit-learn.org/stable/modules/linear_model.html#logistic-regression\n",
            "  n_iter_i = _check_optimize_result(\n"
          ]
        },
        {
          "output_type": "stream",
          "name": "stdout",
          "text": [
            "[CV] END C=20, fit_intercept=False, max_iter=300, penalty=l2, random_state=21, warm_start=True; total time=   0.7s\n"
          ]
        },
        {
          "output_type": "stream",
          "name": "stderr",
          "text": [
            "/usr/local/lib/python3.10/dist-packages/sklearn/linear_model/_logistic.py:458: ConvergenceWarning: lbfgs failed to converge (status=1):\n",
            "STOP: TOTAL NO. of ITERATIONS REACHED LIMIT.\n",
            "\n",
            "Increase the number of iterations (max_iter) or scale the data as shown in:\n",
            "    https://scikit-learn.org/stable/modules/preprocessing.html\n",
            "Please also refer to the documentation for alternative solver options:\n",
            "    https://scikit-learn.org/stable/modules/linear_model.html#logistic-regression\n",
            "  n_iter_i = _check_optimize_result(\n"
          ]
        },
        {
          "output_type": "stream",
          "name": "stdout",
          "text": [
            "[CV] END C=20, fit_intercept=False, max_iter=300, penalty=l2, random_state=21, warm_start=False; total time=   0.7s\n"
          ]
        },
        {
          "output_type": "stream",
          "name": "stderr",
          "text": [
            "/usr/local/lib/python3.10/dist-packages/sklearn/linear_model/_logistic.py:458: ConvergenceWarning: lbfgs failed to converge (status=1):\n",
            "STOP: TOTAL NO. of ITERATIONS REACHED LIMIT.\n",
            "\n",
            "Increase the number of iterations (max_iter) or scale the data as shown in:\n",
            "    https://scikit-learn.org/stable/modules/preprocessing.html\n",
            "Please also refer to the documentation for alternative solver options:\n",
            "    https://scikit-learn.org/stable/modules/linear_model.html#logistic-regression\n",
            "  n_iter_i = _check_optimize_result(\n"
          ]
        },
        {
          "output_type": "stream",
          "name": "stdout",
          "text": [
            "[CV] END C=20, fit_intercept=False, max_iter=300, penalty=l2, random_state=21, warm_start=False; total time=   0.7s\n"
          ]
        },
        {
          "output_type": "stream",
          "name": "stderr",
          "text": [
            "/usr/local/lib/python3.10/dist-packages/sklearn/linear_model/_logistic.py:458: ConvergenceWarning: lbfgs failed to converge (status=1):\n",
            "STOP: TOTAL NO. of ITERATIONS REACHED LIMIT.\n",
            "\n",
            "Increase the number of iterations (max_iter) or scale the data as shown in:\n",
            "    https://scikit-learn.org/stable/modules/preprocessing.html\n",
            "Please also refer to the documentation for alternative solver options:\n",
            "    https://scikit-learn.org/stable/modules/linear_model.html#logistic-regression\n",
            "  n_iter_i = _check_optimize_result(\n"
          ]
        },
        {
          "output_type": "stream",
          "name": "stdout",
          "text": [
            "[CV] END C=20, fit_intercept=False, max_iter=300, penalty=l2, random_state=21, warm_start=False; total time=   0.7s\n"
          ]
        },
        {
          "output_type": "stream",
          "name": "stderr",
          "text": [
            "/usr/local/lib/python3.10/dist-packages/sklearn/linear_model/_logistic.py:458: ConvergenceWarning: lbfgs failed to converge (status=1):\n",
            "STOP: TOTAL NO. of ITERATIONS REACHED LIMIT.\n",
            "\n",
            "Increase the number of iterations (max_iter) or scale the data as shown in:\n",
            "    https://scikit-learn.org/stable/modules/preprocessing.html\n",
            "Please also refer to the documentation for alternative solver options:\n",
            "    https://scikit-learn.org/stable/modules/linear_model.html#logistic-regression\n",
            "  n_iter_i = _check_optimize_result(\n"
          ]
        },
        {
          "output_type": "stream",
          "name": "stdout",
          "text": [
            "[CV] END C=20, fit_intercept=False, max_iter=300, penalty=l2, random_state=42, warm_start=True; total time=   0.7s\n"
          ]
        },
        {
          "output_type": "stream",
          "name": "stderr",
          "text": [
            "/usr/local/lib/python3.10/dist-packages/sklearn/linear_model/_logistic.py:458: ConvergenceWarning: lbfgs failed to converge (status=1):\n",
            "STOP: TOTAL NO. of ITERATIONS REACHED LIMIT.\n",
            "\n",
            "Increase the number of iterations (max_iter) or scale the data as shown in:\n",
            "    https://scikit-learn.org/stable/modules/preprocessing.html\n",
            "Please also refer to the documentation for alternative solver options:\n",
            "    https://scikit-learn.org/stable/modules/linear_model.html#logistic-regression\n",
            "  n_iter_i = _check_optimize_result(\n"
          ]
        },
        {
          "output_type": "stream",
          "name": "stdout",
          "text": [
            "[CV] END C=20, fit_intercept=False, max_iter=300, penalty=l2, random_state=42, warm_start=True; total time=   0.8s\n"
          ]
        },
        {
          "output_type": "stream",
          "name": "stderr",
          "text": [
            "/usr/local/lib/python3.10/dist-packages/sklearn/linear_model/_logistic.py:458: ConvergenceWarning: lbfgs failed to converge (status=1):\n",
            "STOP: TOTAL NO. of ITERATIONS REACHED LIMIT.\n",
            "\n",
            "Increase the number of iterations (max_iter) or scale the data as shown in:\n",
            "    https://scikit-learn.org/stable/modules/preprocessing.html\n",
            "Please also refer to the documentation for alternative solver options:\n",
            "    https://scikit-learn.org/stable/modules/linear_model.html#logistic-regression\n",
            "  n_iter_i = _check_optimize_result(\n"
          ]
        },
        {
          "output_type": "stream",
          "name": "stdout",
          "text": [
            "[CV] END C=20, fit_intercept=False, max_iter=300, penalty=l2, random_state=42, warm_start=True; total time=   0.4s\n"
          ]
        },
        {
          "output_type": "stream",
          "name": "stderr",
          "text": [
            "/usr/local/lib/python3.10/dist-packages/sklearn/linear_model/_logistic.py:458: ConvergenceWarning: lbfgs failed to converge (status=1):\n",
            "STOP: TOTAL NO. of ITERATIONS REACHED LIMIT.\n",
            "\n",
            "Increase the number of iterations (max_iter) or scale the data as shown in:\n",
            "    https://scikit-learn.org/stable/modules/preprocessing.html\n",
            "Please also refer to the documentation for alternative solver options:\n",
            "    https://scikit-learn.org/stable/modules/linear_model.html#logistic-regression\n",
            "  n_iter_i = _check_optimize_result(\n"
          ]
        },
        {
          "output_type": "stream",
          "name": "stdout",
          "text": [
            "[CV] END C=20, fit_intercept=False, max_iter=300, penalty=l2, random_state=42, warm_start=False; total time=   0.4s\n"
          ]
        },
        {
          "output_type": "stream",
          "name": "stderr",
          "text": [
            "/usr/local/lib/python3.10/dist-packages/sklearn/linear_model/_logistic.py:458: ConvergenceWarning: lbfgs failed to converge (status=1):\n",
            "STOP: TOTAL NO. of ITERATIONS REACHED LIMIT.\n",
            "\n",
            "Increase the number of iterations (max_iter) or scale the data as shown in:\n",
            "    https://scikit-learn.org/stable/modules/preprocessing.html\n",
            "Please also refer to the documentation for alternative solver options:\n",
            "    https://scikit-learn.org/stable/modules/linear_model.html#logistic-regression\n",
            "  n_iter_i = _check_optimize_result(\n"
          ]
        },
        {
          "output_type": "stream",
          "name": "stdout",
          "text": [
            "[CV] END C=20, fit_intercept=False, max_iter=300, penalty=l2, random_state=42, warm_start=False; total time=   0.3s\n"
          ]
        },
        {
          "output_type": "stream",
          "name": "stderr",
          "text": [
            "/usr/local/lib/python3.10/dist-packages/sklearn/linear_model/_logistic.py:458: ConvergenceWarning: lbfgs failed to converge (status=1):\n",
            "STOP: TOTAL NO. of ITERATIONS REACHED LIMIT.\n",
            "\n",
            "Increase the number of iterations (max_iter) or scale the data as shown in:\n",
            "    https://scikit-learn.org/stable/modules/preprocessing.html\n",
            "Please also refer to the documentation for alternative solver options:\n",
            "    https://scikit-learn.org/stable/modules/linear_model.html#logistic-regression\n",
            "  n_iter_i = _check_optimize_result(\n"
          ]
        },
        {
          "output_type": "stream",
          "name": "stdout",
          "text": [
            "[CV] END C=20, fit_intercept=False, max_iter=300, penalty=l2, random_state=42, warm_start=False; total time=   0.3s\n"
          ]
        },
        {
          "output_type": "stream",
          "name": "stderr",
          "text": [
            "/usr/local/lib/python3.10/dist-packages/sklearn/linear_model/_logistic.py:458: ConvergenceWarning: lbfgs failed to converge (status=1):\n",
            "STOP: TOTAL NO. of ITERATIONS REACHED LIMIT.\n",
            "\n",
            "Increase the number of iterations (max_iter) or scale the data as shown in:\n",
            "    https://scikit-learn.org/stable/modules/preprocessing.html\n",
            "Please also refer to the documentation for alternative solver options:\n",
            "    https://scikit-learn.org/stable/modules/linear_model.html#logistic-regression\n",
            "  n_iter_i = _check_optimize_result(\n"
          ]
        },
        {
          "output_type": "stream",
          "name": "stdout",
          "text": [
            "[CV] END C=20, fit_intercept=False, max_iter=300, penalty=l2, random_state=15, warm_start=True; total time=   0.3s\n"
          ]
        },
        {
          "output_type": "stream",
          "name": "stderr",
          "text": [
            "/usr/local/lib/python3.10/dist-packages/sklearn/linear_model/_logistic.py:458: ConvergenceWarning: lbfgs failed to converge (status=1):\n",
            "STOP: TOTAL NO. of ITERATIONS REACHED LIMIT.\n",
            "\n",
            "Increase the number of iterations (max_iter) or scale the data as shown in:\n",
            "    https://scikit-learn.org/stable/modules/preprocessing.html\n",
            "Please also refer to the documentation for alternative solver options:\n",
            "    https://scikit-learn.org/stable/modules/linear_model.html#logistic-regression\n",
            "  n_iter_i = _check_optimize_result(\n"
          ]
        },
        {
          "output_type": "stream",
          "name": "stdout",
          "text": [
            "[CV] END C=20, fit_intercept=False, max_iter=300, penalty=l2, random_state=15, warm_start=True; total time=   0.3s\n"
          ]
        },
        {
          "output_type": "stream",
          "name": "stderr",
          "text": [
            "/usr/local/lib/python3.10/dist-packages/sklearn/linear_model/_logistic.py:458: ConvergenceWarning: lbfgs failed to converge (status=1):\n",
            "STOP: TOTAL NO. of ITERATIONS REACHED LIMIT.\n",
            "\n",
            "Increase the number of iterations (max_iter) or scale the data as shown in:\n",
            "    https://scikit-learn.org/stable/modules/preprocessing.html\n",
            "Please also refer to the documentation for alternative solver options:\n",
            "    https://scikit-learn.org/stable/modules/linear_model.html#logistic-regression\n",
            "  n_iter_i = _check_optimize_result(\n"
          ]
        },
        {
          "output_type": "stream",
          "name": "stdout",
          "text": [
            "[CV] END C=20, fit_intercept=False, max_iter=300, penalty=l2, random_state=15, warm_start=True; total time=   0.3s\n"
          ]
        },
        {
          "output_type": "stream",
          "name": "stderr",
          "text": [
            "/usr/local/lib/python3.10/dist-packages/sklearn/linear_model/_logistic.py:458: ConvergenceWarning: lbfgs failed to converge (status=1):\n",
            "STOP: TOTAL NO. of ITERATIONS REACHED LIMIT.\n",
            "\n",
            "Increase the number of iterations (max_iter) or scale the data as shown in:\n",
            "    https://scikit-learn.org/stable/modules/preprocessing.html\n",
            "Please also refer to the documentation for alternative solver options:\n",
            "    https://scikit-learn.org/stable/modules/linear_model.html#logistic-regression\n",
            "  n_iter_i = _check_optimize_result(\n"
          ]
        },
        {
          "output_type": "stream",
          "name": "stdout",
          "text": [
            "[CV] END C=20, fit_intercept=False, max_iter=300, penalty=l2, random_state=15, warm_start=False; total time=   0.3s\n"
          ]
        },
        {
          "output_type": "stream",
          "name": "stderr",
          "text": [
            "/usr/local/lib/python3.10/dist-packages/sklearn/linear_model/_logistic.py:458: ConvergenceWarning: lbfgs failed to converge (status=1):\n",
            "STOP: TOTAL NO. of ITERATIONS REACHED LIMIT.\n",
            "\n",
            "Increase the number of iterations (max_iter) or scale the data as shown in:\n",
            "    https://scikit-learn.org/stable/modules/preprocessing.html\n",
            "Please also refer to the documentation for alternative solver options:\n",
            "    https://scikit-learn.org/stable/modules/linear_model.html#logistic-regression\n",
            "  n_iter_i = _check_optimize_result(\n"
          ]
        },
        {
          "output_type": "stream",
          "name": "stdout",
          "text": [
            "[CV] END C=20, fit_intercept=False, max_iter=300, penalty=l2, random_state=15, warm_start=False; total time=   0.3s\n"
          ]
        },
        {
          "output_type": "stream",
          "name": "stderr",
          "text": [
            "/usr/local/lib/python3.10/dist-packages/sklearn/linear_model/_logistic.py:458: ConvergenceWarning: lbfgs failed to converge (status=1):\n",
            "STOP: TOTAL NO. of ITERATIONS REACHED LIMIT.\n",
            "\n",
            "Increase the number of iterations (max_iter) or scale the data as shown in:\n",
            "    https://scikit-learn.org/stable/modules/preprocessing.html\n",
            "Please also refer to the documentation for alternative solver options:\n",
            "    https://scikit-learn.org/stable/modules/linear_model.html#logistic-regression\n",
            "  n_iter_i = _check_optimize_result(\n",
            "/usr/local/lib/python3.10/dist-packages/sklearn/linear_model/_logistic.py:458: ConvergenceWarning: lbfgs failed to converge (status=1):\n",
            "STOP: TOTAL NO. of ITERATIONS REACHED LIMIT.\n",
            "\n",
            "Increase the number of iterations (max_iter) or scale the data as shown in:\n",
            "    https://scikit-learn.org/stable/modules/preprocessing.html\n",
            "Please also refer to the documentation for alternative solver options:\n",
            "    https://scikit-learn.org/stable/modules/linear_model.html#logistic-regression\n",
            "  n_iter_i = _check_optimize_result(\n"
          ]
        },
        {
          "output_type": "stream",
          "name": "stdout",
          "text": [
            "[CV] END C=20, fit_intercept=False, max_iter=300, penalty=l2, random_state=15, warm_start=False; total time=   0.3s\n",
            "[CV] END C=20, fit_intercept=False, max_iter=100, penalty=l1, random_state=21, warm_start=True; total time=   0.0s\n",
            "[CV] END C=20, fit_intercept=False, max_iter=100, penalty=l1, random_state=21, warm_start=True; total time=   0.0s\n",
            "[CV] END C=20, fit_intercept=False, max_iter=100, penalty=l1, random_state=21, warm_start=True; total time=   0.0s\n",
            "[CV] END C=20, fit_intercept=False, max_iter=100, penalty=l1, random_state=21, warm_start=False; total time=   0.0s\n",
            "[CV] END C=20, fit_intercept=False, max_iter=100, penalty=l1, random_state=21, warm_start=False; total time=   0.0s\n",
            "[CV] END C=20, fit_intercept=False, max_iter=100, penalty=l1, random_state=21, warm_start=False; total time=   0.0s\n",
            "[CV] END C=20, fit_intercept=False, max_iter=100, penalty=l1, random_state=42, warm_start=True; total time=   0.0s\n",
            "[CV] END C=20, fit_intercept=False, max_iter=100, penalty=l1, random_state=42, warm_start=True; total time=   0.0s\n",
            "[CV] END C=20, fit_intercept=False, max_iter=100, penalty=l1, random_state=42, warm_start=True; total time=   0.0s\n",
            "[CV] END C=20, fit_intercept=False, max_iter=100, penalty=l1, random_state=42, warm_start=False; total time=   0.0s\n",
            "[CV] END C=20, fit_intercept=False, max_iter=100, penalty=l1, random_state=42, warm_start=False; total time=   0.0s\n",
            "[CV] END C=20, fit_intercept=False, max_iter=100, penalty=l1, random_state=42, warm_start=False; total time=   0.0s\n",
            "[CV] END C=20, fit_intercept=False, max_iter=100, penalty=l1, random_state=15, warm_start=True; total time=   0.0s\n",
            "[CV] END C=20, fit_intercept=False, max_iter=100, penalty=l1, random_state=15, warm_start=True; total time=   0.0s\n",
            "[CV] END C=20, fit_intercept=False, max_iter=100, penalty=l1, random_state=15, warm_start=True; total time=   0.0s\n",
            "[CV] END C=20, fit_intercept=False, max_iter=100, penalty=l1, random_state=15, warm_start=False; total time=   0.0s\n",
            "[CV] END C=20, fit_intercept=False, max_iter=100, penalty=l1, random_state=15, warm_start=False; total time=   0.0s\n",
            "[CV] END C=20, fit_intercept=False, max_iter=100, penalty=l1, random_state=15, warm_start=False; total time=   0.0s\n",
            "[CV] END C=20, fit_intercept=False, max_iter=100, penalty=l2, random_state=21, warm_start=True; total time=   0.1s\n"
          ]
        },
        {
          "output_type": "stream",
          "name": "stderr",
          "text": [
            "/usr/local/lib/python3.10/dist-packages/sklearn/linear_model/_logistic.py:458: ConvergenceWarning: lbfgs failed to converge (status=1):\n",
            "STOP: TOTAL NO. of ITERATIONS REACHED LIMIT.\n",
            "\n",
            "Increase the number of iterations (max_iter) or scale the data as shown in:\n",
            "    https://scikit-learn.org/stable/modules/preprocessing.html\n",
            "Please also refer to the documentation for alternative solver options:\n",
            "    https://scikit-learn.org/stable/modules/linear_model.html#logistic-regression\n",
            "  n_iter_i = _check_optimize_result(\n",
            "/usr/local/lib/python3.10/dist-packages/sklearn/linear_model/_logistic.py:458: ConvergenceWarning: lbfgs failed to converge (status=1):\n",
            "STOP: TOTAL NO. of ITERATIONS REACHED LIMIT.\n",
            "\n",
            "Increase the number of iterations (max_iter) or scale the data as shown in:\n",
            "    https://scikit-learn.org/stable/modules/preprocessing.html\n",
            "Please also refer to the documentation for alternative solver options:\n",
            "    https://scikit-learn.org/stable/modules/linear_model.html#logistic-regression\n",
            "  n_iter_i = _check_optimize_result(\n"
          ]
        },
        {
          "output_type": "stream",
          "name": "stdout",
          "text": [
            "[CV] END C=20, fit_intercept=False, max_iter=100, penalty=l2, random_state=21, warm_start=True; total time=   0.1s\n",
            "[CV] END C=20, fit_intercept=False, max_iter=100, penalty=l2, random_state=21, warm_start=True; total time=   0.1s\n"
          ]
        },
        {
          "output_type": "stream",
          "name": "stderr",
          "text": [
            "/usr/local/lib/python3.10/dist-packages/sklearn/linear_model/_logistic.py:458: ConvergenceWarning: lbfgs failed to converge (status=1):\n",
            "STOP: TOTAL NO. of ITERATIONS REACHED LIMIT.\n",
            "\n",
            "Increase the number of iterations (max_iter) or scale the data as shown in:\n",
            "    https://scikit-learn.org/stable/modules/preprocessing.html\n",
            "Please also refer to the documentation for alternative solver options:\n",
            "    https://scikit-learn.org/stable/modules/linear_model.html#logistic-regression\n",
            "  n_iter_i = _check_optimize_result(\n",
            "/usr/local/lib/python3.10/dist-packages/sklearn/linear_model/_logistic.py:458: ConvergenceWarning: lbfgs failed to converge (status=1):\n",
            "STOP: TOTAL NO. of ITERATIONS REACHED LIMIT.\n",
            "\n",
            "Increase the number of iterations (max_iter) or scale the data as shown in:\n",
            "    https://scikit-learn.org/stable/modules/preprocessing.html\n",
            "Please also refer to the documentation for alternative solver options:\n",
            "    https://scikit-learn.org/stable/modules/linear_model.html#logistic-regression\n",
            "  n_iter_i = _check_optimize_result(\n"
          ]
        },
        {
          "output_type": "stream",
          "name": "stdout",
          "text": [
            "[CV] END C=20, fit_intercept=False, max_iter=100, penalty=l2, random_state=21, warm_start=False; total time=   0.1s\n",
            "[CV] END C=20, fit_intercept=False, max_iter=100, penalty=l2, random_state=21, warm_start=False; total time=   0.1s\n"
          ]
        },
        {
          "output_type": "stream",
          "name": "stderr",
          "text": [
            "/usr/local/lib/python3.10/dist-packages/sklearn/linear_model/_logistic.py:458: ConvergenceWarning: lbfgs failed to converge (status=1):\n",
            "STOP: TOTAL NO. of ITERATIONS REACHED LIMIT.\n",
            "\n",
            "Increase the number of iterations (max_iter) or scale the data as shown in:\n",
            "    https://scikit-learn.org/stable/modules/preprocessing.html\n",
            "Please also refer to the documentation for alternative solver options:\n",
            "    https://scikit-learn.org/stable/modules/linear_model.html#logistic-regression\n",
            "  n_iter_i = _check_optimize_result(\n",
            "/usr/local/lib/python3.10/dist-packages/sklearn/linear_model/_logistic.py:458: ConvergenceWarning: lbfgs failed to converge (status=1):\n",
            "STOP: TOTAL NO. of ITERATIONS REACHED LIMIT.\n",
            "\n",
            "Increase the number of iterations (max_iter) or scale the data as shown in:\n",
            "    https://scikit-learn.org/stable/modules/preprocessing.html\n",
            "Please also refer to the documentation for alternative solver options:\n",
            "    https://scikit-learn.org/stable/modules/linear_model.html#logistic-regression\n",
            "  n_iter_i = _check_optimize_result(\n"
          ]
        },
        {
          "output_type": "stream",
          "name": "stdout",
          "text": [
            "[CV] END C=20, fit_intercept=False, max_iter=100, penalty=l2, random_state=21, warm_start=False; total time=   0.1s\n",
            "[CV] END C=20, fit_intercept=False, max_iter=100, penalty=l2, random_state=42, warm_start=True; total time=   0.1s\n"
          ]
        },
        {
          "output_type": "stream",
          "name": "stderr",
          "text": [
            "/usr/local/lib/python3.10/dist-packages/sklearn/linear_model/_logistic.py:458: ConvergenceWarning: lbfgs failed to converge (status=1):\n",
            "STOP: TOTAL NO. of ITERATIONS REACHED LIMIT.\n",
            "\n",
            "Increase the number of iterations (max_iter) or scale the data as shown in:\n",
            "    https://scikit-learn.org/stable/modules/preprocessing.html\n",
            "Please also refer to the documentation for alternative solver options:\n",
            "    https://scikit-learn.org/stable/modules/linear_model.html#logistic-regression\n",
            "  n_iter_i = _check_optimize_result(\n",
            "/usr/local/lib/python3.10/dist-packages/sklearn/linear_model/_logistic.py:458: ConvergenceWarning: lbfgs failed to converge (status=1):\n",
            "STOP: TOTAL NO. of ITERATIONS REACHED LIMIT.\n",
            "\n",
            "Increase the number of iterations (max_iter) or scale the data as shown in:\n",
            "    https://scikit-learn.org/stable/modules/preprocessing.html\n",
            "Please also refer to the documentation for alternative solver options:\n",
            "    https://scikit-learn.org/stable/modules/linear_model.html#logistic-regression\n",
            "  n_iter_i = _check_optimize_result(\n"
          ]
        },
        {
          "output_type": "stream",
          "name": "stdout",
          "text": [
            "[CV] END C=20, fit_intercept=False, max_iter=100, penalty=l2, random_state=42, warm_start=True; total time=   0.1s\n",
            "[CV] END C=20, fit_intercept=False, max_iter=100, penalty=l2, random_state=42, warm_start=True; total time=   0.1s\n"
          ]
        },
        {
          "output_type": "stream",
          "name": "stderr",
          "text": [
            "/usr/local/lib/python3.10/dist-packages/sklearn/linear_model/_logistic.py:458: ConvergenceWarning: lbfgs failed to converge (status=1):\n",
            "STOP: TOTAL NO. of ITERATIONS REACHED LIMIT.\n",
            "\n",
            "Increase the number of iterations (max_iter) or scale the data as shown in:\n",
            "    https://scikit-learn.org/stable/modules/preprocessing.html\n",
            "Please also refer to the documentation for alternative solver options:\n",
            "    https://scikit-learn.org/stable/modules/linear_model.html#logistic-regression\n",
            "  n_iter_i = _check_optimize_result(\n",
            "/usr/local/lib/python3.10/dist-packages/sklearn/linear_model/_logistic.py:458: ConvergenceWarning: lbfgs failed to converge (status=1):\n",
            "STOP: TOTAL NO. of ITERATIONS REACHED LIMIT.\n",
            "\n",
            "Increase the number of iterations (max_iter) or scale the data as shown in:\n",
            "    https://scikit-learn.org/stable/modules/preprocessing.html\n",
            "Please also refer to the documentation for alternative solver options:\n",
            "    https://scikit-learn.org/stable/modules/linear_model.html#logistic-regression\n",
            "  n_iter_i = _check_optimize_result(\n"
          ]
        },
        {
          "output_type": "stream",
          "name": "stdout",
          "text": [
            "[CV] END C=20, fit_intercept=False, max_iter=100, penalty=l2, random_state=42, warm_start=False; total time=   0.1s\n",
            "[CV] END C=20, fit_intercept=False, max_iter=100, penalty=l2, random_state=42, warm_start=False; total time=   0.1s\n"
          ]
        },
        {
          "output_type": "stream",
          "name": "stderr",
          "text": [
            "/usr/local/lib/python3.10/dist-packages/sklearn/linear_model/_logistic.py:458: ConvergenceWarning: lbfgs failed to converge (status=1):\n",
            "STOP: TOTAL NO. of ITERATIONS REACHED LIMIT.\n",
            "\n",
            "Increase the number of iterations (max_iter) or scale the data as shown in:\n",
            "    https://scikit-learn.org/stable/modules/preprocessing.html\n",
            "Please also refer to the documentation for alternative solver options:\n",
            "    https://scikit-learn.org/stable/modules/linear_model.html#logistic-regression\n",
            "  n_iter_i = _check_optimize_result(\n",
            "/usr/local/lib/python3.10/dist-packages/sklearn/linear_model/_logistic.py:458: ConvergenceWarning: lbfgs failed to converge (status=1):\n",
            "STOP: TOTAL NO. of ITERATIONS REACHED LIMIT.\n",
            "\n",
            "Increase the number of iterations (max_iter) or scale the data as shown in:\n",
            "    https://scikit-learn.org/stable/modules/preprocessing.html\n",
            "Please also refer to the documentation for alternative solver options:\n",
            "    https://scikit-learn.org/stable/modules/linear_model.html#logistic-regression\n",
            "  n_iter_i = _check_optimize_result(\n"
          ]
        },
        {
          "output_type": "stream",
          "name": "stdout",
          "text": [
            "[CV] END C=20, fit_intercept=False, max_iter=100, penalty=l2, random_state=42, warm_start=False; total time=   0.1s\n",
            "[CV] END C=20, fit_intercept=False, max_iter=100, penalty=l2, random_state=15, warm_start=True; total time=   0.1s\n"
          ]
        },
        {
          "output_type": "stream",
          "name": "stderr",
          "text": [
            "/usr/local/lib/python3.10/dist-packages/sklearn/linear_model/_logistic.py:458: ConvergenceWarning: lbfgs failed to converge (status=1):\n",
            "STOP: TOTAL NO. of ITERATIONS REACHED LIMIT.\n",
            "\n",
            "Increase the number of iterations (max_iter) or scale the data as shown in:\n",
            "    https://scikit-learn.org/stable/modules/preprocessing.html\n",
            "Please also refer to the documentation for alternative solver options:\n",
            "    https://scikit-learn.org/stable/modules/linear_model.html#logistic-regression\n",
            "  n_iter_i = _check_optimize_result(\n",
            "/usr/local/lib/python3.10/dist-packages/sklearn/linear_model/_logistic.py:458: ConvergenceWarning: lbfgs failed to converge (status=1):\n",
            "STOP: TOTAL NO. of ITERATIONS REACHED LIMIT.\n",
            "\n",
            "Increase the number of iterations (max_iter) or scale the data as shown in:\n",
            "    https://scikit-learn.org/stable/modules/preprocessing.html\n",
            "Please also refer to the documentation for alternative solver options:\n",
            "    https://scikit-learn.org/stable/modules/linear_model.html#logistic-regression\n",
            "  n_iter_i = _check_optimize_result(\n"
          ]
        },
        {
          "output_type": "stream",
          "name": "stdout",
          "text": [
            "[CV] END C=20, fit_intercept=False, max_iter=100, penalty=l2, random_state=15, warm_start=True; total time=   0.1s\n",
            "[CV] END C=20, fit_intercept=False, max_iter=100, penalty=l2, random_state=15, warm_start=True; total time=   0.1s\n"
          ]
        },
        {
          "output_type": "stream",
          "name": "stderr",
          "text": [
            "/usr/local/lib/python3.10/dist-packages/sklearn/linear_model/_logistic.py:458: ConvergenceWarning: lbfgs failed to converge (status=1):\n",
            "STOP: TOTAL NO. of ITERATIONS REACHED LIMIT.\n",
            "\n",
            "Increase the number of iterations (max_iter) or scale the data as shown in:\n",
            "    https://scikit-learn.org/stable/modules/preprocessing.html\n",
            "Please also refer to the documentation for alternative solver options:\n",
            "    https://scikit-learn.org/stable/modules/linear_model.html#logistic-regression\n",
            "  n_iter_i = _check_optimize_result(\n",
            "/usr/local/lib/python3.10/dist-packages/sklearn/linear_model/_logistic.py:458: ConvergenceWarning: lbfgs failed to converge (status=1):\n",
            "STOP: TOTAL NO. of ITERATIONS REACHED LIMIT.\n",
            "\n",
            "Increase the number of iterations (max_iter) or scale the data as shown in:\n",
            "    https://scikit-learn.org/stable/modules/preprocessing.html\n",
            "Please also refer to the documentation for alternative solver options:\n",
            "    https://scikit-learn.org/stable/modules/linear_model.html#logistic-regression\n",
            "  n_iter_i = _check_optimize_result(\n"
          ]
        },
        {
          "output_type": "stream",
          "name": "stdout",
          "text": [
            "[CV] END C=20, fit_intercept=False, max_iter=100, penalty=l2, random_state=15, warm_start=False; total time=   0.1s\n",
            "[CV] END C=20, fit_intercept=False, max_iter=100, penalty=l2, random_state=15, warm_start=False; total time=   0.1s\n"
          ]
        },
        {
          "output_type": "stream",
          "name": "stderr",
          "text": [
            "/usr/local/lib/python3.10/dist-packages/sklearn/linear_model/_logistic.py:458: ConvergenceWarning: lbfgs failed to converge (status=1):\n",
            "STOP: TOTAL NO. of ITERATIONS REACHED LIMIT.\n",
            "\n",
            "Increase the number of iterations (max_iter) or scale the data as shown in:\n",
            "    https://scikit-learn.org/stable/modules/preprocessing.html\n",
            "Please also refer to the documentation for alternative solver options:\n",
            "    https://scikit-learn.org/stable/modules/linear_model.html#logistic-regression\n",
            "  n_iter_i = _check_optimize_result(\n",
            "/usr/local/lib/python3.10/dist-packages/sklearn/model_selection/_validation.py:378: FitFailedWarning: \n",
            "432 fits failed out of a total of 864.\n",
            "The score on these train-test partitions for these parameters will be set to nan.\n",
            "If these failures are not expected, you can try to debug them by setting error_score='raise'.\n",
            "\n",
            "Below are more details about the failures:\n",
            "--------------------------------------------------------------------------------\n",
            "432 fits failed with the following error:\n",
            "Traceback (most recent call last):\n",
            "  File \"/usr/local/lib/python3.10/dist-packages/sklearn/model_selection/_validation.py\", line 686, in _fit_and_score\n",
            "    estimator.fit(X_train, y_train, **fit_params)\n",
            "  File \"/usr/local/lib/python3.10/dist-packages/sklearn/linear_model/_logistic.py\", line 1162, in fit\n",
            "    solver = _check_solver(self.solver, self.penalty, self.dual)\n",
            "  File \"/usr/local/lib/python3.10/dist-packages/sklearn/linear_model/_logistic.py\", line 54, in _check_solver\n",
            "    raise ValueError(\n",
            "ValueError: Solver lbfgs supports only 'l2' or 'none' penalties, got l1 penalty.\n",
            "\n",
            "  warnings.warn(some_fits_failed_message, FitFailedWarning)\n",
            "/usr/local/lib/python3.10/dist-packages/sklearn/model_selection/_search.py:952: UserWarning: One or more of the test scores are non-finite: [       nan        nan        nan        nan        nan        nan\n",
            " 0.96733482 0.96733482 0.96733482 0.96733482 0.96733482 0.96733482\n",
            "        nan        nan        nan        nan        nan        nan\n",
            " 0.96733482 0.96733482 0.96733482 0.96733482 0.96733482 0.96733482\n",
            "        nan        nan        nan        nan        nan        nan\n",
            " 0.96807721 0.96807721 0.96807721 0.96807721 0.96807721 0.96807721\n",
            "        nan        nan        nan        nan        nan        nan\n",
            " 0.9688196  0.9688196  0.9688196  0.9688196  0.9688196  0.9688196\n",
            "        nan        nan        nan        nan        nan        nan\n",
            " 0.96956199 0.96956199 0.96956199 0.96956199 0.96956199 0.96956199\n",
            "        nan        nan        nan        nan        nan        nan\n",
            " 0.96956199 0.96956199 0.96956199 0.96956199 0.96956199 0.96956199\n",
            "        nan        nan        nan        nan        nan        nan\n",
            " 0.96956199 0.96956199 0.96956199 0.96956199 0.96956199 0.96956199\n",
            "        nan        nan        nan        nan        nan        nan\n",
            " 0.9688196  0.9688196  0.9688196  0.9688196  0.9688196  0.9688196\n",
            "        nan        nan        nan        nan        nan        nan\n",
            " 0.96659243 0.96659243 0.96659243 0.96659243 0.96659243 0.96659243\n",
            "        nan        nan        nan        nan        nan        nan\n",
            " 0.96659243 0.96659243 0.96659243 0.96659243 0.96659243 0.96659243\n",
            "        nan        nan        nan        nan        nan        nan\n",
            " 0.96733482 0.96733482 0.96733482 0.96733482 0.96733482 0.96733482\n",
            "        nan        nan        nan        nan        nan        nan\n",
            " 0.96807721 0.96807721 0.96807721 0.96807721 0.96807721 0.96807721\n",
            "        nan        nan        nan        nan        nan        nan\n",
            " 0.96733482 0.96733482 0.96733482 0.96733482 0.96733482 0.96733482\n",
            "        nan        nan        nan        nan        nan        nan\n",
            " 0.96733482 0.96733482 0.96733482 0.96733482 0.96733482 0.96733482\n",
            "        nan        nan        nan        nan        nan        nan\n",
            " 0.96733482 0.96733482 0.96733482 0.96733482 0.96733482 0.96733482\n",
            "        nan        nan        nan        nan        nan        nan\n",
            " 0.96807721 0.96807721 0.96807721 0.96807721 0.96807721 0.96807721\n",
            "        nan        nan        nan        nan        nan        nan\n",
            " 0.96585004 0.96585004 0.96585004 0.96585004 0.96585004 0.96585004\n",
            "        nan        nan        nan        nan        nan        nan\n",
            " 0.96659243 0.96659243 0.96659243 0.96659243 0.96659243 0.96659243\n",
            "        nan        nan        nan        nan        nan        nan\n",
            " 0.96807721 0.96807721 0.96807721 0.96807721 0.96807721 0.96807721\n",
            "        nan        nan        nan        nan        nan        nan\n",
            " 0.96733482 0.96733482 0.96733482 0.96733482 0.96733482 0.96733482\n",
            "        nan        nan        nan        nan        nan        nan\n",
            " 0.96733482 0.96733482 0.96733482 0.96733482 0.96733482 0.96733482\n",
            "        nan        nan        nan        nan        nan        nan\n",
            " 0.96733482 0.96733482 0.96733482 0.96733482 0.96733482 0.96733482\n",
            "        nan        nan        nan        nan        nan        nan\n",
            " 0.96733482 0.96733482 0.96733482 0.96733482 0.96733482 0.96733482\n",
            "        nan        nan        nan        nan        nan        nan\n",
            " 0.96659243 0.96659243 0.96659243 0.96659243 0.96659243 0.96659243]\n",
            "  warnings.warn(\n"
          ]
        },
        {
          "output_type": "stream",
          "name": "stdout",
          "text": [
            "[CV] END C=20, fit_intercept=False, max_iter=100, penalty=l2, random_state=15, warm_start=False; total time=   0.2s\n"
          ]
        },
        {
          "output_type": "execute_result",
          "data": {
            "text/plain": [
              "GridSearchCV(cv=3, estimator=LogisticRegression(),\n",
              "             param_grid={'C': [1.0, 10, 20], 'fit_intercept': [True, False],\n",
              "                         'max_iter': [1000, 500, 300, 100],\n",
              "                         'penalty': ['l1', 'l2'], 'random_state': [21, 42, 15],\n",
              "                         'warm_start': [True, False]},\n",
              "             verbose=2)"
            ],
            "text/html": [
              "<style>#sk-container-id-1 {color: black;background-color: white;}#sk-container-id-1 pre{padding: 0;}#sk-container-id-1 div.sk-toggleable {background-color: white;}#sk-container-id-1 label.sk-toggleable__label {cursor: pointer;display: block;width: 100%;margin-bottom: 0;padding: 0.3em;box-sizing: border-box;text-align: center;}#sk-container-id-1 label.sk-toggleable__label-arrow:before {content: \"▸\";float: left;margin-right: 0.25em;color: #696969;}#sk-container-id-1 label.sk-toggleable__label-arrow:hover:before {color: black;}#sk-container-id-1 div.sk-estimator:hover label.sk-toggleable__label-arrow:before {color: black;}#sk-container-id-1 div.sk-toggleable__content {max-height: 0;max-width: 0;overflow: hidden;text-align: left;background-color: #f0f8ff;}#sk-container-id-1 div.sk-toggleable__content pre {margin: 0.2em;color: black;border-radius: 0.25em;background-color: #f0f8ff;}#sk-container-id-1 input.sk-toggleable__control:checked~div.sk-toggleable__content {max-height: 200px;max-width: 100%;overflow: auto;}#sk-container-id-1 input.sk-toggleable__control:checked~label.sk-toggleable__label-arrow:before {content: \"▾\";}#sk-container-id-1 div.sk-estimator input.sk-toggleable__control:checked~label.sk-toggleable__label {background-color: #d4ebff;}#sk-container-id-1 div.sk-label input.sk-toggleable__control:checked~label.sk-toggleable__label {background-color: #d4ebff;}#sk-container-id-1 input.sk-hidden--visually {border: 0;clip: rect(1px 1px 1px 1px);clip: rect(1px, 1px, 1px, 1px);height: 1px;margin: -1px;overflow: hidden;padding: 0;position: absolute;width: 1px;}#sk-container-id-1 div.sk-estimator {font-family: monospace;background-color: #f0f8ff;border: 1px dotted black;border-radius: 0.25em;box-sizing: border-box;margin-bottom: 0.5em;}#sk-container-id-1 div.sk-estimator:hover {background-color: #d4ebff;}#sk-container-id-1 div.sk-parallel-item::after {content: \"\";width: 100%;border-bottom: 1px solid gray;flex-grow: 1;}#sk-container-id-1 div.sk-label:hover label.sk-toggleable__label {background-color: #d4ebff;}#sk-container-id-1 div.sk-serial::before {content: \"\";position: absolute;border-left: 1px solid gray;box-sizing: border-box;top: 0;bottom: 0;left: 50%;z-index: 0;}#sk-container-id-1 div.sk-serial {display: flex;flex-direction: column;align-items: center;background-color: white;padding-right: 0.2em;padding-left: 0.2em;position: relative;}#sk-container-id-1 div.sk-item {position: relative;z-index: 1;}#sk-container-id-1 div.sk-parallel {display: flex;align-items: stretch;justify-content: center;background-color: white;position: relative;}#sk-container-id-1 div.sk-item::before, #sk-container-id-1 div.sk-parallel-item::before {content: \"\";position: absolute;border-left: 1px solid gray;box-sizing: border-box;top: 0;bottom: 0;left: 50%;z-index: -1;}#sk-container-id-1 div.sk-parallel-item {display: flex;flex-direction: column;z-index: 1;position: relative;background-color: white;}#sk-container-id-1 div.sk-parallel-item:first-child::after {align-self: flex-end;width: 50%;}#sk-container-id-1 div.sk-parallel-item:last-child::after {align-self: flex-start;width: 50%;}#sk-container-id-1 div.sk-parallel-item:only-child::after {width: 0;}#sk-container-id-1 div.sk-dashed-wrapped {border: 1px dashed gray;margin: 0 0.4em 0.5em 0.4em;box-sizing: border-box;padding-bottom: 0.4em;background-color: white;}#sk-container-id-1 div.sk-label label {font-family: monospace;font-weight: bold;display: inline-block;line-height: 1.2em;}#sk-container-id-1 div.sk-label-container {text-align: center;}#sk-container-id-1 div.sk-container {/* jupyter's `normalize.less` sets `[hidden] { display: none; }` but bootstrap.min.css set `[hidden] { display: none !important; }` so we also need the `!important` here to be able to override the default hidden behavior on the sphinx rendered scikit-learn.org. See: https://github.com/scikit-learn/scikit-learn/issues/21755 */display: inline-block !important;position: relative;}#sk-container-id-1 div.sk-text-repr-fallback {display: none;}</style><div id=\"sk-container-id-1\" class=\"sk-top-container\"><div class=\"sk-text-repr-fallback\"><pre>GridSearchCV(cv=3, estimator=LogisticRegression(),\n",
              "             param_grid={&#x27;C&#x27;: [1.0, 10, 20], &#x27;fit_intercept&#x27;: [True, False],\n",
              "                         &#x27;max_iter&#x27;: [1000, 500, 300, 100],\n",
              "                         &#x27;penalty&#x27;: [&#x27;l1&#x27;, &#x27;l2&#x27;], &#x27;random_state&#x27;: [21, 42, 15],\n",
              "                         &#x27;warm_start&#x27;: [True, False]},\n",
              "             verbose=2)</pre><b>In a Jupyter environment, please rerun this cell to show the HTML representation or trust the notebook. <br />On GitHub, the HTML representation is unable to render, please try loading this page with nbviewer.org.</b></div><div class=\"sk-container\" hidden><div class=\"sk-item sk-dashed-wrapped\"><div class=\"sk-label-container\"><div class=\"sk-label sk-toggleable\"><input class=\"sk-toggleable__control sk-hidden--visually\" id=\"sk-estimator-id-1\" type=\"checkbox\" ><label for=\"sk-estimator-id-1\" class=\"sk-toggleable__label sk-toggleable__label-arrow\">GridSearchCV</label><div class=\"sk-toggleable__content\"><pre>GridSearchCV(cv=3, estimator=LogisticRegression(),\n",
              "             param_grid={&#x27;C&#x27;: [1.0, 10, 20], &#x27;fit_intercept&#x27;: [True, False],\n",
              "                         &#x27;max_iter&#x27;: [1000, 500, 300, 100],\n",
              "                         &#x27;penalty&#x27;: [&#x27;l1&#x27;, &#x27;l2&#x27;], &#x27;random_state&#x27;: [21, 42, 15],\n",
              "                         &#x27;warm_start&#x27;: [True, False]},\n",
              "             verbose=2)</pre></div></div></div><div class=\"sk-parallel\"><div class=\"sk-parallel-item\"><div class=\"sk-item\"><div class=\"sk-label-container\"><div class=\"sk-label sk-toggleable\"><input class=\"sk-toggleable__control sk-hidden--visually\" id=\"sk-estimator-id-2\" type=\"checkbox\" ><label for=\"sk-estimator-id-2\" class=\"sk-toggleable__label sk-toggleable__label-arrow\">estimator: LogisticRegression</label><div class=\"sk-toggleable__content\"><pre>LogisticRegression()</pre></div></div></div><div class=\"sk-serial\"><div class=\"sk-item\"><div class=\"sk-estimator sk-toggleable\"><input class=\"sk-toggleable__control sk-hidden--visually\" id=\"sk-estimator-id-3\" type=\"checkbox\" ><label for=\"sk-estimator-id-3\" class=\"sk-toggleable__label sk-toggleable__label-arrow\">LogisticRegression</label><div class=\"sk-toggleable__content\"><pre>LogisticRegression()</pre></div></div></div></div></div></div></div></div></div></div>"
            ]
          },
          "metadata": {},
          "execution_count": 42
        }
      ]
    },
    {
      "cell_type": "code",
      "source": [
        "gs.best_params_"
      ],
      "metadata": {
        "colab": {
          "base_uri": "https://localhost:8080/"
        },
        "id": "DvRH4OS5FVNY",
        "outputId": "a4cb00b9-064d-443d-f74e-042a8315ac65"
      },
      "execution_count": 44,
      "outputs": [
        {
          "output_type": "execute_result",
          "data": {
            "text/plain": [
              "{'C': 1.0,\n",
              " 'fit_intercept': False,\n",
              " 'max_iter': 1000,\n",
              " 'penalty': 'l2',\n",
              " 'random_state': 21,\n",
              " 'warm_start': True}"
            ]
          },
          "metadata": {},
          "execution_count": 44
        }
      ]
    },
    {
      "cell_type": "code",
      "source": [
        "y_pred3=gs.best_estimator_.predict(x_test)\n",
        "\n"
      ],
      "metadata": {
        "id": "8YqsWqD4G-jF"
      },
      "execution_count": 48,
      "outputs": []
    },
    {
      "cell_type": "code",
      "source": [
        "ax2=sns.distplot(y_test,hist=False,color='red',label=\"Actual\")\n",
        "sns.distplot(y_pred3,hist=False,color='blue',label='Predict',ax=ax2)\n",
        "plt.legend()\n",
        "plt.grid()"
      ],
      "metadata": {
        "colab": {
          "base_uri": "https://localhost:8080/",
          "height": 812
        },
        "id": "Z16mDf5GKMdU",
        "outputId": "8e356bc8-518d-4069-8cb6-32cc9e6fd070"
      },
      "execution_count": 52,
      "outputs": [
        {
          "output_type": "stream",
          "name": "stderr",
          "text": [
            "<ipython-input-52-4fd2c597e685>:1: UserWarning: \n",
            "\n",
            "`distplot` is a deprecated function and will be removed in seaborn v0.14.0.\n",
            "\n",
            "Please adapt your code to use either `displot` (a figure-level function with\n",
            "similar flexibility) or `kdeplot` (an axes-level function for kernel density plots).\n",
            "\n",
            "For a guide to updating your code to use the new functions, please see\n",
            "https://gist.github.com/mwaskom/de44147ed2974457ad6372750bbe5751\n",
            "\n",
            "  ax2=sns.distplot(y_test,hist=False,color='red',label=\"Actual\")\n",
            "<ipython-input-52-4fd2c597e685>:2: UserWarning: \n",
            "\n",
            "`distplot` is a deprecated function and will be removed in seaborn v0.14.0.\n",
            "\n",
            "Please adapt your code to use either `displot` (a figure-level function with\n",
            "similar flexibility) or `kdeplot` (an axes-level function for kernel density plots).\n",
            "\n",
            "For a guide to updating your code to use the new functions, please see\n",
            "https://gist.github.com/mwaskom/de44147ed2974457ad6372750bbe5751\n",
            "\n",
            "  sns.distplot(y_pred3,hist=False,color='blue',label='Predict',ax=ax2)\n"
          ]
        },
        {
          "output_type": "display_data",
          "data": {
            "text/plain": [
              "<Figure size 640x480 with 1 Axes>"
            ],
            "image/png": "[encoded data removed]"
          },
          "metadata": {}
        }
      ]
    },
    {
      "cell_type": "code",
      "source": [
        "from sklearn.metrics import accuracy_score\n",
        "print(f\"Accuracy Score : {accuracy_score(y_test,y_pred3)*100} %\")"
      ],
      "metadata": {
        "colab": {
          "base_uri": "https://localhost:8080/"
        },
        "id": "71V6NtN_KypE",
        "outputId": "72efd2d0-53c7-4156-ba84-0ceef77771d5"
      },
      "execution_count": 59,
      "outputs": [
        {
          "output_type": "stream",
          "name": "stdout",
          "text": [
            "Accuracy Score : 95.33333333333334 %\n"
          ]
        }
      ]
    },
    {
      "cell_type": "code",
      "source": [],
      "metadata": {
        "id": "-8w-7gznLg4a"
      },
      "execution_count": null,
      "outputs": []
    },
    {
      "cell_type": "code",
      "source": [
        "plt.plot(y_test,label=\"Actual\")\n",
        "plt.plot(y_pred3,label=\"Predict\")\n",
        "plt.legend()\n",
        "plt.grid()\n",
        "plt.show()"
      ],
      "metadata": {
        "colab": {
          "base_uri": "https://localhost:8080/",
          "height": 430
        },
        "id": "nLsnBZM3NUbC",
        "outputId": "a4661b1d-07b1-4bed-9ec2-97c1f19f2fc1"
      },
      "execution_count": 66,
      "outputs": [
        {
          "output_type": "display_data",
          "data": {
            "text/plain": [
              "<Figure size 640x480 with 1 Axes>"
            ],
            "image/png": "[encoded data removed]"
          },
          "metadata": {}
        }
      ]
    },
    {
      "cell_type": "code",
      "source": [],
      "metadata": {
        "id": "nQ05-FO0NWJ2"
      },
      "execution_count": null,
      "outputs": []
    }
  ]
}